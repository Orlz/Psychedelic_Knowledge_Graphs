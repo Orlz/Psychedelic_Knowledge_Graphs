{
 "cells": [
  {
   "cell_type": "code",
   "execution_count": 1,
   "metadata": {},
   "outputs": [
    {
     "name": "stderr",
     "output_type": "stream",
     "text": [
      "[nltk_data] Downloading package sentiwordnet to\n",
      "[nltk_data]     /home/orlam/nltk_data...\n",
      "[nltk_data]   Package sentiwordnet is already up-to-date!\n",
      "[nltk_data] Downloading package punkt to /home/orlam/nltk_data...\n",
      "[nltk_data]   Package punkt is already up-to-date!\n",
      "[nltk_data] Downloading package stopwords to /home/orlam/nltk_data...\n",
      "[nltk_data]   Package stopwords is already up-to-date!\n",
      "[nltk_data] Downloading package wordnet to /home/orlam/nltk_data...\n",
      "[nltk_data]   Package wordnet is already up-to-date!\n"
     ]
    }
   ],
   "source": [
    "#Dependencies \n",
    "import nltk\n",
    "nltk.download('sentiwordnet')\n",
    "from nltk.corpus import sentiwordnet as swn\n",
    "#tokenizer\n",
    "from nltk.tokenize import sent_tokenize, word_tokenize\n",
    "from nltk import tokenize\n",
    "nltk.download('punkt')\n",
    "#stopword removal \n",
    "nltk.download('stopwords')\n",
    "from nltk.corpus import stopwords\n",
    "stop_words = stopwords.words('english')\n",
    "#lemmantizer \n",
    "from nltk.stem import WordNetLemmatizer\n",
    "wordnet_lemmatizer = WordNetLemmatizer()\n",
    "#wordnet\n",
    "nltk.download('wordnet')\n",
    "from nltk.corpus import wordnet\n",
    "#pos_tagging\n",
    "from nltk import pos_tag\n",
    "\n",
    "#tagging\n",
    "import ssl\n",
    "from nltk.corpus import wordnet as wn\n",
    "\n",
    "\n",
    "#For data handling\n",
    "import pandas as pd\n",
    "import tqdm\n",
    "import re\n",
    "from pandas import DataFrame"
   ]
  },
  {
   "cell_type": "code",
   "execution_count": 53,
   "metadata": {},
   "outputs": [],
   "source": [
    "#Visualisation of sentiment over time \n",
    "import matplotlib.pyplot as plt\n",
    "import seaborn as sns\n",
    "from matplotlib.dates import DateFormatter"
   ]
  },
  {
   "cell_type": "code",
   "execution_count": 2,
   "metadata": {},
   "outputs": [],
   "source": [
    "#Load the data \n",
    "#Music Articles 2019 (10,426 articles)\n",
    "music_2019 = pd.read_csv(\"../data/music_related/music_texts19.csv\")\n",
    "\n",
    "#Music Articles 2020 (14,518 articles)\n",
    "music_2020 = pd.read_csv(\"../data/music_related/music_texts20.csv\")\n",
    "\n",
    "#Non-Music Articles 2019 NEEDS ADDED \n",
    "control_2019 = pd.read_csv(\"../data/non_music_related/control_texts2019.csv\")\n",
    "\n",
    "#Non-Music Articles 2020 (12,248 articles) \n",
    "control_2020 = pd.read_csv(\"../data/non_music_related/control_texts2020.csv\")"
   ]
  },
  {
   "cell_type": "markdown",
   "metadata": {},
   "source": [
    "__Remove numbers function__"
   ]
  },
  {
   "cell_type": "code",
   "execution_count": 3,
   "metadata": {},
   "outputs": [],
   "source": [
    "#Function to remove numbers \n",
    "pattern = r'[0-9]'\n",
    "pattern2 = '@'\n",
    "\n",
    "def remove_numbers(df, cleaned_text):\n",
    "    for article in df['Article']:\n",
    "        text = re.sub(pattern, '', article)\n",
    "        text = re.sub(pattern2, '', text)\n",
    "        cleaned_text.append(text)"
   ]
  },
  {
   "cell_type": "code",
   "execution_count": 4,
   "metadata": {},
   "outputs": [],
   "source": [
    "#remove numbers from music_2020\n",
    "music20_cleaned = []                           #empty list to store cleaned text \n",
    "remove_numbers(music_2020, music20_cleaned)    #perform function \n",
    "music_2020['cleaned_text'] = music20_cleaned "
   ]
  },
  {
   "cell_type": "code",
   "execution_count": 5,
   "metadata": {},
   "outputs": [],
   "source": [
    "#remove numbers from control_2020\n",
    "control20_cleaned = []                           #empty list to store cleaned text \n",
    "remove_numbers(control_2020, control20_cleaned)    #perform function \n",
    "control_2020['cleaned_text'] = control20_cleaned "
   ]
  },
  {
   "cell_type": "markdown",
   "metadata": {},
   "source": [
    "__Functions for preprocessing__"
   ]
  },
  {
   "cell_type": "code",
   "execution_count": 6,
   "metadata": {},
   "outputs": [],
   "source": [
    "# Function to preprocess Articles data\n",
    "def preprocess_Articles(data,name):\n",
    "    # Proprocessing the data\n",
    "    data[name]=data[name].str.lower()\n",
    "    # Code to remove the Special characters from the text \n",
    "    data[name]=data[name].apply(lambda x:' '.join(re.findall(r'\\w+', x)))\n",
    "    # Code to substitute the multiple spaces with single spaces\n",
    "    data[name]=data[name].apply(lambda x:re.sub(r'\\s+', ' ', x, flags=re.I))\n",
    "    # Code to remove all the single characters in the text\n",
    "    data[name]=data[name].apply(lambda x:re.sub(r'\\s+[a-zA-Z]\\s+', '', x))\n",
    "\n",
    "# Function to tokenize and remove the stopwords    \n",
    "def rem_stopwords_tokenize(data,name):\n",
    "      \n",
    "    def getting(sen):\n",
    "        example_sent = sen\n",
    "        \n",
    "        filtered_sentence = [] \n",
    "\n",
    "        stop_words = set(stopwords.words('english')) \n",
    "\n",
    "        word_tokens = word_tokenize(example_sent) \n",
    "        \n",
    "        filtered_sentence = [w for w in word_tokens if not w in stop_words] \n",
    "        \n",
    "        return filtered_sentence\n",
    "    # Using \"getting(sen)\" function to append edited sentence to data\n",
    "    x=[]\n",
    "    for i in data[name].values:\n",
    "        x.append(getting(i))\n",
    "    data[name]=x"
   ]
  },
  {
   "cell_type": "markdown",
   "metadata": {},
   "source": [
    "__Lemmatizer function__"
   ]
  },
  {
   "cell_type": "code",
   "execution_count": 7,
   "metadata": {},
   "outputs": [],
   "source": [
    "lemmatizer = WordNetLemmatizer()\n",
    "def Lemmatization(data,name):\n",
    "    def getting2(sen):\n",
    "        \n",
    "        example = sen\n",
    "        output_sentence =[]\n",
    "        word_tokens2 = word_tokenize(example)\n",
    "        lemmatized_output = [lemmatizer.lemmatize(w) for w in word_tokens2]\n",
    "        \n",
    "        # Remove characters which have length less than 2  \n",
    "        without_single_chr = [word for word in lemmatized_output if len(word) > 2]\n",
    "        # Remove numbers\n",
    "        cleaned_data_title = [word for word in without_single_chr if not word.isnumeric()]\n",
    "        \n",
    "        return cleaned_data_title\n",
    "    # Using \"getting2(sen)\" function to append edited sentence to data\n",
    "    x=[]\n",
    "    for i in data[name].values:\n",
    "        x.append(getting2(i))\n",
    "    data[name]=x"
   ]
  },
  {
   "cell_type": "markdown",
   "metadata": {},
   "source": [
    "__Function to convert text back to sentences__"
   ]
  },
  {
   "cell_type": "code",
   "execution_count": 8,
   "metadata": {},
   "outputs": [],
   "source": [
    "def make_sentences(data,name):\n",
    "    data[name]=data[name].apply(lambda x:' '.join([i+' ' for i in x]))\n",
    "    # Removing double spaces if created\n",
    "    data[name]=data[name].apply(lambda x:re.sub(r'\\s+', ' ', x, flags=re.I))"
   ]
  },
  {
   "cell_type": "markdown",
   "metadata": {},
   "source": [
    "__Function for POS tagging__"
   ]
  },
  {
   "cell_type": "code",
   "execution_count": 9,
   "metadata": {},
   "outputs": [],
   "source": [
    "def penn_to_wn(tag):\n",
    "    if tag.startswith('J'):\n",
    "        return wn.ADJ\n",
    "    elif tag.startswith('N'):\n",
    "        return wn.NOUN\n",
    "    elif tag.startswith('R'):\n",
    "        return wn.ADV\n",
    "    elif tag.startswith('V'):\n",
    "        return wn.VERB\n",
    "    return None"
   ]
  },
  {
   "cell_type": "markdown",
   "metadata": {},
   "source": [
    "__Function for Calculating sentiment__"
   ]
  },
  {
   "cell_type": "code",
   "execution_count": 10,
   "metadata": {},
   "outputs": [],
   "source": [
    "# Returns list of pos-neg and objective score. But returns empty list if not present in senti wordnet.\n",
    "def get_sentiment(word,tag):\n",
    "    wn_tag = penn_to_wn(tag)\n",
    "    \n",
    "    if wn_tag not in (wn.NOUN, wn.ADJ, wn.ADV):\n",
    "        return []\n",
    "\n",
    "    #Lemmatization\n",
    "    lemma = lemmatizer.lemmatize(word, pos=wn_tag)\n",
    "    if not lemma:\n",
    "        return []\n",
    "\n",
    "    #Synset is a special kind of a simple interface that is present in NLTK to look up words in WordNet. \n",
    "    #Synset instances are the groupings of synonymous words that express the same concept. \n",
    "    #Some of the words have only one Synset and some have several.\n",
    "    synsets = wn.synsets(word, pos=wn_tag)\n",
    "    if not synsets:\n",
    "        return []\n",
    "\n",
    "    # Take the first sense, the most common\n",
    "    synset = synsets[0]\n",
    "    swn_synset = swn.senti_synset(synset.name())\n",
    "\n",
    "    return [synset.name(), swn_synset.pos_score(),swn_synset.neg_score(),swn_synset.obj_score()]\n",
    "\n",
    "    pos=neg=obj=count=0"
   ]
  },
  {
   "cell_type": "markdown",
   "metadata": {},
   "source": [
    "## Music 2020 "
   ]
  },
  {
   "cell_type": "markdown",
   "metadata": {},
   "source": [
    "__Split Article column into sentences__"
   ]
  },
  {
   "cell_type": "code",
   "execution_count": 11,
   "metadata": {},
   "outputs": [
    {
     "data": {
      "text/html": [
       "<div>\n",
       "<style scoped>\n",
       "    .dataframe tbody tr th:only-of-type {\n",
       "        vertical-align: middle;\n",
       "    }\n",
       "\n",
       "    .dataframe tbody tr th {\n",
       "        vertical-align: top;\n",
       "    }\n",
       "\n",
       "    .dataframe thead th {\n",
       "        text-align: right;\n",
       "    }\n",
       "</style>\n",
       "<table border=\"1\" class=\"dataframe\">\n",
       "  <thead>\n",
       "    <tr style=\"text-align: right;\">\n",
       "      <th></th>\n",
       "      <th>Article</th>\n",
       "      <th>ID</th>\n",
       "      <th>_merge</th>\n",
       "      <th>Date</th>\n",
       "      <th>cleaned_text</th>\n",
       "    </tr>\n",
       "  </thead>\n",
       "  <tbody>\n",
       "    <tr>\n",
       "      <th>0</th>\n",
       "      <td>best of 702  goodluck live band member jules...</td>\n",
       "      <td>61579321</td>\n",
       "      <td>left_only</td>\n",
       "      <td>20-02-01</td>\n",
       "      <td>best of   goodluck live band member jules ha...</td>\n",
       "    </tr>\n",
       "    <tr>\n",
       "      <th>1</th>\n",
       "      <td>cape town . 30.04.19 . arts and culture mini...</td>\n",
       "      <td>61579572</td>\n",
       "      <td>left_only</td>\n",
       "      <td>20-02-01</td>\n",
       "      <td>cape town . .. . arts and culture minister n...</td>\n",
       "    </tr>\n",
       "    <tr>\n",
       "      <th>2</th>\n",
       "      <td>concert note collection of stories is music ...</td>\n",
       "      <td>61579743</td>\n",
       "      <td>left_only</td>\n",
       "      <td>20-02-01</td>\n",
       "      <td>concert note collection of stories is music ...</td>\n",
       "    </tr>\n",
       "    <tr>\n",
       "      <th>3</th>\n",
       "      <td>dancers and musicians have been striking alo...</td>\n",
       "      <td>61580605</td>\n",
       "      <td>left_only</td>\n",
       "      <td>20-02-01</td>\n",
       "      <td>dancers and musicians have been striking alo...</td>\n",
       "    </tr>\n",
       "    <tr>\n",
       "      <th>4</th>\n",
       "      <td>elon musk has made another song -- do n't do...</td>\n",
       "      <td>61580649</td>\n",
       "      <td>left_only</td>\n",
       "      <td>20-02-01</td>\n",
       "      <td>elon musk has made another song -- do n't do...</td>\n",
       "    </tr>\n",
       "  </tbody>\n",
       "</table>\n",
       "</div>"
      ],
      "text/plain": [
       "                                             Article        ID     _merge  \\\n",
       "0    best of 702  goodluck live band member jules...  61579321  left_only   \n",
       "1    cape town . 30.04.19 . arts and culture mini...  61579572  left_only   \n",
       "2    concert note collection of stories is music ...  61579743  left_only   \n",
       "3    dancers and musicians have been striking alo...  61580605  left_only   \n",
       "4    elon musk has made another song -- do n't do...  61580649  left_only   \n",
       "\n",
       "       Date                                       cleaned_text  \n",
       "0  20-02-01    best of   goodluck live band member jules ha...  \n",
       "1  20-02-01    cape town . .. . arts and culture minister n...  \n",
       "2  20-02-01    concert note collection of stories is music ...  \n",
       "3  20-02-01    dancers and musicians have been striking alo...  \n",
       "4  20-02-01    elon musk has made another song -- do n't do...  "
      ]
     },
     "execution_count": 11,
     "metadata": {},
     "output_type": "execute_result"
    }
   ],
   "source": [
    "#Take music 2020 and split it so that each sentence has it's own row \n",
    "len(music_2020) #original length = 14,518\n",
    "music_2020.head(5)"
   ]
  },
  {
   "cell_type": "code",
   "execution_count": 12,
   "metadata": {},
   "outputs": [],
   "source": [
    "#Rule for splitting sentences using regex (an efficient and widely used concept)\n",
    "rule = r\"(?<!\\w\\.\\w.)(?<![A-Z][a-z]\\.)(?<=\\.|\\?)\\s\"\n",
    "\n",
    "#tokenise sentences using rule as the delimter \n",
    "music20_split = DataFrame(music_2020.cleaned_text.str.split(rule).tolist(), index=music_2020.ID).stack()"
   ]
  },
  {
   "cell_type": "code",
   "execution_count": 13,
   "metadata": {},
   "outputs": [],
   "source": [
    "music20_split = music20_split.reset_index()[[0, 'ID']]\n",
    "music20_split.columns = ['cleaned_text', 'ID'] # renaming variables"
   ]
  },
  {
   "cell_type": "code",
   "execution_count": 14,
   "metadata": {},
   "outputs": [
    {
     "data": {
      "text/html": [
       "<div>\n",
       "<style scoped>\n",
       "    .dataframe tbody tr th:only-of-type {\n",
       "        vertical-align: middle;\n",
       "    }\n",
       "\n",
       "    .dataframe tbody tr th {\n",
       "        vertical-align: top;\n",
       "    }\n",
       "\n",
       "    .dataframe thead th {\n",
       "        text-align: right;\n",
       "    }\n",
       "</style>\n",
       "<table border=\"1\" class=\"dataframe\">\n",
       "  <thead>\n",
       "    <tr style=\"text-align: right;\">\n",
       "      <th></th>\n",
       "      <th>cleaned_text</th>\n",
       "      <th>ID</th>\n",
       "    </tr>\n",
       "  </thead>\n",
       "  <tbody>\n",
       "    <tr>\n",
       "      <th>0</th>\n",
       "      <td>best of   goodluck live band member jules ha...</td>\n",
       "      <td>61579321</td>\n",
       "    </tr>\n",
       "    <tr>\n",
       "      <th>1</th>\n",
       "      <td>harding has shared how even after her motivat...</td>\n",
       "      <td>61579321</td>\n",
       "    </tr>\n",
       "    <tr>\n",
       "      <th>2</th>\n",
       "      <td>she says she had been suffering from severe b...</td>\n",
       "      <td>61579321</td>\n",
       "    </tr>\n",
       "    <tr>\n",
       "      <th>3</th>\n",
       "      <td>harding says she was told that \" this is an e...</td>\n",
       "      <td>61579321</td>\n",
       "    </tr>\n",
       "    <tr>\n",
       "      <th>4</th>\n",
       "      <td>it is such a pity that this is something that...</td>\n",
       "      <td>61579321</td>\n",
       "    </tr>\n",
       "  </tbody>\n",
       "</table>\n",
       "</div>"
      ],
      "text/plain": [
       "                                        cleaned_text        ID\n",
       "0    best of   goodluck live band member jules ha...  61579321\n",
       "1   harding has shared how even after her motivat...  61579321\n",
       "2   she says she had been suffering from severe b...  61579321\n",
       "3   harding says she was told that \" this is an e...  61579321\n",
       "4   it is such a pity that this is something that...  61579321"
      ]
     },
     "execution_count": 14,
     "metadata": {},
     "output_type": "execute_result"
    }
   ],
   "source": [
    "music20_split.head(5) #371,391 rows long "
   ]
  },
  {
   "cell_type": "markdown",
   "metadata": {},
   "source": [
    "__Now add the Date column, matched by ID__"
   ]
  },
  {
   "cell_type": "code",
   "execution_count": 15,
   "metadata": {},
   "outputs": [
    {
     "data": {
      "text/html": [
       "<div>\n",
       "<style scoped>\n",
       "    .dataframe tbody tr th:only-of-type {\n",
       "        vertical-align: middle;\n",
       "    }\n",
       "\n",
       "    .dataframe tbody tr th {\n",
       "        vertical-align: top;\n",
       "    }\n",
       "\n",
       "    .dataframe thead th {\n",
       "        text-align: right;\n",
       "    }\n",
       "</style>\n",
       "<table border=\"1\" class=\"dataframe\">\n",
       "  <thead>\n",
       "    <tr style=\"text-align: right;\">\n",
       "      <th></th>\n",
       "      <th>Date</th>\n",
       "      <th>ID</th>\n",
       "    </tr>\n",
       "  </thead>\n",
       "  <tbody>\n",
       "    <tr>\n",
       "      <th>0</th>\n",
       "      <td>20-02-01</td>\n",
       "      <td>61579321</td>\n",
       "    </tr>\n",
       "    <tr>\n",
       "      <th>1</th>\n",
       "      <td>20-02-01</td>\n",
       "      <td>61579572</td>\n",
       "    </tr>\n",
       "    <tr>\n",
       "      <th>2</th>\n",
       "      <td>20-02-01</td>\n",
       "      <td>61579743</td>\n",
       "    </tr>\n",
       "  </tbody>\n",
       "</table>\n",
       "</div>"
      ],
      "text/plain": [
       "       Date        ID\n",
       "0  20-02-01  61579321\n",
       "1  20-02-01  61579572\n",
       "2  20-02-01  61579743"
      ]
     },
     "execution_count": 15,
     "metadata": {},
     "output_type": "execute_result"
    }
   ],
   "source": [
    "#Split away only the needed columns \n",
    "date_matchM20 = music_2020[['Date', 'ID']]\n",
    "date_matchM20.head(3) #check "
   ]
  },
  {
   "cell_type": "code",
   "execution_count": 16,
   "metadata": {},
   "outputs": [
    {
     "name": "stdout",
     "output_type": "stream",
     "text": [
      "cleaned_text    object\n",
      "ID               int64\n",
      "dtype: object\n"
     ]
    }
   ],
   "source": [
    "#Make ID column of music20_split into an int \n",
    "music20_split['ID'] = music20_split['ID'].astype('int')\n",
    "print(music20_split.dtypes)"
   ]
  },
  {
   "cell_type": "code",
   "execution_count": 17,
   "metadata": {},
   "outputs": [],
   "source": [
    "#Merge the date column onto music20_split \n",
    "music20_split = pd.merge(left = music20_split, right = date_matchM20, how='left', on='ID')"
   ]
  },
  {
   "cell_type": "code",
   "execution_count": 18,
   "metadata": {},
   "outputs": [
    {
     "data": {
      "text/html": [
       "<div>\n",
       "<style scoped>\n",
       "    .dataframe tbody tr th:only-of-type {\n",
       "        vertical-align: middle;\n",
       "    }\n",
       "\n",
       "    .dataframe tbody tr th {\n",
       "        vertical-align: top;\n",
       "    }\n",
       "\n",
       "    .dataframe thead th {\n",
       "        text-align: right;\n",
       "    }\n",
       "</style>\n",
       "<table border=\"1\" class=\"dataframe\">\n",
       "  <thead>\n",
       "    <tr style=\"text-align: right;\">\n",
       "      <th></th>\n",
       "      <th>cleaned_text</th>\n",
       "      <th>ID</th>\n",
       "      <th>Date</th>\n",
       "    </tr>\n",
       "  </thead>\n",
       "  <tbody>\n",
       "    <tr>\n",
       "      <th>0</th>\n",
       "      <td>best of   goodluck live band member jules ha...</td>\n",
       "      <td>61579321</td>\n",
       "      <td>20-02-01</td>\n",
       "    </tr>\n",
       "    <tr>\n",
       "      <th>1</th>\n",
       "      <td>harding has shared how even after her motivat...</td>\n",
       "      <td>61579321</td>\n",
       "      <td>20-02-01</td>\n",
       "    </tr>\n",
       "    <tr>\n",
       "      <th>2</th>\n",
       "      <td>she says she had been suffering from severe b...</td>\n",
       "      <td>61579321</td>\n",
       "      <td>20-02-01</td>\n",
       "    </tr>\n",
       "    <tr>\n",
       "      <th>3</th>\n",
       "      <td>harding says she was told that \" this is an e...</td>\n",
       "      <td>61579321</td>\n",
       "      <td>20-02-01</td>\n",
       "    </tr>\n",
       "    <tr>\n",
       "      <th>4</th>\n",
       "      <td>it is such a pity that this is something that...</td>\n",
       "      <td>61579321</td>\n",
       "      <td>20-02-01</td>\n",
       "    </tr>\n",
       "  </tbody>\n",
       "</table>\n",
       "</div>"
      ],
      "text/plain": [
       "                                        cleaned_text        ID      Date\n",
       "0    best of   goodluck live band member jules ha...  61579321  20-02-01\n",
       "1   harding has shared how even after her motivat...  61579321  20-02-01\n",
       "2   she says she had been suffering from severe b...  61579321  20-02-01\n",
       "3   harding says she was told that \" this is an e...  61579321  20-02-01\n",
       "4   it is such a pity that this is something that...  61579321  20-02-01"
      ]
     },
     "execution_count": 18,
     "metadata": {},
     "output_type": "execute_result"
    }
   ],
   "source": [
    "music20_split.head(5)"
   ]
  },
  {
   "cell_type": "markdown",
   "metadata": {},
   "source": [
    "__Create a text column to edit of the text__"
   ]
  },
  {
   "cell_type": "code",
   "execution_count": 19,
   "metadata": {},
   "outputs": [
    {
     "data": {
      "text/html": [
       "<div>\n",
       "<style scoped>\n",
       "    .dataframe tbody tr th:only-of-type {\n",
       "        vertical-align: middle;\n",
       "    }\n",
       "\n",
       "    .dataframe tbody tr th {\n",
       "        vertical-align: top;\n",
       "    }\n",
       "\n",
       "    .dataframe thead th {\n",
       "        text-align: right;\n",
       "    }\n",
       "</style>\n",
       "<table border=\"1\" class=\"dataframe\">\n",
       "  <thead>\n",
       "    <tr style=\"text-align: right;\">\n",
       "      <th></th>\n",
       "      <th>cleaned_text</th>\n",
       "      <th>ID</th>\n",
       "      <th>Date</th>\n",
       "      <th>Article_without_stopwords</th>\n",
       "    </tr>\n",
       "  </thead>\n",
       "  <tbody>\n",
       "    <tr>\n",
       "      <th>0</th>\n",
       "      <td>best of   goodluck live band member jules ha...</td>\n",
       "      <td>61579321</td>\n",
       "      <td>20-02-01</td>\n",
       "      <td>best of   goodluck live band member jules ha...</td>\n",
       "    </tr>\n",
       "    <tr>\n",
       "      <th>1</th>\n",
       "      <td>harding has shared how even after her motivat...</td>\n",
       "      <td>61579321</td>\n",
       "      <td>20-02-01</td>\n",
       "      <td>harding has shared how even after her motivat...</td>\n",
       "    </tr>\n",
       "    <tr>\n",
       "      <th>2</th>\n",
       "      <td>she says she had been suffering from severe b...</td>\n",
       "      <td>61579321</td>\n",
       "      <td>20-02-01</td>\n",
       "      <td>she says she had been suffering from severe b...</td>\n",
       "    </tr>\n",
       "    <tr>\n",
       "      <th>3</th>\n",
       "      <td>harding says she was told that \" this is an e...</td>\n",
       "      <td>61579321</td>\n",
       "      <td>20-02-01</td>\n",
       "      <td>harding says she was told that \" this is an e...</td>\n",
       "    </tr>\n",
       "    <tr>\n",
       "      <th>4</th>\n",
       "      <td>it is such a pity that this is something that...</td>\n",
       "      <td>61579321</td>\n",
       "      <td>20-02-01</td>\n",
       "      <td>it is such a pity that this is something that...</td>\n",
       "    </tr>\n",
       "  </tbody>\n",
       "</table>\n",
       "</div>"
      ],
      "text/plain": [
       "                                        cleaned_text        ID      Date  \\\n",
       "0    best of   goodluck live band member jules ha...  61579321  20-02-01   \n",
       "1   harding has shared how even after her motivat...  61579321  20-02-01   \n",
       "2   she says she had been suffering from severe b...  61579321  20-02-01   \n",
       "3   harding says she was told that \" this is an e...  61579321  20-02-01   \n",
       "4   it is such a pity that this is something that...  61579321  20-02-01   \n",
       "\n",
       "                           Article_without_stopwords  \n",
       "0    best of   goodluck live band member jules ha...  \n",
       "1   harding has shared how even after her motivat...  \n",
       "2   she says she had been suffering from severe b...  \n",
       "3   harding says she was told that \" this is an e...  \n",
       "4   it is such a pity that this is something that...  "
      ]
     },
     "execution_count": 19,
     "metadata": {},
     "output_type": "execute_result"
    }
   ],
   "source": [
    "#Duplicating text column to edit \n",
    "Edited_sentence = music20_split['cleaned_text'].copy()\n",
    "music20_split['Article_without_stopwords'] = Edited_sentence\n",
    "music20_split.head(5)"
   ]
  },
  {
   "cell_type": "markdown",
   "metadata": {},
   "source": [
    "_Now we have a dataframe where every sentence is on it's own line, with the original article ID, and the date of publication_"
   ]
  },
  {
   "cell_type": "markdown",
   "metadata": {},
   "source": [
    "__Preprocess the data__"
   ]
  },
  {
   "cell_type": "code",
   "execution_count": 20,
   "metadata": {},
   "outputs": [],
   "source": [
    "# Using the preprocessing function to preprocess the hotel data\n",
    "preprocess_Articles(music20_split, 'Article_without_stopwords')"
   ]
  },
  {
   "cell_type": "markdown",
   "metadata": {},
   "source": [
    "__Tokenize and remove stopwords__"
   ]
  },
  {
   "cell_type": "code",
   "execution_count": 21,
   "metadata": {},
   "outputs": [],
   "source": [
    "# Using tokenizer and removing the stopwords\n",
    "rem_stopwords_tokenize(music20_split, 'Article_without_stopwords')"
   ]
  },
  {
   "cell_type": "markdown",
   "metadata": {},
   "source": [
    "__Convert all text to sentences__"
   ]
  },
  {
   "cell_type": "code",
   "execution_count": 22,
   "metadata": {},
   "outputs": [],
   "source": [
    "# Converting all the texts back to sentences\n",
    "make_sentences(music20_split, 'Article_without_stopwords')"
   ]
  },
  {
   "cell_type": "code",
   "execution_count": 23,
   "metadata": {},
   "outputs": [
    {
     "data": {
      "text/html": [
       "<div>\n",
       "<style scoped>\n",
       "    .dataframe tbody tr th:only-of-type {\n",
       "        vertical-align: middle;\n",
       "    }\n",
       "\n",
       "    .dataframe tbody tr th {\n",
       "        vertical-align: top;\n",
       "    }\n",
       "\n",
       "    .dataframe thead th {\n",
       "        text-align: right;\n",
       "    }\n",
       "</style>\n",
       "<table border=\"1\" class=\"dataframe\">\n",
       "  <thead>\n",
       "    <tr style=\"text-align: right;\">\n",
       "      <th></th>\n",
       "      <th>cleaned_text</th>\n",
       "      <th>ID</th>\n",
       "      <th>Date</th>\n",
       "      <th>Article_without_stopwords</th>\n",
       "    </tr>\n",
       "  </thead>\n",
       "  <tbody>\n",
       "    <tr>\n",
       "      <th>0</th>\n",
       "      <td>best of   goodluck live band member jules ha...</td>\n",
       "      <td>61579321</td>\n",
       "      <td>20-02-01</td>\n",
       "      <td>best goodluck live band member jules harding c...</td>\n",
       "    </tr>\n",
       "    <tr>\n",
       "      <th>1</th>\n",
       "      <td>harding has shared how even after her motivat...</td>\n",
       "      <td>61579321</td>\n",
       "      <td>20-02-01</td>\n",
       "      <td>harding shared even motivation well letters me...</td>\n",
       "    </tr>\n",
       "    <tr>\n",
       "      <th>2</th>\n",
       "      <td>she says she had been suffering from severe b...</td>\n",
       "      <td>61579321</td>\n",
       "      <td>20-02-01</td>\n",
       "      <td>says suffering severe back pain sought help</td>\n",
       "    </tr>\n",
       "    <tr>\n",
       "      <th>3</th>\n",
       "      <td>harding says she was told that \" this is an e...</td>\n",
       "      <td>61579321</td>\n",
       "      <td>20-02-01</td>\n",
       "      <td>harding says told exclusionary procedure cover...</td>\n",
       "    </tr>\n",
       "    <tr>\n",
       "      <th>4</th>\n",
       "      <td>it is such a pity that this is something that...</td>\n",
       "      <td>61579321</td>\n",
       "      <td>20-02-01</td>\n",
       "      <td>suchpity something considered something medica...</td>\n",
       "    </tr>\n",
       "  </tbody>\n",
       "</table>\n",
       "</div>"
      ],
      "text/plain": [
       "                                        cleaned_text        ID      Date  \\\n",
       "0    best of   goodluck live band member jules ha...  61579321  20-02-01   \n",
       "1   harding has shared how even after her motivat...  61579321  20-02-01   \n",
       "2   she says she had been suffering from severe b...  61579321  20-02-01   \n",
       "3   harding says she was told that \" this is an e...  61579321  20-02-01   \n",
       "4   it is such a pity that this is something that...  61579321  20-02-01   \n",
       "\n",
       "                           Article_without_stopwords  \n",
       "0  best goodluck live band member jules harding c...  \n",
       "1  harding shared even motivation well letters me...  \n",
       "2       says suffering severe back pain sought help   \n",
       "3  harding says told exclusionary procedure cover...  \n",
       "4  suchpity something considered something medica...  "
      ]
     },
     "execution_count": 23,
     "metadata": {},
     "output_type": "execute_result"
    }
   ],
   "source": [
    "music20_split.head(5)"
   ]
  },
  {
   "cell_type": "markdown",
   "metadata": {},
   "source": [
    "__Create final edits column__"
   ]
  },
  {
   "cell_type": "code",
   "execution_count": 24,
   "metadata": {},
   "outputs": [],
   "source": [
    "#Create new column for final edits \n",
    "final_Edit = music20_split['Article_without_stopwords'].copy()\n",
    "music20_split[\"After_lemmatization\"] = final_Edit"
   ]
  },
  {
   "cell_type": "code",
   "execution_count": 25,
   "metadata": {},
   "outputs": [
    {
     "data": {
      "text/html": [
       "<div>\n",
       "<style scoped>\n",
       "    .dataframe tbody tr th:only-of-type {\n",
       "        vertical-align: middle;\n",
       "    }\n",
       "\n",
       "    .dataframe tbody tr th {\n",
       "        vertical-align: top;\n",
       "    }\n",
       "\n",
       "    .dataframe thead th {\n",
       "        text-align: right;\n",
       "    }\n",
       "</style>\n",
       "<table border=\"1\" class=\"dataframe\">\n",
       "  <thead>\n",
       "    <tr style=\"text-align: right;\">\n",
       "      <th></th>\n",
       "      <th>cleaned_text</th>\n",
       "      <th>ID</th>\n",
       "      <th>Date</th>\n",
       "      <th>Article_without_stopwords</th>\n",
       "      <th>After_lemmatization</th>\n",
       "    </tr>\n",
       "  </thead>\n",
       "  <tbody>\n",
       "    <tr>\n",
       "      <th>0</th>\n",
       "      <td>best of   goodluck live band member jules ha...</td>\n",
       "      <td>61579321</td>\n",
       "      <td>20-02-01</td>\n",
       "      <td>best goodluck live band member jules harding c...</td>\n",
       "      <td>best goodluck live band member jules harding c...</td>\n",
       "    </tr>\n",
       "    <tr>\n",
       "      <th>1</th>\n",
       "      <td>harding has shared how even after her motivat...</td>\n",
       "      <td>61579321</td>\n",
       "      <td>20-02-01</td>\n",
       "      <td>harding shared even motivation well letters me...</td>\n",
       "      <td>harding shared even motivation well letters me...</td>\n",
       "    </tr>\n",
       "    <tr>\n",
       "      <th>2</th>\n",
       "      <td>she says she had been suffering from severe b...</td>\n",
       "      <td>61579321</td>\n",
       "      <td>20-02-01</td>\n",
       "      <td>says suffering severe back pain sought help</td>\n",
       "      <td>says suffering severe back pain sought help</td>\n",
       "    </tr>\n",
       "    <tr>\n",
       "      <th>3</th>\n",
       "      <td>harding says she was told that \" this is an e...</td>\n",
       "      <td>61579321</td>\n",
       "      <td>20-02-01</td>\n",
       "      <td>harding says told exclusionary procedure cover...</td>\n",
       "      <td>harding says told exclusionary procedure cover...</td>\n",
       "    </tr>\n",
       "    <tr>\n",
       "      <th>4</th>\n",
       "      <td>it is such a pity that this is something that...</td>\n",
       "      <td>61579321</td>\n",
       "      <td>20-02-01</td>\n",
       "      <td>suchpity something considered something medica...</td>\n",
       "      <td>suchpity something considered something medica...</td>\n",
       "    </tr>\n",
       "  </tbody>\n",
       "</table>\n",
       "</div>"
      ],
      "text/plain": [
       "                                        cleaned_text        ID      Date  \\\n",
       "0    best of   goodluck live band member jules ha...  61579321  20-02-01   \n",
       "1   harding has shared how even after her motivat...  61579321  20-02-01   \n",
       "2   she says she had been suffering from severe b...  61579321  20-02-01   \n",
       "3   harding says she was told that \" this is an e...  61579321  20-02-01   \n",
       "4   it is such a pity that this is something that...  61579321  20-02-01   \n",
       "\n",
       "                           Article_without_stopwords  \\\n",
       "0  best goodluck live band member jules harding c...   \n",
       "1  harding shared even motivation well letters me...   \n",
       "2       says suffering severe back pain sought help    \n",
       "3  harding says told exclusionary procedure cover...   \n",
       "4  suchpity something considered something medica...   \n",
       "\n",
       "                                 After_lemmatization  \n",
       "0  best goodluck live band member jules harding c...  \n",
       "1  harding shared even motivation well letters me...  \n",
       "2       says suffering severe back pain sought help   \n",
       "3  harding says told exclusionary procedure cover...  \n",
       "4  suchpity something considered something medica...  "
      ]
     },
     "execution_count": 25,
     "metadata": {},
     "output_type": "execute_result"
    }
   ],
   "source": [
    "music20_split.head(5)"
   ]
  },
  {
   "cell_type": "markdown",
   "metadata": {},
   "source": [
    "__Lemmatize__"
   ]
  },
  {
   "cell_type": "code",
   "execution_count": 26,
   "metadata": {},
   "outputs": [],
   "source": [
    "# Using the Lemmatization function to lemmatize the hotel data\n",
    "Lemmatization(music20_split,'After_lemmatization')"
   ]
  },
  {
   "cell_type": "code",
   "execution_count": 27,
   "metadata": {},
   "outputs": [],
   "source": [
    "# Converting all the texts back to sentences\n",
    "make_sentences(music20_split, 'After_lemmatization')"
   ]
  },
  {
   "cell_type": "code",
   "execution_count": 28,
   "metadata": {},
   "outputs": [
    {
     "data": {
      "text/html": [
       "<div>\n",
       "<style scoped>\n",
       "    .dataframe tbody tr th:only-of-type {\n",
       "        vertical-align: middle;\n",
       "    }\n",
       "\n",
       "    .dataframe tbody tr th {\n",
       "        vertical-align: top;\n",
       "    }\n",
       "\n",
       "    .dataframe thead th {\n",
       "        text-align: right;\n",
       "    }\n",
       "</style>\n",
       "<table border=\"1\" class=\"dataframe\">\n",
       "  <thead>\n",
       "    <tr style=\"text-align: right;\">\n",
       "      <th></th>\n",
       "      <th>cleaned_text</th>\n",
       "      <th>ID</th>\n",
       "      <th>Date</th>\n",
       "      <th>Article_without_stopwords</th>\n",
       "      <th>After_lemmatization</th>\n",
       "    </tr>\n",
       "  </thead>\n",
       "  <tbody>\n",
       "    <tr>\n",
       "      <th>0</th>\n",
       "      <td>best of   goodluck live band member jules ha...</td>\n",
       "      <td>61579321</td>\n",
       "      <td>20-02-01</td>\n",
       "      <td>best goodluck live band member jules harding c...</td>\n",
       "      <td>best goodluck live band member jules harding c...</td>\n",
       "    </tr>\n",
       "    <tr>\n",
       "      <th>1</th>\n",
       "      <td>harding has shared how even after her motivat...</td>\n",
       "      <td>61579321</td>\n",
       "      <td>20-02-01</td>\n",
       "      <td>harding shared even motivation well letters me...</td>\n",
       "      <td>harding shared even motivation well letter med...</td>\n",
       "    </tr>\n",
       "    <tr>\n",
       "      <th>2</th>\n",
       "      <td>she says she had been suffering from severe b...</td>\n",
       "      <td>61579321</td>\n",
       "      <td>20-02-01</td>\n",
       "      <td>says suffering severe back pain sought help</td>\n",
       "      <td>say suffering severe back pain sought help</td>\n",
       "    </tr>\n",
       "    <tr>\n",
       "      <th>3</th>\n",
       "      <td>harding says she was told that \" this is an e...</td>\n",
       "      <td>61579321</td>\n",
       "      <td>20-02-01</td>\n",
       "      <td>harding says told exclusionary procedure cover...</td>\n",
       "      <td>harding say told exclusionary procedure cover ...</td>\n",
       "    </tr>\n",
       "    <tr>\n",
       "      <th>4</th>\n",
       "      <td>it is such a pity that this is something that...</td>\n",
       "      <td>61579321</td>\n",
       "      <td>20-02-01</td>\n",
       "      <td>suchpity something considered something medica...</td>\n",
       "      <td>suchpity something considered something medica...</td>\n",
       "    </tr>\n",
       "  </tbody>\n",
       "</table>\n",
       "</div>"
      ],
      "text/plain": [
       "                                        cleaned_text        ID      Date  \\\n",
       "0    best of   goodluck live band member jules ha...  61579321  20-02-01   \n",
       "1   harding has shared how even after her motivat...  61579321  20-02-01   \n",
       "2   she says she had been suffering from severe b...  61579321  20-02-01   \n",
       "3   harding says she was told that \" this is an e...  61579321  20-02-01   \n",
       "4   it is such a pity that this is something that...  61579321  20-02-01   \n",
       "\n",
       "                           Article_without_stopwords  \\\n",
       "0  best goodluck live band member jules harding c...   \n",
       "1  harding shared even motivation well letters me...   \n",
       "2       says suffering severe back pain sought help    \n",
       "3  harding says told exclusionary procedure cover...   \n",
       "4  suchpity something considered something medica...   \n",
       "\n",
       "                                 After_lemmatization  \n",
       "0  best goodluck live band member jules harding c...  \n",
       "1  harding shared even motivation well letter med...  \n",
       "2        say suffering severe back pain sought help   \n",
       "3  harding say told exclusionary procedure cover ...  \n",
       "4  suchpity something considered something medica...  "
      ]
     },
     "execution_count": 28,
     "metadata": {},
     "output_type": "execute_result"
    }
   ],
   "source": [
    "music20_split.head(5)"
   ]
  },
  {
   "cell_type": "markdown",
   "metadata": {},
   "source": [
    "__Tagging the words__"
   ]
  },
  {
   "cell_type": "code",
   "execution_count": 29,
   "metadata": {},
   "outputs": [],
   "source": [
    "pos=neg=obj=count=0\n",
    "\n",
    "postagging_music20 = []\n",
    "\n",
    "for article in music20_split ['After_lemmatization']:\n",
    "    list = word_tokenize(article)\n",
    "    postagging_music20.append(nltk.pos_tag(list))\n",
    "\n",
    "music20_split['pos_tags'] = postagging_music20"
   ]
  },
  {
   "cell_type": "code",
   "execution_count": 30,
   "metadata": {},
   "outputs": [
    {
     "data": {
      "text/html": [
       "<div>\n",
       "<style scoped>\n",
       "    .dataframe tbody tr th:only-of-type {\n",
       "        vertical-align: middle;\n",
       "    }\n",
       "\n",
       "    .dataframe tbody tr th {\n",
       "        vertical-align: top;\n",
       "    }\n",
       "\n",
       "    .dataframe thead th {\n",
       "        text-align: right;\n",
       "    }\n",
       "</style>\n",
       "<table border=\"1\" class=\"dataframe\">\n",
       "  <thead>\n",
       "    <tr style=\"text-align: right;\">\n",
       "      <th></th>\n",
       "      <th>cleaned_text</th>\n",
       "      <th>ID</th>\n",
       "      <th>Date</th>\n",
       "      <th>Article_without_stopwords</th>\n",
       "      <th>After_lemmatization</th>\n",
       "      <th>pos_tags</th>\n",
       "    </tr>\n",
       "  </thead>\n",
       "  <tbody>\n",
       "    <tr>\n",
       "      <th>0</th>\n",
       "      <td>best of   goodluck live band member jules ha...</td>\n",
       "      <td>61579321</td>\n",
       "      <td>20-02-01</td>\n",
       "      <td>best goodluck live band member jules harding c...</td>\n",
       "      <td>best goodluck live band member jules harding c...</td>\n",
       "      <td>[(best, JJS), (goodluck, NN), (live, JJ), (ban...</td>\n",
       "    </tr>\n",
       "    <tr>\n",
       "      <th>1</th>\n",
       "      <td>harding has shared how even after her motivat...</td>\n",
       "      <td>61579321</td>\n",
       "      <td>20-02-01</td>\n",
       "      <td>harding shared even motivation well letters me...</td>\n",
       "      <td>harding shared even motivation well letter med...</td>\n",
       "      <td>[(harding, VBG), (shared, VBD), (even, RB), (m...</td>\n",
       "    </tr>\n",
       "    <tr>\n",
       "      <th>2</th>\n",
       "      <td>she says she had been suffering from severe b...</td>\n",
       "      <td>61579321</td>\n",
       "      <td>20-02-01</td>\n",
       "      <td>says suffering severe back pain sought help</td>\n",
       "      <td>say suffering severe back pain sought help</td>\n",
       "      <td>[(say, VB), (suffering, VBG), (severe, JJ), (b...</td>\n",
       "    </tr>\n",
       "    <tr>\n",
       "      <th>3</th>\n",
       "      <td>harding says she was told that \" this is an e...</td>\n",
       "      <td>61579321</td>\n",
       "      <td>20-02-01</td>\n",
       "      <td>harding says told exclusionary procedure cover...</td>\n",
       "      <td>harding say told exclusionary procedure cover ...</td>\n",
       "      <td>[(harding, VBG), (say, VBP), (told, VBN), (exc...</td>\n",
       "    </tr>\n",
       "    <tr>\n",
       "      <th>4</th>\n",
       "      <td>it is such a pity that this is something that...</td>\n",
       "      <td>61579321</td>\n",
       "      <td>20-02-01</td>\n",
       "      <td>suchpity something considered something medica...</td>\n",
       "      <td>suchpity something considered something medica...</td>\n",
       "      <td>[(suchpity, NN), (something, NN), (considered,...</td>\n",
       "    </tr>\n",
       "  </tbody>\n",
       "</table>\n",
       "</div>"
      ],
      "text/plain": [
       "                                        cleaned_text        ID      Date  \\\n",
       "0    best of   goodluck live band member jules ha...  61579321  20-02-01   \n",
       "1   harding has shared how even after her motivat...  61579321  20-02-01   \n",
       "2   she says she had been suffering from severe b...  61579321  20-02-01   \n",
       "3   harding says she was told that \" this is an e...  61579321  20-02-01   \n",
       "4   it is such a pity that this is something that...  61579321  20-02-01   \n",
       "\n",
       "                           Article_without_stopwords  \\\n",
       "0  best goodluck live band member jules harding c...   \n",
       "1  harding shared even motivation well letters me...   \n",
       "2       says suffering severe back pain sought help    \n",
       "3  harding says told exclusionary procedure cover...   \n",
       "4  suchpity something considered something medica...   \n",
       "\n",
       "                                 After_lemmatization  \\\n",
       "0  best goodluck live band member jules harding c...   \n",
       "1  harding shared even motivation well letter med...   \n",
       "2        say suffering severe back pain sought help    \n",
       "3  harding say told exclusionary procedure cover ...   \n",
       "4  suchpity something considered something medica...   \n",
       "\n",
       "                                            pos_tags  \n",
       "0  [(best, JJS), (goodluck, NN), (live, JJ), (ban...  \n",
       "1  [(harding, VBG), (shared, VBD), (even, RB), (m...  \n",
       "2  [(say, VB), (suffering, VBG), (severe, JJ), (b...  \n",
       "3  [(harding, VBG), (say, VBP), (told, VBN), (exc...  \n",
       "4  [(suchpity, NN), (something, NN), (considered,...  "
      ]
     },
     "execution_count": 30,
     "metadata": {},
     "output_type": "execute_result"
    }
   ],
   "source": [
    "music20_split.head(5)"
   ]
  },
  {
   "cell_type": "markdown",
   "metadata": {},
   "source": [
    "__Get Sentiment__"
   ]
  },
  {
   "cell_type": "code",
   "execution_count": 31,
   "metadata": {},
   "outputs": [
    {
     "name": "stdout",
     "output_type": "stream",
     "text": [
      "0         0.625\n",
      "1         0.625\n",
      "2        -1.125\n",
      "3         0.250\n",
      "4         0.750\n",
      "          ...  \n",
      "371386   -0.125\n",
      "371387    0.375\n",
      "371388    0.125\n",
      "371389   -0.500\n",
      "371390    0.000\n",
      "Name: Music_Sentiment, Length: 371391, dtype: float64\n"
     ]
    }
   ],
   "source": [
    "senti_score = []\n",
    "\n",
    "for pos_val in music20_split['pos_tags']:\n",
    "    senti_val = [get_sentiment(x,y) for (x,y) in pos_val]\n",
    "    for score in senti_val:\n",
    "        try:\n",
    "            pos = pos + score[1]  #positive score is stored at 2nd position\n",
    "            neg = neg + score[2]  #negative score is stored at 3rd position\n",
    "        except:\n",
    "            continue\n",
    "    senti_score.append(pos - neg)\n",
    "    pos=neg=0    \n",
    "    \n",
    "music20_split['Music_Sentiment'] = senti_score\n",
    "print(music20_split['Music_Sentiment'])"
   ]
  },
  {
   "cell_type": "code",
   "execution_count": 35,
   "metadata": {},
   "outputs": [
    {
     "data": {
      "text/plain": [
       "0.0"
      ]
     },
     "execution_count": 35,
     "metadata": {},
     "output_type": "execute_result"
    }
   ],
   "source": [
    "#Getting to know more about the senti_score column \n",
    "max(music20_split['Music_Sentiment']) #max value = 10.25 \n",
    "\n",
    "min(music20_split['Music_Sentiment']) #min value= -4.75\n",
    "\n",
    "music20_split.Music_Sentiment.mean() #mean value = 0.13\n",
    "\n",
    "music20_split.Music_Sentiment.median() #median = 0 - this is good, that's neutral "
   ]
  },
  {
   "cell_type": "markdown",
   "metadata": {},
   "source": [
    "__Classify sentiment__"
   ]
  },
  {
   "cell_type": "code",
   "execution_count": 37,
   "metadata": {},
   "outputs": [],
   "source": [
    "#Classify the sentiment scores into groups \n",
    "overall=[]\n",
    "for i in range(len(music20_split)):\n",
    "    if music20_split['Music_Sentiment'][i]>= 0.05:\n",
    "        overall.append('Positive')\n",
    "    elif music20_split['Music_Sentiment'][i]<= -0.05:\n",
    "        overall.append('Negative')\n",
    "    else:\n",
    "        overall.append('Neutral')\n",
    "music20_split['Overall Sentiment']=overall"
   ]
  },
  {
   "cell_type": "code",
   "execution_count": 38,
   "metadata": {},
   "outputs": [
    {
     "data": {
      "text/html": [
       "<div>\n",
       "<style scoped>\n",
       "    .dataframe tbody tr th:only-of-type {\n",
       "        vertical-align: middle;\n",
       "    }\n",
       "\n",
       "    .dataframe tbody tr th {\n",
       "        vertical-align: top;\n",
       "    }\n",
       "\n",
       "    .dataframe thead th {\n",
       "        text-align: right;\n",
       "    }\n",
       "</style>\n",
       "<table border=\"1\" class=\"dataframe\">\n",
       "  <thead>\n",
       "    <tr style=\"text-align: right;\">\n",
       "      <th></th>\n",
       "      <th>cleaned_text</th>\n",
       "      <th>ID</th>\n",
       "      <th>Date</th>\n",
       "      <th>Article_without_stopwords</th>\n",
       "      <th>After_lemmatization</th>\n",
       "      <th>pos_tags</th>\n",
       "      <th>Music_Sentiment</th>\n",
       "      <th>Overall Sentiment</th>\n",
       "    </tr>\n",
       "  </thead>\n",
       "  <tbody>\n",
       "    <tr>\n",
       "      <th>0</th>\n",
       "      <td>best of   goodluck live band member jules ha...</td>\n",
       "      <td>61579321</td>\n",
       "      <td>20-02-01</td>\n",
       "      <td>best goodluck live band member jules harding c...</td>\n",
       "      <td>best goodluck live band member jules harding c...</td>\n",
       "      <td>[(best, JJS), (goodluck, NN), (live, JJ), (ban...</td>\n",
       "      <td>0.625</td>\n",
       "      <td>Positive</td>\n",
       "    </tr>\n",
       "    <tr>\n",
       "      <th>1</th>\n",
       "      <td>harding has shared how even after her motivat...</td>\n",
       "      <td>61579321</td>\n",
       "      <td>20-02-01</td>\n",
       "      <td>harding shared even motivation well letters me...</td>\n",
       "      <td>harding shared even motivation well letter med...</td>\n",
       "      <td>[(harding, VBG), (shared, VBD), (even, RB), (m...</td>\n",
       "      <td>0.625</td>\n",
       "      <td>Positive</td>\n",
       "    </tr>\n",
       "    <tr>\n",
       "      <th>2</th>\n",
       "      <td>she says she had been suffering from severe b...</td>\n",
       "      <td>61579321</td>\n",
       "      <td>20-02-01</td>\n",
       "      <td>says suffering severe back pain sought help</td>\n",
       "      <td>say suffering severe back pain sought help</td>\n",
       "      <td>[(say, VB), (suffering, VBG), (severe, JJ), (b...</td>\n",
       "      <td>-1.125</td>\n",
       "      <td>Negative</td>\n",
       "    </tr>\n",
       "    <tr>\n",
       "      <th>3</th>\n",
       "      <td>harding says she was told that \" this is an e...</td>\n",
       "      <td>61579321</td>\n",
       "      <td>20-02-01</td>\n",
       "      <td>harding says told exclusionary procedure cover...</td>\n",
       "      <td>harding say told exclusionary procedure cover ...</td>\n",
       "      <td>[(harding, VBG), (say, VBP), (told, VBN), (exc...</td>\n",
       "      <td>0.250</td>\n",
       "      <td>Positive</td>\n",
       "    </tr>\n",
       "    <tr>\n",
       "      <th>4</th>\n",
       "      <td>it is such a pity that this is something that...</td>\n",
       "      <td>61579321</td>\n",
       "      <td>20-02-01</td>\n",
       "      <td>suchpity something considered something medica...</td>\n",
       "      <td>suchpity something considered something medica...</td>\n",
       "      <td>[(suchpity, NN), (something, NN), (considered,...</td>\n",
       "      <td>0.750</td>\n",
       "      <td>Positive</td>\n",
       "    </tr>\n",
       "    <tr>\n",
       "      <th>5</th>\n",
       "      <td>there are those that are genuinely suffering w...</td>\n",
       "      <td>61579321</td>\n",
       "      <td>20-02-01</td>\n",
       "      <td>genuinely suffering bad back problems large br...</td>\n",
       "      <td>genuinely suffering bad back problem large bre...</td>\n",
       "      <td>[(genuinely, RB), (suffering, VBG), (bad, JJ),...</td>\n",
       "      <td>-0.500</td>\n",
       "      <td>Negative</td>\n",
       "    </tr>\n",
       "    <tr>\n",
       "      <th>6</th>\n",
       "      <td>it is something that medical aid should be rec...</td>\n",
       "      <td>61579321</td>\n",
       "      <td>20-02-01</td>\n",
       "      <td>something medical aid reconsidering</td>\n",
       "      <td>something medical aid reconsidering</td>\n",
       "      <td>[(something, NN), (medical, JJ), (aid, NN), (r...</td>\n",
       "      <td>-0.250</td>\n",
       "      <td>Negative</td>\n",
       "    </tr>\n",
       "    <tr>\n",
       "      <th>7</th>\n",
       "      <td>-- jules harding , member of goodluck live  i...</td>\n",
       "      <td>61579321</td>\n",
       "      <td>20-02-01</td>\n",
       "      <td>jules harding member goodluck live helping wom...</td>\n",
       "      <td>jules harding member goodluck live helping wom...</td>\n",
       "      <td>[(jules, NNS), (harding, VBG), (member, NN), (...</td>\n",
       "      <td>1.500</td>\n",
       "      <td>Positive</td>\n",
       "    </tr>\n",
       "    <tr>\n",
       "      <th>8</th>\n",
       "      <td>-- jules harding , member of goodluck live  m...</td>\n",
       "      <td>61579321</td>\n",
       "      <td>20-02-01</td>\n",
       "      <td>jules harding member goodluck live momentum ag...</td>\n",
       "      <td>jules harding member goodluck live momentum ag...</td>\n",
       "      <td>[(jules, NNS), (harding, VBG), (member, NN), (...</td>\n",
       "      <td>0.125</td>\n",
       "      <td>Positive</td>\n",
       "    </tr>\n",
       "    <tr>\n",
       "      <th>9</th>\n",
       "      <td>click on the link below to hear her story ....</td>\n",
       "      <td>61579321</td>\n",
       "      <td>20-02-01</td>\n",
       "      <td>click link hear story</td>\n",
       "      <td>click link hear story</td>\n",
       "      <td>[(click, NN), (link, NN), (hear, VBP), (story,...</td>\n",
       "      <td>0.000</td>\n",
       "      <td>Neutral</td>\n",
       "    </tr>\n",
       "  </tbody>\n",
       "</table>\n",
       "</div>"
      ],
      "text/plain": [
       "                                        cleaned_text        ID      Date  \\\n",
       "0    best of   goodluck live band member jules ha...  61579321  20-02-01   \n",
       "1   harding has shared how even after her motivat...  61579321  20-02-01   \n",
       "2   she says she had been suffering from severe b...  61579321  20-02-01   \n",
       "3   harding says she was told that \" this is an e...  61579321  20-02-01   \n",
       "4   it is such a pity that this is something that...  61579321  20-02-01   \n",
       "5  there are those that are genuinely suffering w...  61579321  20-02-01   \n",
       "6  it is something that medical aid should be rec...  61579321  20-02-01   \n",
       "7   -- jules harding , member of goodluck live  i...  61579321  20-02-01   \n",
       "8   -- jules harding , member of goodluck live  m...  61579321  20-02-01   \n",
       "9     click on the link below to hear her story ....  61579321  20-02-01   \n",
       "\n",
       "                           Article_without_stopwords  \\\n",
       "0  best goodluck live band member jules harding c...   \n",
       "1  harding shared even motivation well letters me...   \n",
       "2       says suffering severe back pain sought help    \n",
       "3  harding says told exclusionary procedure cover...   \n",
       "4  suchpity something considered something medica...   \n",
       "5  genuinely suffering bad back problems large br...   \n",
       "6               something medical aid reconsidering    \n",
       "7  jules harding member goodluck live helping wom...   \n",
       "8  jules harding member goodluck live momentum ag...   \n",
       "9                             click link hear story    \n",
       "\n",
       "                                 After_lemmatization  \\\n",
       "0  best goodluck live band member jules harding c...   \n",
       "1  harding shared even motivation well letter med...   \n",
       "2        say suffering severe back pain sought help    \n",
       "3  harding say told exclusionary procedure cover ...   \n",
       "4  suchpity something considered something medica...   \n",
       "5  genuinely suffering bad back problem large bre...   \n",
       "6               something medical aid reconsidering    \n",
       "7  jules harding member goodluck live helping wom...   \n",
       "8  jules harding member goodluck live momentum ag...   \n",
       "9                             click link hear story    \n",
       "\n",
       "                                            pos_tags  Music_Sentiment  \\\n",
       "0  [(best, JJS), (goodluck, NN), (live, JJ), (ban...            0.625   \n",
       "1  [(harding, VBG), (shared, VBD), (even, RB), (m...            0.625   \n",
       "2  [(say, VB), (suffering, VBG), (severe, JJ), (b...           -1.125   \n",
       "3  [(harding, VBG), (say, VBP), (told, VBN), (exc...            0.250   \n",
       "4  [(suchpity, NN), (something, NN), (considered,...            0.750   \n",
       "5  [(genuinely, RB), (suffering, VBG), (bad, JJ),...           -0.500   \n",
       "6  [(something, NN), (medical, JJ), (aid, NN), (r...           -0.250   \n",
       "7  [(jules, NNS), (harding, VBG), (member, NN), (...            1.500   \n",
       "8  [(jules, NNS), (harding, VBG), (member, NN), (...            0.125   \n",
       "9  [(click, NN), (link, NN), (hear, VBP), (story,...            0.000   \n",
       "\n",
       "  Overall Sentiment  \n",
       "0          Positive  \n",
       "1          Positive  \n",
       "2          Negative  \n",
       "3          Positive  \n",
       "4          Positive  \n",
       "5          Negative  \n",
       "6          Negative  \n",
       "7          Positive  \n",
       "8          Positive  \n",
       "9           Neutral  "
      ]
     },
     "execution_count": 38,
     "metadata": {},
     "output_type": "execute_result"
    }
   ],
   "source": [
    "music20_split.head(10)"
   ]
  },
  {
   "cell_type": "code",
   "execution_count": 40,
   "metadata": {},
   "outputs": [
    {
     "name": "stderr",
     "output_type": "stream",
     "text": [
      "/home/orlam/NOW/lang101/lib/python3.6/site-packages/seaborn/_decorators.py:43: FutureWarning: Pass the following variable as a keyword arg: x. From version 0.12, the only valid positional argument will be `data`, and passing other arguments without an explicit keyword will result in an error or misinterpretation.\n",
      "  FutureWarning\n"
     ]
    },
    {
     "data": {
      "text/plain": [
       "<AxesSubplot:xlabel='Overall Sentiment', ylabel='count'>"
      ]
     },
     "execution_count": 40,
     "metadata": {},
     "output_type": "execute_result"
    },
    {
     "data": {
      "image/png": "[encoded data removed]",
      "text/plain": [
       "<Figure size 432x288 with 1 Axes>"
      ]
     },
     "metadata": {
      "needs_background": "light"
     },
     "output_type": "display_data"
    }
   ],
   "source": [
    "#Plot the sentiment groups by sentence\n",
    "import seaborn as sns\n",
    "sns.countplot(music20_split['Overall Sentiment'])"
   ]
  },
  {
   "cell_type": "markdown",
   "metadata": {},
   "source": [
    "_Here most of the articles are either neutral or negative, so when they are collated it's likely they'll become polarised__"
   ]
  },
  {
   "cell_type": "markdown",
   "metadata": {},
   "source": [
    "__Group sentiment back into one ID__"
   ]
  },
  {
   "cell_type": "code",
   "execution_count": 41,
   "metadata": {},
   "outputs": [],
   "source": [
    "#Group the sentences back into one by ID to get 1 sentiment score for each article\n",
    "music20_sentiment = music20_split.copy()"
   ]
  },
  {
   "cell_type": "code",
   "execution_count": 42,
   "metadata": {},
   "outputs": [
    {
     "data": {
      "text/html": [
       "<div>\n",
       "<style scoped>\n",
       "    .dataframe tbody tr th:only-of-type {\n",
       "        vertical-align: middle;\n",
       "    }\n",
       "\n",
       "    .dataframe tbody tr th {\n",
       "        vertical-align: top;\n",
       "    }\n",
       "\n",
       "    .dataframe thead th {\n",
       "        text-align: right;\n",
       "    }\n",
       "</style>\n",
       "<table border=\"1\" class=\"dataframe\">\n",
       "  <thead>\n",
       "    <tr style=\"text-align: right;\">\n",
       "      <th></th>\n",
       "      <th>Music_Sentiment</th>\n",
       "    </tr>\n",
       "    <tr>\n",
       "      <th>ID</th>\n",
       "      <th></th>\n",
       "    </tr>\n",
       "  </thead>\n",
       "  <tbody>\n",
       "    <tr>\n",
       "      <th>31615566</th>\n",
       "      <td>0.030983</td>\n",
       "    </tr>\n",
       "    <tr>\n",
       "      <th>31615586</th>\n",
       "      <td>0.117816</td>\n",
       "    </tr>\n",
       "    <tr>\n",
       "      <th>31615788</th>\n",
       "      <td>0.083333</td>\n",
       "    </tr>\n",
       "    <tr>\n",
       "      <th>31615826</th>\n",
       "      <td>0.020833</td>\n",
       "    </tr>\n",
       "    <tr>\n",
       "      <th>31615884</th>\n",
       "      <td>0.103972</td>\n",
       "    </tr>\n",
       "    <tr>\n",
       "      <th>...</th>\n",
       "      <td>...</td>\n",
       "    </tr>\n",
       "    <tr>\n",
       "      <th>84774140</th>\n",
       "      <td>0.089286</td>\n",
       "    </tr>\n",
       "    <tr>\n",
       "      <th>84774146</th>\n",
       "      <td>0.140244</td>\n",
       "    </tr>\n",
       "    <tr>\n",
       "      <th>84774291</th>\n",
       "      <td>0.267857</td>\n",
       "    </tr>\n",
       "    <tr>\n",
       "      <th>84774324</th>\n",
       "      <td>0.097222</td>\n",
       "    </tr>\n",
       "    <tr>\n",
       "      <th>84774479</th>\n",
       "      <td>0.117188</td>\n",
       "    </tr>\n",
       "  </tbody>\n",
       "</table>\n",
       "<p>14518 rows × 1 columns</p>\n",
       "</div>"
      ],
      "text/plain": [
       "          Music_Sentiment\n",
       "ID                       \n",
       "31615566         0.030983\n",
       "31615586         0.117816\n",
       "31615788         0.083333\n",
       "31615826         0.020833\n",
       "31615884         0.103972\n",
       "...                   ...\n",
       "84774140         0.089286\n",
       "84774146         0.140244\n",
       "84774291         0.267857\n",
       "84774324         0.097222\n",
       "84774479         0.117188\n",
       "\n",
       "[14518 rows x 1 columns]"
      ]
     },
     "execution_count": 42,
     "metadata": {},
     "output_type": "execute_result"
    }
   ],
   "source": [
    "music20_sentiment = music20_sentiment.groupby(['ID']).mean(['Music Sentiment'])\n",
    "music20_sentiment"
   ]
  },
  {
   "cell_type": "markdown",
   "metadata": {},
   "source": [
    "__Classify one sentiment score per article__"
   ]
  },
  {
   "cell_type": "code",
   "execution_count": 43,
   "metadata": {},
   "outputs": [],
   "source": [
    "article_sentiment = []\n",
    "\n",
    "for score in music20_sentiment['Music_Sentiment']:\n",
    "    if score >=0.05:\n",
    "        article_sentiment.append('Positive')\n",
    "    elif score <= -0.05:\n",
    "        article_sentiment.append('Negative')\n",
    "    else: \n",
    "        article_sentiment.append('Neutral')"
   ]
  },
  {
   "cell_type": "code",
   "execution_count": 46,
   "metadata": {},
   "outputs": [],
   "source": [
    "music20_sentiment['Article Sentiment'] = article_sentiment"
   ]
  },
  {
   "cell_type": "markdown",
   "metadata": {},
   "source": [
    "__Plot the the category counts__"
   ]
  },
  {
   "cell_type": "code",
   "execution_count": 47,
   "metadata": {},
   "outputs": [
    {
     "name": "stderr",
     "output_type": "stream",
     "text": [
      "/home/orlam/NOW/lang101/lib/python3.6/site-packages/seaborn/_decorators.py:43: FutureWarning: Pass the following variable as a keyword arg: x. From version 0.12, the only valid positional argument will be `data`, and passing other arguments without an explicit keyword will result in an error or misinterpretation.\n",
      "  FutureWarning\n"
     ]
    },
    {
     "data": {
      "text/plain": [
       "<AxesSubplot:xlabel='Article Sentiment', ylabel='count'>"
      ]
     },
     "execution_count": 47,
     "metadata": {},
     "output_type": "execute_result"
    },
    {
     "data": {
      "image/png": "[encoded data removed]",
      "text/plain": [
       "<Figure size 432x288 with 1 Axes>"
      ]
     },
     "metadata": {
      "needs_background": "light"
     },
     "output_type": "display_data"
    }
   ],
   "source": [
    "sns.countplot(music20_sentiment['Article Sentiment'])"
   ]
  },
  {
   "cell_type": "markdown",
   "metadata": {},
   "source": [
    "_Most of the musical articles appear to be positive now_"
   ]
  },
  {
   "cell_type": "code",
   "execution_count": 48,
   "metadata": {},
   "outputs": [
    {
     "data": {
      "text/plain": [
       "Music_Sentiment      float64\n",
       "Article Sentiment     object\n",
       "ID ref                 int64\n",
       "dtype: object"
      ]
     },
     "execution_count": 48,
     "metadata": {},
     "output_type": "execute_result"
    }
   ],
   "source": [
    "#Plotting over time; first make the index (ID) a column \n",
    "music20_sentiment['ID ref']= music20_sentiment.index\n",
    "music20_sentiment.dtypes #check that it is an integer "
   ]
  },
  {
   "cell_type": "code",
   "execution_count": 49,
   "metadata": {},
   "outputs": [],
   "source": [
    "#Then match the date \n",
    "#Merge the date column onto music20_split \n",
    "music20_sentiment = pd.merge(left = music20_sentiment, right = date_matchM20, how='left', left_on='ID ref', right_on='ID' )"
   ]
  },
  {
   "cell_type": "code",
   "execution_count": 51,
   "metadata": {},
   "outputs": [
    {
     "data": {
      "text/html": [
       "<div>\n",
       "<style scoped>\n",
       "    .dataframe tbody tr th:only-of-type {\n",
       "        vertical-align: middle;\n",
       "    }\n",
       "\n",
       "    .dataframe tbody tr th {\n",
       "        vertical-align: top;\n",
       "    }\n",
       "\n",
       "    .dataframe thead th {\n",
       "        text-align: right;\n",
       "    }\n",
       "</style>\n",
       "<table border=\"1\" class=\"dataframe\">\n",
       "  <thead>\n",
       "    <tr style=\"text-align: right;\">\n",
       "      <th></th>\n",
       "      <th>Music_Sentiment</th>\n",
       "      <th>Article Sentiment</th>\n",
       "      <th>ID ref</th>\n",
       "      <th>Date</th>\n",
       "      <th>ID</th>\n",
       "    </tr>\n",
       "  </thead>\n",
       "  <tbody>\n",
       "    <tr>\n",
       "      <th>0</th>\n",
       "      <td>0.030983</td>\n",
       "      <td>Neutral</td>\n",
       "      <td>31615566</td>\n",
       "      <td>20-02-01</td>\n",
       "      <td>31615566</td>\n",
       "    </tr>\n",
       "    <tr>\n",
       "      <th>1</th>\n",
       "      <td>0.117816</td>\n",
       "      <td>Positive</td>\n",
       "      <td>31615586</td>\n",
       "      <td>20-02-01</td>\n",
       "      <td>31615586</td>\n",
       "    </tr>\n",
       "    <tr>\n",
       "      <th>2</th>\n",
       "      <td>0.083333</td>\n",
       "      <td>Positive</td>\n",
       "      <td>31615788</td>\n",
       "      <td>20-02-01</td>\n",
       "      <td>31615788</td>\n",
       "    </tr>\n",
       "    <tr>\n",
       "      <th>3</th>\n",
       "      <td>0.020833</td>\n",
       "      <td>Neutral</td>\n",
       "      <td>31615826</td>\n",
       "      <td>20-02-01</td>\n",
       "      <td>31615826</td>\n",
       "    </tr>\n",
       "    <tr>\n",
       "      <th>4</th>\n",
       "      <td>0.103972</td>\n",
       "      <td>Positive</td>\n",
       "      <td>31615884</td>\n",
       "      <td>20-02-01</td>\n",
       "      <td>31615884</td>\n",
       "    </tr>\n",
       "  </tbody>\n",
       "</table>\n",
       "</div>"
      ],
      "text/plain": [
       "   Music_Sentiment Article Sentiment    ID ref      Date        ID\n",
       "0         0.030983           Neutral  31615566  20-02-01  31615566\n",
       "1         0.117816          Positive  31615586  20-02-01  31615586\n",
       "2         0.083333          Positive  31615788  20-02-01  31615788\n",
       "3         0.020833           Neutral  31615826  20-02-01  31615826\n",
       "4         0.103972          Positive  31615884  20-02-01  31615884"
      ]
     },
     "execution_count": 51,
     "metadata": {},
     "output_type": "execute_result"
    }
   ],
   "source": [
    "music20_sentiment.head(5) #Now we have the date, ID, and total sentiment score "
   ]
  },
  {
   "cell_type": "code",
   "execution_count": 57,
   "metadata": {},
   "outputs": [
    {
     "data": {
      "text/html": [
       "<div>\n",
       "<style scoped>\n",
       "    .dataframe tbody tr th:only-of-type {\n",
       "        vertical-align: middle;\n",
       "    }\n",
       "\n",
       "    .dataframe tbody tr th {\n",
       "        vertical-align: top;\n",
       "    }\n",
       "\n",
       "    .dataframe thead th {\n",
       "        text-align: right;\n",
       "    }\n",
       "</style>\n",
       "<table border=\"1\" class=\"dataframe\">\n",
       "  <thead>\n",
       "    <tr style=\"text-align: right;\">\n",
       "      <th></th>\n",
       "      <th>Music_Sentiment</th>\n",
       "    </tr>\n",
       "    <tr>\n",
       "      <th>Date</th>\n",
       "      <th></th>\n",
       "    </tr>\n",
       "  </thead>\n",
       "  <tbody>\n",
       "    <tr>\n",
       "      <th>20-02-01</th>\n",
       "      <td>0.137500</td>\n",
       "    </tr>\n",
       "    <tr>\n",
       "      <th>20-02-02</th>\n",
       "      <td>0.163025</td>\n",
       "    </tr>\n",
       "    <tr>\n",
       "      <th>20-02-03</th>\n",
       "      <td>0.128713</td>\n",
       "    </tr>\n",
       "  </tbody>\n",
       "</table>\n",
       "</div>"
      ],
      "text/plain": [
       "          Music_Sentiment\n",
       "Date                     \n",
       "20-02-01         0.137500\n",
       "20-02-02         0.163025\n",
       "20-02-03         0.128713"
      ]
     },
     "execution_count": 57,
     "metadata": {},
     "output_type": "execute_result"
    }
   ],
   "source": [
    "#We'll group by the date sentiment \n",
    "#keep columns of interest \n",
    "music_sentiment = music20_sentiment.groupby(['Date']).mean()\n",
    "music_sentiment\n",
    "\n",
    "#And cut the dataframe to only have the columns we want \n",
    "music_sentiment = music_sentiment[['Music_Sentiment']]\n",
    "music_sentiment.head(3)"
   ]
  },
  {
   "cell_type": "markdown",
   "metadata": {},
   "source": [
    "The dataframe of interest for the timeseries is thus the music_sentiment"
   ]
  },
  {
   "cell_type": "markdown",
   "metadata": {},
   "source": [
    "## Control 2020"
   ]
  },
  {
   "cell_type": "code",
   "execution_count": 58,
   "metadata": {},
   "outputs": [
    {
     "data": {
      "text/html": [
       "<div>\n",
       "<style scoped>\n",
       "    .dataframe tbody tr th:only-of-type {\n",
       "        vertical-align: middle;\n",
       "    }\n",
       "\n",
       "    .dataframe tbody tr th {\n",
       "        vertical-align: top;\n",
       "    }\n",
       "\n",
       "    .dataframe thead th {\n",
       "        text-align: right;\n",
       "    }\n",
       "</style>\n",
       "<table border=\"1\" class=\"dataframe\">\n",
       "  <thead>\n",
       "    <tr style=\"text-align: right;\">\n",
       "      <th></th>\n",
       "      <th>Article</th>\n",
       "      <th>ID</th>\n",
       "      <th>_merge</th>\n",
       "      <th>Date</th>\n",
       "      <th>cleaned_text</th>\n",
       "    </tr>\n",
       "  </thead>\n",
       "  <tbody>\n",
       "    <tr>\n",
       "      <th>0</th>\n",
       "      <td>best of 702  in an unusual move for a ceo in...</td>\n",
       "      <td>61579326</td>\n",
       "      <td>left_only</td>\n",
       "      <td>20-02-01</td>\n",
       "      <td>best of   in an unusual move for a ceo in sa...</td>\n",
       "    </tr>\n",
       "    <tr>\n",
       "      <th>1</th>\n",
       "      <td>amazulu give vukusic vote of confidence  pha...</td>\n",
       "      <td>61579578</td>\n",
       "      <td>left_only</td>\n",
       "      <td>20-02-01</td>\n",
       "      <td>amazulu give vukusic vote of confidence  pha...</td>\n",
       "    </tr>\n",
       "    <tr>\n",
       "      <th>2</th>\n",
       "      <td>sa crash to an embarrassing innings and 53 r...</td>\n",
       "      <td>61579750</td>\n",
       "      <td>left_only</td>\n",
       "      <td>20-02-01</td>\n",
       "      <td>sa crash to an embarrassing innings and  run...</td>\n",
       "    </tr>\n",
       "    <tr>\n",
       "      <th>3</th>\n",
       "      <td>news feed  goodbye mr bean : eu missing brit...</td>\n",
       "      <td>61580603</td>\n",
       "      <td>left_only</td>\n",
       "      <td>20-02-01</td>\n",
       "      <td>news feed  goodbye mr bean : eu missing brit...</td>\n",
       "    </tr>\n",
       "    <tr>\n",
       "      <th>4</th>\n",
       "      <td>htxt.africast -- avast , wework sa and showm...</td>\n",
       "      <td>61580647</td>\n",
       "      <td>left_only</td>\n",
       "      <td>20-02-01</td>\n",
       "      <td>htxt.africast -- avast , wework sa and showm...</td>\n",
       "    </tr>\n",
       "  </tbody>\n",
       "</table>\n",
       "</div>"
      ],
      "text/plain": [
       "                                             Article        ID     _merge  \\\n",
       "0    best of 702  in an unusual move for a ceo in...  61579326  left_only   \n",
       "1    amazulu give vukusic vote of confidence  pha...  61579578  left_only   \n",
       "2    sa crash to an embarrassing innings and 53 r...  61579750  left_only   \n",
       "3    news feed  goodbye mr bean : eu missing brit...  61580603  left_only   \n",
       "4    htxt.africast -- avast , wework sa and showm...  61580647  left_only   \n",
       "\n",
       "       Date                                       cleaned_text  \n",
       "0  20-02-01    best of   in an unusual move for a ceo in sa...  \n",
       "1  20-02-01    amazulu give vukusic vote of confidence  pha...  \n",
       "2  20-02-01    sa crash to an embarrassing innings and  run...  \n",
       "3  20-02-01    news feed  goodbye mr bean : eu missing brit...  \n",
       "4  20-02-01    htxt.africast -- avast , wework sa and showm...  "
      ]
     },
     "execution_count": 58,
     "metadata": {},
     "output_type": "execute_result"
    }
   ],
   "source": [
    "#Split control_2020 into its sentences using regex\n",
    "len(control_2020) #original length = 14,518\n",
    "control_2020.head(5)"
   ]
  },
  {
   "cell_type": "markdown",
   "metadata": {},
   "source": [
    "__Split data by sentence__"
   ]
  },
  {
   "cell_type": "code",
   "execution_count": 59,
   "metadata": {},
   "outputs": [],
   "source": [
    "rule = r\"(?<!\\w\\.\\w.)(?<![A-Z][a-z]\\.)(?<=\\.|\\?)\\s\"\n",
    "\n",
    "#tokenise sentences using '.' as the delimter \n",
    "control20_split = DataFrame(control_2020.cleaned_text.str.split(rule).tolist(), index=control_2020.ID).stack()"
   ]
  },
  {
   "cell_type": "code",
   "execution_count": 60,
   "metadata": {},
   "outputs": [],
   "source": [
    "#Fix up the column names \n",
    "control20_split = control20_split.reset_index()[[0, 'ID']]\n",
    "control20_split.columns = ['cleaned_text', 'ID'] # renaming variables"
   ]
  },
  {
   "cell_type": "code",
   "execution_count": 61,
   "metadata": {},
   "outputs": [
    {
     "data": {
      "text/html": [
       "<div>\n",
       "<style scoped>\n",
       "    .dataframe tbody tr th:only-of-type {\n",
       "        vertical-align: middle;\n",
       "    }\n",
       "\n",
       "    .dataframe tbody tr th {\n",
       "        vertical-align: top;\n",
       "    }\n",
       "\n",
       "    .dataframe thead th {\n",
       "        text-align: right;\n",
       "    }\n",
       "</style>\n",
       "<table border=\"1\" class=\"dataframe\">\n",
       "  <thead>\n",
       "    <tr style=\"text-align: right;\">\n",
       "      <th></th>\n",
       "      <th>cleaned_text</th>\n",
       "      <th>ID</th>\n",
       "    </tr>\n",
       "  </thead>\n",
       "  <tbody>\n",
       "    <tr>\n",
       "      <th>0</th>\n",
       "      <td>best of   in an unusual move for a ceo in sa...</td>\n",
       "      <td>61579326</td>\n",
       "    </tr>\n",
       "    <tr>\n",
       "      <th>1</th>\n",
       "      <td>con 's grant pat ?</td>\n",
       "      <td>61579326</td>\n",
       "    </tr>\n",
       "    <tr>\n",
       "      <th>2</th>\n",
       "      <td>ti ?</td>\n",
       "      <td>61579326</td>\n",
       "    </tr>\n",
       "    <tr>\n",
       "      <th>3</th>\n",
       "      <td>son has jumped in and responded directly to cu...</td>\n",
       "      <td>61579326</td>\n",
       "    </tr>\n",
       "    <tr>\n",
       "      <th>4</th>\n",
       "      <td>\" our cus ?</td>\n",
       "      <td>61579326</td>\n",
       "    </tr>\n",
       "  </tbody>\n",
       "</table>\n",
       "</div>"
      ],
      "text/plain": [
       "                                        cleaned_text        ID\n",
       "0    best of   in an unusual move for a ceo in sa...  61579326\n",
       "1                                 con 's grant pat ?  61579326\n",
       "2                                               ti ?  61579326\n",
       "3  son has jumped in and responded directly to cu...  61579326\n",
       "4                                        \" our cus ?  61579326"
      ]
     },
     "execution_count": 61,
     "metadata": {},
     "output_type": "execute_result"
    }
   ],
   "source": [
    "control20_split.head(5) #370,044 rows long "
   ]
  },
  {
   "cell_type": "markdown",
   "metadata": {},
   "source": [
    "__Add date column__"
   ]
  },
  {
   "cell_type": "code",
   "execution_count": 62,
   "metadata": {},
   "outputs": [
    {
     "data": {
      "text/html": [
       "<div>\n",
       "<style scoped>\n",
       "    .dataframe tbody tr th:only-of-type {\n",
       "        vertical-align: middle;\n",
       "    }\n",
       "\n",
       "    .dataframe tbody tr th {\n",
       "        vertical-align: top;\n",
       "    }\n",
       "\n",
       "    .dataframe thead th {\n",
       "        text-align: right;\n",
       "    }\n",
       "</style>\n",
       "<table border=\"1\" class=\"dataframe\">\n",
       "  <thead>\n",
       "    <tr style=\"text-align: right;\">\n",
       "      <th></th>\n",
       "      <th>Date</th>\n",
       "      <th>ID</th>\n",
       "    </tr>\n",
       "  </thead>\n",
       "  <tbody>\n",
       "    <tr>\n",
       "      <th>0</th>\n",
       "      <td>20-02-01</td>\n",
       "      <td>61579326</td>\n",
       "    </tr>\n",
       "    <tr>\n",
       "      <th>1</th>\n",
       "      <td>20-02-01</td>\n",
       "      <td>61579578</td>\n",
       "    </tr>\n",
       "    <tr>\n",
       "      <th>2</th>\n",
       "      <td>20-02-01</td>\n",
       "      <td>61579750</td>\n",
       "    </tr>\n",
       "  </tbody>\n",
       "</table>\n",
       "</div>"
      ],
      "text/plain": [
       "       Date        ID\n",
       "0  20-02-01  61579326\n",
       "1  20-02-01  61579578\n",
       "2  20-02-01  61579750"
      ]
     },
     "execution_count": 62,
     "metadata": {},
     "output_type": "execute_result"
    }
   ],
   "source": [
    "#Split away only the needed columns \n",
    "date_matchC20 = control_2020[['Date', 'ID']]\n",
    "date_matchC20.head(3) #check "
   ]
  },
  {
   "cell_type": "code",
   "execution_count": 63,
   "metadata": {},
   "outputs": [
    {
     "name": "stdout",
     "output_type": "stream",
     "text": [
      "cleaned_text    object\n",
      "ID               int64\n",
      "dtype: object\n"
     ]
    }
   ],
   "source": [
    "#Make ID column of music20_split into an int \n",
    "control20_split['ID'] = control20_split['ID'].astype('int')\n",
    "print(control20_split.dtypes)"
   ]
  },
  {
   "cell_type": "code",
   "execution_count": 64,
   "metadata": {},
   "outputs": [],
   "source": [
    "#Merge the date column onto music20_split \n",
    "control20_split = pd.merge(left = control20_split, right = date_matchC20, how='left', on='ID')"
   ]
  },
  {
   "cell_type": "code",
   "execution_count": 65,
   "metadata": {},
   "outputs": [
    {
     "data": {
      "text/html": [
       "<div>\n",
       "<style scoped>\n",
       "    .dataframe tbody tr th:only-of-type {\n",
       "        vertical-align: middle;\n",
       "    }\n",
       "\n",
       "    .dataframe tbody tr th {\n",
       "        vertical-align: top;\n",
       "    }\n",
       "\n",
       "    .dataframe thead th {\n",
       "        text-align: right;\n",
       "    }\n",
       "</style>\n",
       "<table border=\"1\" class=\"dataframe\">\n",
       "  <thead>\n",
       "    <tr style=\"text-align: right;\">\n",
       "      <th></th>\n",
       "      <th>cleaned_text</th>\n",
       "      <th>ID</th>\n",
       "      <th>Date</th>\n",
       "    </tr>\n",
       "  </thead>\n",
       "  <tbody>\n",
       "    <tr>\n",
       "      <th>0</th>\n",
       "      <td>best of   in an unusual move for a ceo in sa...</td>\n",
       "      <td>61579326</td>\n",
       "      <td>20-02-01</td>\n",
       "    </tr>\n",
       "    <tr>\n",
       "      <th>1</th>\n",
       "      <td>con 's grant pat ?</td>\n",
       "      <td>61579326</td>\n",
       "      <td>20-02-01</td>\n",
       "    </tr>\n",
       "    <tr>\n",
       "      <th>2</th>\n",
       "      <td>ti ?</td>\n",
       "      <td>61579326</td>\n",
       "      <td>20-02-01</td>\n",
       "    </tr>\n",
       "    <tr>\n",
       "      <th>3</th>\n",
       "      <td>son has jumped in and responded directly to cu...</td>\n",
       "      <td>61579326</td>\n",
       "      <td>20-02-01</td>\n",
       "    </tr>\n",
       "    <tr>\n",
       "      <th>4</th>\n",
       "      <td>\" our cus ?</td>\n",
       "      <td>61579326</td>\n",
       "      <td>20-02-01</td>\n",
       "    </tr>\n",
       "  </tbody>\n",
       "</table>\n",
       "</div>"
      ],
      "text/plain": [
       "                                        cleaned_text        ID      Date\n",
       "0    best of   in an unusual move for a ceo in sa...  61579326  20-02-01\n",
       "1                                 con 's grant pat ?  61579326  20-02-01\n",
       "2                                               ti ?  61579326  20-02-01\n",
       "3  son has jumped in and responded directly to cu...  61579326  20-02-01\n",
       "4                                        \" our cus ?  61579326  20-02-01"
      ]
     },
     "execution_count": 65,
     "metadata": {},
     "output_type": "execute_result"
    }
   ],
   "source": [
    "control20_split.head(5)"
   ]
  },
  {
   "cell_type": "code",
   "execution_count": 66,
   "metadata": {},
   "outputs": [
    {
     "data": {
      "text/html": [
       "<div>\n",
       "<style scoped>\n",
       "    .dataframe tbody tr th:only-of-type {\n",
       "        vertical-align: middle;\n",
       "    }\n",
       "\n",
       "    .dataframe tbody tr th {\n",
       "        vertical-align: top;\n",
       "    }\n",
       "\n",
       "    .dataframe thead th {\n",
       "        text-align: right;\n",
       "    }\n",
       "</style>\n",
       "<table border=\"1\" class=\"dataframe\">\n",
       "  <thead>\n",
       "    <tr style=\"text-align: right;\">\n",
       "      <th></th>\n",
       "      <th>cleaned_text</th>\n",
       "      <th>ID</th>\n",
       "      <th>Date</th>\n",
       "      <th>Article_without_stopwords</th>\n",
       "    </tr>\n",
       "  </thead>\n",
       "  <tbody>\n",
       "    <tr>\n",
       "      <th>0</th>\n",
       "      <td>best of   in an unusual move for a ceo in sa...</td>\n",
       "      <td>61579326</td>\n",
       "      <td>20-02-01</td>\n",
       "      <td>best of   in an unusual move for a ceo in sa...</td>\n",
       "    </tr>\n",
       "    <tr>\n",
       "      <th>1</th>\n",
       "      <td>con 's grant pat ?</td>\n",
       "      <td>61579326</td>\n",
       "      <td>20-02-01</td>\n",
       "      <td>con 's grant pat ?</td>\n",
       "    </tr>\n",
       "    <tr>\n",
       "      <th>2</th>\n",
       "      <td>ti ?</td>\n",
       "      <td>61579326</td>\n",
       "      <td>20-02-01</td>\n",
       "      <td>ti ?</td>\n",
       "    </tr>\n",
       "    <tr>\n",
       "      <th>3</th>\n",
       "      <td>son has jumped in and responded directly to cu...</td>\n",
       "      <td>61579326</td>\n",
       "      <td>20-02-01</td>\n",
       "      <td>son has jumped in and responded directly to cu...</td>\n",
       "    </tr>\n",
       "    <tr>\n",
       "      <th>4</th>\n",
       "      <td>\" our cus ?</td>\n",
       "      <td>61579326</td>\n",
       "      <td>20-02-01</td>\n",
       "      <td>\" our cus ?</td>\n",
       "    </tr>\n",
       "  </tbody>\n",
       "</table>\n",
       "</div>"
      ],
      "text/plain": [
       "                                        cleaned_text        ID      Date  \\\n",
       "0    best of   in an unusual move for a ceo in sa...  61579326  20-02-01   \n",
       "1                                 con 's grant pat ?  61579326  20-02-01   \n",
       "2                                               ti ?  61579326  20-02-01   \n",
       "3  son has jumped in and responded directly to cu...  61579326  20-02-01   \n",
       "4                                        \" our cus ?  61579326  20-02-01   \n",
       "\n",
       "                           Article_without_stopwords  \n",
       "0    best of   in an unusual move for a ceo in sa...  \n",
       "1                                 con 's grant pat ?  \n",
       "2                                               ti ?  \n",
       "3  son has jumped in and responded directly to cu...  \n",
       "4                                        \" our cus ?  "
      ]
     },
     "execution_count": 66,
     "metadata": {},
     "output_type": "execute_result"
    }
   ],
   "source": [
    "#Create text column to edit \n",
    "#Duplicating text column to edit \n",
    "Edited_sentenceC = control20_split['cleaned_text'].copy()\n",
    "control20_split['Article_without_stopwords'] = Edited_sentenceC\n",
    "control20_split.head(5)"
   ]
  },
  {
   "cell_type": "markdown",
   "metadata": {},
   "source": [
    "__Preprocess__"
   ]
  },
  {
   "cell_type": "code",
   "execution_count": 67,
   "metadata": {},
   "outputs": [],
   "source": [
    "# Using the preprocessing function to preprocess the hotel data\n",
    "preprocess_Articles(control20_split, 'Article_without_stopwords')"
   ]
  },
  {
   "cell_type": "markdown",
   "metadata": {},
   "source": [
    "__Tokenize and remove stopwords__"
   ]
  },
  {
   "cell_type": "code",
   "execution_count": 68,
   "metadata": {},
   "outputs": [],
   "source": [
    "# Using tokenizer and removing the stopwords\n",
    "rem_stopwords_tokenize(control20_split, 'Article_without_stopwords')"
   ]
  },
  {
   "cell_type": "code",
   "execution_count": 69,
   "metadata": {},
   "outputs": [],
   "source": [
    "# Converting all the texts back to sentences\n",
    "make_sentences(control20_split, 'Article_without_stopwords')"
   ]
  },
  {
   "cell_type": "code",
   "execution_count": 70,
   "metadata": {},
   "outputs": [],
   "source": [
    "#Create new column for final edits \n",
    "final_EditC = control20_split['Article_without_stopwords'].copy()\n",
    "control20_split[\"After_lemmatization\"] = final_EditC"
   ]
  },
  {
   "cell_type": "markdown",
   "metadata": {},
   "source": [
    "__Lemmatize__"
   ]
  },
  {
   "cell_type": "code",
   "execution_count": 71,
   "metadata": {},
   "outputs": [],
   "source": [
    "# Using the Lemmatization function to lemmatize the hotel data\n",
    "Lemmatization(control20_split,'After_lemmatization')"
   ]
  },
  {
   "cell_type": "code",
   "execution_count": 72,
   "metadata": {},
   "outputs": [],
   "source": [
    "# Converting all the texts back to sentences\n",
    "make_sentences(control20_split, 'After_lemmatization')"
   ]
  },
  {
   "cell_type": "markdown",
   "metadata": {},
   "source": [
    "__Tagging the words__"
   ]
  },
  {
   "cell_type": "code",
   "execution_count": 73,
   "metadata": {},
   "outputs": [],
   "source": [
    "pos=neg=obj=count=0\n",
    "\n",
    "postagging_control = []\n",
    "\n",
    "for article in control20_split ['After_lemmatization']:\n",
    "    list = word_tokenize(article)\n",
    "    postagging_control.append(nltk.pos_tag(list))\n",
    "\n",
    "control20_split['pos_tags'] = postagging_control"
   ]
  },
  {
   "cell_type": "code",
   "execution_count": 74,
   "metadata": {},
   "outputs": [
    {
     "name": "stdout",
     "output_type": "stream",
     "text": [
      "0         0.250\n",
      "1         0.125\n",
      "2         0.000\n",
      "3        -0.250\n",
      "4         0.000\n",
      "          ...  \n",
      "471903    0.000\n",
      "471904    0.000\n",
      "471905    0.500\n",
      "471906    0.250\n",
      "471907    0.000\n",
      "Name: Non_Music_Sentiment, Length: 471908, dtype: float64\n"
     ]
    }
   ],
   "source": [
    "senti_score_control = []\n",
    "\n",
    "for pos_val in control20_split['pos_tags']:\n",
    "    senti_val = [get_sentiment(x,y) for (x,y) in pos_val]\n",
    "    for score in senti_val:\n",
    "        try:\n",
    "            pos = pos + score[1]  #positive score is stored at 2nd position\n",
    "            neg = neg + score[2]  #negative score is stored at 3rd position\n",
    "        except:\n",
    "            continue\n",
    "    senti_score_control.append(pos - neg)\n",
    "    pos=neg=0    \n",
    "    \n",
    "control20_split['Non_Music_Sentiment'] = senti_score_control\n",
    "print(control20_split['Non_Music_Sentiment'])"
   ]
  },
  {
   "cell_type": "code",
   "execution_count": 78,
   "metadata": {},
   "outputs": [
    {
     "data": {
      "text/plain": [
       "0.0"
      ]
     },
     "execution_count": 78,
     "metadata": {},
     "output_type": "execute_result"
    }
   ],
   "source": [
    "#Getting to know more about the senti_score column \n",
    "max(control20_split['Non_Music_Sentiment']) #max value = 25.625\n",
    "\n",
    "min(control20_split['Non_Music_Sentiment']) #min value= -8.25\n",
    "\n",
    "control20_split.Non_Music_Sentiment.mean() #mean value = 0.12\n",
    "\n",
    "control20_split.Non_Music_Sentiment.median() #median = 0 - this is good, that's neutral "
   ]
  },
  {
   "cell_type": "code",
   "execution_count": 79,
   "metadata": {},
   "outputs": [],
   "source": [
    "#Classify the sentiment scores into groups \n",
    "overall_control=[]\n",
    "for i in range(len(control20_split)):\n",
    "    if control20_split['Non_Music_Sentiment'][i]>= 0.05:\n",
    "        overall_control.append('Positive')\n",
    "    elif control20_split['Non_Music_Sentiment'][i]<= -0.05:\n",
    "        overall_control.append('Negative')\n",
    "    else:\n",
    "        overall_control.append('Neutral')\n",
    "control20_split['Overall Sentiment']=overall_control"
   ]
  },
  {
   "cell_type": "code",
   "execution_count": 80,
   "metadata": {},
   "outputs": [
    {
     "data": {
      "text/html": [
       "<div>\n",
       "<style scoped>\n",
       "    .dataframe tbody tr th:only-of-type {\n",
       "        vertical-align: middle;\n",
       "    }\n",
       "\n",
       "    .dataframe tbody tr th {\n",
       "        vertical-align: top;\n",
       "    }\n",
       "\n",
       "    .dataframe thead th {\n",
       "        text-align: right;\n",
       "    }\n",
       "</style>\n",
       "<table border=\"1\" class=\"dataframe\">\n",
       "  <thead>\n",
       "    <tr style=\"text-align: right;\">\n",
       "      <th></th>\n",
       "      <th>cleaned_text</th>\n",
       "      <th>ID</th>\n",
       "      <th>Date</th>\n",
       "      <th>Article_without_stopwords</th>\n",
       "      <th>After_lemmatization</th>\n",
       "      <th>pos_tags</th>\n",
       "      <th>Non_Music_Sentiment</th>\n",
       "      <th>Overall Sentiment</th>\n",
       "    </tr>\n",
       "  </thead>\n",
       "  <tbody>\n",
       "    <tr>\n",
       "      <th>0</th>\n",
       "      <td>best of   in an unusual move for a ceo in sa...</td>\n",
       "      <td>61579326</td>\n",
       "      <td>20-02-01</td>\n",
       "      <td>best unusual move forceo sa ed</td>\n",
       "      <td>best unusual move forceo</td>\n",
       "      <td>[(best, JJS), (unusual, JJ), (move, NN), (forc...</td>\n",
       "      <td>0.250</td>\n",
       "      <td>Positive</td>\n",
       "    </tr>\n",
       "    <tr>\n",
       "      <th>1</th>\n",
       "      <td>con 's grant pat ?</td>\n",
       "      <td>61579326</td>\n",
       "      <td>20-02-01</td>\n",
       "      <td>congrant pat</td>\n",
       "      <td>congrant pat</td>\n",
       "      <td>[(congrant, NN), (pat, NN)]</td>\n",
       "      <td>0.125</td>\n",
       "      <td>Positive</td>\n",
       "    </tr>\n",
       "    <tr>\n",
       "      <th>2</th>\n",
       "      <td>ti ?</td>\n",
       "      <td>61579326</td>\n",
       "      <td>20-02-01</td>\n",
       "      <td>ti</td>\n",
       "      <td></td>\n",
       "      <td>[]</td>\n",
       "      <td>0.000</td>\n",
       "      <td>Neutral</td>\n",
       "    </tr>\n",
       "    <tr>\n",
       "      <th>3</th>\n",
       "      <td>son has jumped in and responded directly to cu...</td>\n",
       "      <td>61579326</td>\n",
       "      <td>20-02-01</td>\n",
       "      <td>son jumped responded directly customer complai...</td>\n",
       "      <td>son jumped responded directly customer complai...</td>\n",
       "      <td>[(son, NN), (jumped, VBD), (responded, VBD), (...</td>\n",
       "      <td>-0.250</td>\n",
       "      <td>Negative</td>\n",
       "    </tr>\n",
       "    <tr>\n",
       "      <th>4</th>\n",
       "      <td>\" our cus ?</td>\n",
       "      <td>61579326</td>\n",
       "      <td>20-02-01</td>\n",
       "      <td>cus</td>\n",
       "      <td></td>\n",
       "      <td>[]</td>\n",
       "      <td>0.000</td>\n",
       "      <td>Neutral</td>\n",
       "    </tr>\n",
       "    <tr>\n",
       "      <th>5</th>\n",
       "      <td>tomer con ?</td>\n",
       "      <td>61579326</td>\n",
       "      <td>20-02-01</td>\n",
       "      <td>tomer con</td>\n",
       "      <td>tomer con</td>\n",
       "      <td>[(tomer, NN), (con, NN)]</td>\n",
       "      <td>0.000</td>\n",
       "      <td>Neutral</td>\n",
       "    </tr>\n",
       "    <tr>\n",
       "      <th>6</th>\n",
       "      <td>tact cen ?</td>\n",
       "      <td>61579326</td>\n",
       "      <td>20-02-01</td>\n",
       "      <td>tact cen</td>\n",
       "      <td>tact cen</td>\n",
       "      <td>[(tact, NN), (cen, NN)]</td>\n",
       "      <td>0.500</td>\n",
       "      <td>Positive</td>\n",
       "    </tr>\n",
       "    <tr>\n",
       "      <th>7</th>\n",
       "      <td>tre has been badly out ?</td>\n",
       "      <td>61579326</td>\n",
       "      <td>20-02-01</td>\n",
       "      <td>tre badly</td>\n",
       "      <td>tre badly</td>\n",
       "      <td>[(tre, NNS), (badly, RB)]</td>\n",
       "      <td>-0.250</td>\n",
       "      <td>Negative</td>\n",
       "    </tr>\n",
       "    <tr>\n",
       "      <th>8</th>\n",
       "      <td>sourced for the past sev ?</td>\n",
       "      <td>61579326</td>\n",
       "      <td>20-02-01</td>\n",
       "      <td>sourced past sev</td>\n",
       "      <td>sourced past sev</td>\n",
       "      <td>[(sourced, VBN), (past, IN), (sev, NN)]</td>\n",
       "      <td>0.000</td>\n",
       "      <td>Neutral</td>\n",
       "    </tr>\n",
       "    <tr>\n",
       "      <th>9</th>\n",
       "      <td>eral years \" , he said , adding that it would ...</td>\n",
       "      <td>61579326</td>\n",
       "      <td>20-02-01</td>\n",
       "      <td>eral years said adding would</td>\n",
       "      <td>eral year said adding would</td>\n",
       "      <td>[(eral, JJ), (year, NN), (said, VBD), (adding,...</td>\n",
       "      <td>0.000</td>\n",
       "      <td>Neutral</td>\n",
       "    </tr>\n",
       "  </tbody>\n",
       "</table>\n",
       "</div>"
      ],
      "text/plain": [
       "                                        cleaned_text        ID      Date  \\\n",
       "0    best of   in an unusual move for a ceo in sa...  61579326  20-02-01   \n",
       "1                                 con 's grant pat ?  61579326  20-02-01   \n",
       "2                                               ti ?  61579326  20-02-01   \n",
       "3  son has jumped in and responded directly to cu...  61579326  20-02-01   \n",
       "4                                        \" our cus ?  61579326  20-02-01   \n",
       "5                                        tomer con ?  61579326  20-02-01   \n",
       "6                                         tact cen ?  61579326  20-02-01   \n",
       "7                           tre has been badly out ?  61579326  20-02-01   \n",
       "8                         sourced for the past sev ?  61579326  20-02-01   \n",
       "9  eral years \" , he said , adding that it would ...  61579326  20-02-01   \n",
       "\n",
       "                           Article_without_stopwords  \\\n",
       "0                    best unusual move forceo sa ed    \n",
       "1                                      congrant pat    \n",
       "2                                                ti    \n",
       "3  son jumped responded directly customer complai...   \n",
       "4                                               cus    \n",
       "5                                         tomer con    \n",
       "6                                          tact cen    \n",
       "7                                         tre badly    \n",
       "8                                  sourced past sev    \n",
       "9                      eral years said adding would    \n",
       "\n",
       "                                 After_lemmatization  \\\n",
       "0                          best unusual move forceo    \n",
       "1                                      congrant pat    \n",
       "2                                                      \n",
       "3  son jumped responded directly customer complai...   \n",
       "4                                                      \n",
       "5                                         tomer con    \n",
       "6                                          tact cen    \n",
       "7                                         tre badly    \n",
       "8                                  sourced past sev    \n",
       "9                       eral year said adding would    \n",
       "\n",
       "                                            pos_tags  Non_Music_Sentiment  \\\n",
       "0  [(best, JJS), (unusual, JJ), (move, NN), (forc...                0.250   \n",
       "1                        [(congrant, NN), (pat, NN)]                0.125   \n",
       "2                                                 []                0.000   \n",
       "3  [(son, NN), (jumped, VBD), (responded, VBD), (...               -0.250   \n",
       "4                                                 []                0.000   \n",
       "5                           [(tomer, NN), (con, NN)]                0.000   \n",
       "6                            [(tact, NN), (cen, NN)]                0.500   \n",
       "7                          [(tre, NNS), (badly, RB)]               -0.250   \n",
       "8            [(sourced, VBN), (past, IN), (sev, NN)]                0.000   \n",
       "9  [(eral, JJ), (year, NN), (said, VBD), (adding,...                0.000   \n",
       "\n",
       "  Overall Sentiment  \n",
       "0          Positive  \n",
       "1          Positive  \n",
       "2           Neutral  \n",
       "3          Negative  \n",
       "4           Neutral  \n",
       "5           Neutral  \n",
       "6          Positive  \n",
       "7          Negative  \n",
       "8           Neutral  \n",
       "9           Neutral  "
      ]
     },
     "execution_count": 80,
     "metadata": {},
     "output_type": "execute_result"
    }
   ],
   "source": [
    "control20_split.head(10)"
   ]
  },
  {
   "cell_type": "code",
   "execution_count": 81,
   "metadata": {},
   "outputs": [],
   "source": [
    "#Group the sentences back into one by ID to get 1 sentiment score for each article\n",
    "sentiment_control20 = control20_split.copy()"
   ]
  },
  {
   "cell_type": "code",
   "execution_count": 82,
   "metadata": {},
   "outputs": [
    {
     "data": {
      "text/html": [
       "<div>\n",
       "<style scoped>\n",
       "    .dataframe tbody tr th:only-of-type {\n",
       "        vertical-align: middle;\n",
       "    }\n",
       "\n",
       "    .dataframe tbody tr th {\n",
       "        vertical-align: top;\n",
       "    }\n",
       "\n",
       "    .dataframe thead th {\n",
       "        text-align: right;\n",
       "    }\n",
       "</style>\n",
       "<table border=\"1\" class=\"dataframe\">\n",
       "  <thead>\n",
       "    <tr style=\"text-align: right;\">\n",
       "      <th></th>\n",
       "      <th>Non_Music_Sentiment</th>\n",
       "    </tr>\n",
       "    <tr>\n",
       "      <th>ID</th>\n",
       "      <th></th>\n",
       "    </tr>\n",
       "  </thead>\n",
       "  <tbody>\n",
       "    <tr>\n",
       "      <th>31615556</th>\n",
       "      <td>0.048780</td>\n",
       "    </tr>\n",
       "    <tr>\n",
       "      <th>31615580</th>\n",
       "      <td>0.178571</td>\n",
       "    </tr>\n",
       "    <tr>\n",
       "      <th>31615695</th>\n",
       "      <td>0.102273</td>\n",
       "    </tr>\n",
       "    <tr>\n",
       "      <th>31615794</th>\n",
       "      <td>0.080645</td>\n",
       "    </tr>\n",
       "    <tr>\n",
       "      <th>31615830</th>\n",
       "      <td>0.203125</td>\n",
       "    </tr>\n",
       "    <tr>\n",
       "      <th>...</th>\n",
       "      <td>...</td>\n",
       "    </tr>\n",
       "    <tr>\n",
       "      <th>84773284</th>\n",
       "      <td>-0.027778</td>\n",
       "    </tr>\n",
       "    <tr>\n",
       "      <th>84773494</th>\n",
       "      <td>0.267857</td>\n",
       "    </tr>\n",
       "    <tr>\n",
       "      <th>84774114</th>\n",
       "      <td>0.402778</td>\n",
       "    </tr>\n",
       "    <tr>\n",
       "      <th>84774372</th>\n",
       "      <td>0.075000</td>\n",
       "    </tr>\n",
       "    <tr>\n",
       "      <th>84774385</th>\n",
       "      <td>-0.074133</td>\n",
       "    </tr>\n",
       "  </tbody>\n",
       "</table>\n",
       "<p>12248 rows × 1 columns</p>\n",
       "</div>"
      ],
      "text/plain": [
       "          Non_Music_Sentiment\n",
       "ID                           \n",
       "31615556             0.048780\n",
       "31615580             0.178571\n",
       "31615695             0.102273\n",
       "31615794             0.080645\n",
       "31615830             0.203125\n",
       "...                       ...\n",
       "84773284            -0.027778\n",
       "84773494             0.267857\n",
       "84774114             0.402778\n",
       "84774372             0.075000\n",
       "84774385            -0.074133\n",
       "\n",
       "[12248 rows x 1 columns]"
      ]
     },
     "execution_count": 82,
     "metadata": {},
     "output_type": "execute_result"
    }
   ],
   "source": [
    "sentiment_control20 = sentiment_control20.groupby(['ID']).mean(['Non_Music_Sentiment'])\n",
    "sentiment_control20"
   ]
  },
  {
   "cell_type": "code",
   "execution_count": 83,
   "metadata": {},
   "outputs": [],
   "source": [
    "article_sentimentC = []\n",
    "\n",
    "for score in sentiment_control20['Non_Music_Sentiment']:\n",
    "    if score >=0.05:\n",
    "        article_sentimentC.append('Positive')\n",
    "    elif score <= -0.05:\n",
    "        article_sentimentC.append('Negative')\n",
    "    else: \n",
    "        article_sentimentC.append('Neutral')"
   ]
  },
  {
   "cell_type": "code",
   "execution_count": 84,
   "metadata": {},
   "outputs": [
    {
     "data": {
      "text/html": [
       "<div>\n",
       "<style scoped>\n",
       "    .dataframe tbody tr th:only-of-type {\n",
       "        vertical-align: middle;\n",
       "    }\n",
       "\n",
       "    .dataframe tbody tr th {\n",
       "        vertical-align: top;\n",
       "    }\n",
       "\n",
       "    .dataframe thead th {\n",
       "        text-align: right;\n",
       "    }\n",
       "</style>\n",
       "<table border=\"1\" class=\"dataframe\">\n",
       "  <thead>\n",
       "    <tr style=\"text-align: right;\">\n",
       "      <th></th>\n",
       "      <th>Non_Music_Sentiment</th>\n",
       "      <th>Article Sentiment</th>\n",
       "    </tr>\n",
       "    <tr>\n",
       "      <th>ID</th>\n",
       "      <th></th>\n",
       "      <th></th>\n",
       "    </tr>\n",
       "  </thead>\n",
       "  <tbody>\n",
       "    <tr>\n",
       "      <th>31615556</th>\n",
       "      <td>0.048780</td>\n",
       "      <td>Neutral</td>\n",
       "    </tr>\n",
       "    <tr>\n",
       "      <th>31615580</th>\n",
       "      <td>0.178571</td>\n",
       "      <td>Positive</td>\n",
       "    </tr>\n",
       "    <tr>\n",
       "      <th>31615695</th>\n",
       "      <td>0.102273</td>\n",
       "      <td>Positive</td>\n",
       "    </tr>\n",
       "    <tr>\n",
       "      <th>31615794</th>\n",
       "      <td>0.080645</td>\n",
       "      <td>Positive</td>\n",
       "    </tr>\n",
       "    <tr>\n",
       "      <th>31615830</th>\n",
       "      <td>0.203125</td>\n",
       "      <td>Positive</td>\n",
       "    </tr>\n",
       "  </tbody>\n",
       "</table>\n",
       "</div>"
      ],
      "text/plain": [
       "          Non_Music_Sentiment Article Sentiment\n",
       "ID                                             \n",
       "31615556             0.048780           Neutral\n",
       "31615580             0.178571          Positive\n",
       "31615695             0.102273          Positive\n",
       "31615794             0.080645          Positive\n",
       "31615830             0.203125          Positive"
      ]
     },
     "execution_count": 84,
     "metadata": {},
     "output_type": "execute_result"
    }
   ],
   "source": [
    "sentiment_control20['Article Sentiment'] = article_sentimentC\n",
    "sentiment_control20.head(5)"
   ]
  },
  {
   "cell_type": "code",
   "execution_count": 85,
   "metadata": {},
   "outputs": [
    {
     "name": "stderr",
     "output_type": "stream",
     "text": [
      "/home/orlam/NOW/lang101/lib/python3.6/site-packages/seaborn/_decorators.py:43: FutureWarning: Pass the following variable as a keyword arg: x. From version 0.12, the only valid positional argument will be `data`, and passing other arguments without an explicit keyword will result in an error or misinterpretation.\n",
      "  FutureWarning\n"
     ]
    },
    {
     "data": {
      "text/plain": [
       "<AxesSubplot:xlabel='Article Sentiment', ylabel='count'>"
      ]
     },
     "execution_count": 85,
     "metadata": {},
     "output_type": "execute_result"
    },
    {
     "data": {
      "image/png": "[encoded data removed]",
      "text/plain": [
       "<Figure size 792x288 with 1 Axes>"
      ]
     },
     "metadata": {},
     "output_type": "display_data"
    }
   ],
   "source": [
    "sns.countplot(sentiment_control20['Article Sentiment'])"
   ]
  },
  {
   "cell_type": "markdown",
   "metadata": {},
   "source": [
    "__Timeseries__"
   ]
  },
  {
   "cell_type": "code",
   "execution_count": 86,
   "metadata": {},
   "outputs": [
    {
     "data": {
      "text/plain": [
       "Non_Music_Sentiment    float64\n",
       "Article Sentiment       object\n",
       "ID ref                   int64\n",
       "dtype: object"
      ]
     },
     "execution_count": 86,
     "metadata": {},
     "output_type": "execute_result"
    }
   ],
   "source": [
    "#Plotting over time; first make the index (ID) a column \n",
    "sentiment_control20['ID ref']= sentiment_control20.index\n",
    "sentiment_control20.dtypes #check that it is an integer "
   ]
  },
  {
   "cell_type": "code",
   "execution_count": 87,
   "metadata": {},
   "outputs": [],
   "source": [
    "#Then match the date \n",
    "#Merge the date column onto music20_split \n",
    "sentiment_control20 = pd.merge(left = sentiment_control20, right = date_matchC20, how='left', left_on='ID ref', right_on='ID' )"
   ]
  },
  {
   "cell_type": "code",
   "execution_count": 88,
   "metadata": {},
   "outputs": [
    {
     "data": {
      "text/html": [
       "<div>\n",
       "<style scoped>\n",
       "    .dataframe tbody tr th:only-of-type {\n",
       "        vertical-align: middle;\n",
       "    }\n",
       "\n",
       "    .dataframe tbody tr th {\n",
       "        vertical-align: top;\n",
       "    }\n",
       "\n",
       "    .dataframe thead th {\n",
       "        text-align: right;\n",
       "    }\n",
       "</style>\n",
       "<table border=\"1\" class=\"dataframe\">\n",
       "  <thead>\n",
       "    <tr style=\"text-align: right;\">\n",
       "      <th></th>\n",
       "      <th>Non_Music_Sentiment</th>\n",
       "      <th>Article Sentiment</th>\n",
       "      <th>ID ref</th>\n",
       "      <th>Date</th>\n",
       "      <th>ID</th>\n",
       "    </tr>\n",
       "  </thead>\n",
       "  <tbody>\n",
       "    <tr>\n",
       "      <th>0</th>\n",
       "      <td>0.048780</td>\n",
       "      <td>Neutral</td>\n",
       "      <td>31615556</td>\n",
       "      <td>20-02-01</td>\n",
       "      <td>31615556</td>\n",
       "    </tr>\n",
       "    <tr>\n",
       "      <th>1</th>\n",
       "      <td>0.178571</td>\n",
       "      <td>Positive</td>\n",
       "      <td>31615580</td>\n",
       "      <td>20-02-01</td>\n",
       "      <td>31615580</td>\n",
       "    </tr>\n",
       "    <tr>\n",
       "      <th>2</th>\n",
       "      <td>0.102273</td>\n",
       "      <td>Positive</td>\n",
       "      <td>31615695</td>\n",
       "      <td>20-02-01</td>\n",
       "      <td>31615695</td>\n",
       "    </tr>\n",
       "    <tr>\n",
       "      <th>3</th>\n",
       "      <td>0.080645</td>\n",
       "      <td>Positive</td>\n",
       "      <td>31615794</td>\n",
       "      <td>20-02-01</td>\n",
       "      <td>31615794</td>\n",
       "    </tr>\n",
       "    <tr>\n",
       "      <th>4</th>\n",
       "      <td>0.203125</td>\n",
       "      <td>Positive</td>\n",
       "      <td>31615830</td>\n",
       "      <td>20-02-01</td>\n",
       "      <td>31615830</td>\n",
       "    </tr>\n",
       "  </tbody>\n",
       "</table>\n",
       "</div>"
      ],
      "text/plain": [
       "   Non_Music_Sentiment Article Sentiment    ID ref      Date        ID\n",
       "0             0.048780           Neutral  31615556  20-02-01  31615556\n",
       "1             0.178571          Positive  31615580  20-02-01  31615580\n",
       "2             0.102273          Positive  31615695  20-02-01  31615695\n",
       "3             0.080645          Positive  31615794  20-02-01  31615794\n",
       "4             0.203125          Positive  31615830  20-02-01  31615830"
      ]
     },
     "execution_count": 88,
     "metadata": {},
     "output_type": "execute_result"
    }
   ],
   "source": [
    "sentiment_control20.head(5)"
   ]
  },
  {
   "cell_type": "code",
   "execution_count": 89,
   "metadata": {},
   "outputs": [
    {
     "data": {
      "text/html": [
       "<div>\n",
       "<style scoped>\n",
       "    .dataframe tbody tr th:only-of-type {\n",
       "        vertical-align: middle;\n",
       "    }\n",
       "\n",
       "    .dataframe tbody tr th {\n",
       "        vertical-align: top;\n",
       "    }\n",
       "\n",
       "    .dataframe thead th {\n",
       "        text-align: right;\n",
       "    }\n",
       "</style>\n",
       "<table border=\"1\" class=\"dataframe\">\n",
       "  <thead>\n",
       "    <tr style=\"text-align: right;\">\n",
       "      <th></th>\n",
       "      <th>Non_Music_Sentiment</th>\n",
       "      <th>ID ref</th>\n",
       "      <th>ID</th>\n",
       "    </tr>\n",
       "    <tr>\n",
       "      <th>Date</th>\n",
       "      <th></th>\n",
       "      <th></th>\n",
       "      <th></th>\n",
       "    </tr>\n",
       "  </thead>\n",
       "  <tbody>\n",
       "    <tr>\n",
       "      <th>20-02-01</th>\n",
       "      <td>0.138229</td>\n",
       "      <td>6.515857e+07</td>\n",
       "      <td>6.515857e+07</td>\n",
       "    </tr>\n",
       "    <tr>\n",
       "      <th>20-02-02</th>\n",
       "      <td>0.154497</td>\n",
       "      <td>7.770877e+07</td>\n",
       "      <td>7.770877e+07</td>\n",
       "    </tr>\n",
       "    <tr>\n",
       "      <th>20-02-03</th>\n",
       "      <td>0.138415</td>\n",
       "      <td>6.924344e+07</td>\n",
       "      <td>6.924344e+07</td>\n",
       "    </tr>\n",
       "    <tr>\n",
       "      <th>20-02-04</th>\n",
       "      <td>0.113919</td>\n",
       "      <td>7.827230e+07</td>\n",
       "      <td>7.827230e+07</td>\n",
       "    </tr>\n",
       "    <tr>\n",
       "      <th>20-02-05</th>\n",
       "      <td>0.151030</td>\n",
       "      <td>6.242175e+07</td>\n",
       "      <td>6.242175e+07</td>\n",
       "    </tr>\n",
       "    <tr>\n",
       "      <th>...</th>\n",
       "      <td>...</td>\n",
       "      <td>...</td>\n",
       "      <td>...</td>\n",
       "    </tr>\n",
       "    <tr>\n",
       "      <th>20-04-26</th>\n",
       "      <td>0.113250</td>\n",
       "      <td>5.949856e+07</td>\n",
       "      <td>5.949856e+07</td>\n",
       "    </tr>\n",
       "    <tr>\n",
       "      <th>20-04-27</th>\n",
       "      <td>0.138506</td>\n",
       "      <td>6.860815e+07</td>\n",
       "      <td>6.860815e+07</td>\n",
       "    </tr>\n",
       "    <tr>\n",
       "      <th>20-04-28</th>\n",
       "      <td>0.109247</td>\n",
       "      <td>5.900199e+07</td>\n",
       "      <td>5.900199e+07</td>\n",
       "    </tr>\n",
       "    <tr>\n",
       "      <th>20-04-29</th>\n",
       "      <td>0.136781</td>\n",
       "      <td>6.056294e+07</td>\n",
       "      <td>6.056294e+07</td>\n",
       "    </tr>\n",
       "    <tr>\n",
       "      <th>20-04-30</th>\n",
       "      <td>0.130195</td>\n",
       "      <td>6.525261e+07</td>\n",
       "      <td>6.525261e+07</td>\n",
       "    </tr>\n",
       "  </tbody>\n",
       "</table>\n",
       "<p>89 rows × 3 columns</p>\n",
       "</div>"
      ],
      "text/plain": [
       "          Non_Music_Sentiment        ID ref            ID\n",
       "Date                                                     \n",
       "20-02-01             0.138229  6.515857e+07  6.515857e+07\n",
       "20-02-02             0.154497  7.770877e+07  7.770877e+07\n",
       "20-02-03             0.138415  6.924344e+07  6.924344e+07\n",
       "20-02-04             0.113919  7.827230e+07  7.827230e+07\n",
       "20-02-05             0.151030  6.242175e+07  6.242175e+07\n",
       "...                       ...           ...           ...\n",
       "20-04-26             0.113250  5.949856e+07  5.949856e+07\n",
       "20-04-27             0.138506  6.860815e+07  6.860815e+07\n",
       "20-04-28             0.109247  5.900199e+07  5.900199e+07\n",
       "20-04-29             0.136781  6.056294e+07  6.056294e+07\n",
       "20-04-30             0.130195  6.525261e+07  6.525261e+07\n",
       "\n",
       "[89 rows x 3 columns]"
      ]
     },
     "execution_count": 89,
     "metadata": {},
     "output_type": "execute_result"
    }
   ],
   "source": [
    "#We'll group by the date sentiment \n",
    "control20_sentiment = sentiment_control20.groupby(['Date']).mean()\n",
    "control20_sentiment"
   ]
  },
  {
   "cell_type": "code",
   "execution_count": 92,
   "metadata": {},
   "outputs": [
    {
     "data": {
      "text/html": [
       "<div>\n",
       "<style scoped>\n",
       "    .dataframe tbody tr th:only-of-type {\n",
       "        vertical-align: middle;\n",
       "    }\n",
       "\n",
       "    .dataframe tbody tr th {\n",
       "        vertical-align: top;\n",
       "    }\n",
       "\n",
       "    .dataframe thead th {\n",
       "        text-align: right;\n",
       "    }\n",
       "</style>\n",
       "<table border=\"1\" class=\"dataframe\">\n",
       "  <thead>\n",
       "    <tr style=\"text-align: right;\">\n",
       "      <th></th>\n",
       "      <th>Non_Music_Sentiment</th>\n",
       "    </tr>\n",
       "    <tr>\n",
       "      <th>Date</th>\n",
       "      <th></th>\n",
       "    </tr>\n",
       "  </thead>\n",
       "  <tbody>\n",
       "    <tr>\n",
       "      <th>20-02-01</th>\n",
       "      <td>0.138229</td>\n",
       "    </tr>\n",
       "    <tr>\n",
       "      <th>20-02-02</th>\n",
       "      <td>0.154497</td>\n",
       "    </tr>\n",
       "    <tr>\n",
       "      <th>20-02-03</th>\n",
       "      <td>0.138415</td>\n",
       "    </tr>\n",
       "    <tr>\n",
       "      <th>20-02-04</th>\n",
       "      <td>0.113919</td>\n",
       "    </tr>\n",
       "    <tr>\n",
       "      <th>20-02-05</th>\n",
       "      <td>0.151030</td>\n",
       "    </tr>\n",
       "    <tr>\n",
       "      <th>...</th>\n",
       "      <td>...</td>\n",
       "    </tr>\n",
       "    <tr>\n",
       "      <th>20-04-26</th>\n",
       "      <td>0.113250</td>\n",
       "    </tr>\n",
       "    <tr>\n",
       "      <th>20-04-27</th>\n",
       "      <td>0.138506</td>\n",
       "    </tr>\n",
       "    <tr>\n",
       "      <th>20-04-28</th>\n",
       "      <td>0.109247</td>\n",
       "    </tr>\n",
       "    <tr>\n",
       "      <th>20-04-29</th>\n",
       "      <td>0.136781</td>\n",
       "    </tr>\n",
       "    <tr>\n",
       "      <th>20-04-30</th>\n",
       "      <td>0.130195</td>\n",
       "    </tr>\n",
       "  </tbody>\n",
       "</table>\n",
       "<p>89 rows × 1 columns</p>\n",
       "</div>"
      ],
      "text/plain": [
       "          Non_Music_Sentiment\n",
       "Date                         \n",
       "20-02-01             0.138229\n",
       "20-02-02             0.154497\n",
       "20-02-03             0.138415\n",
       "20-02-04             0.113919\n",
       "20-02-05             0.151030\n",
       "...                       ...\n",
       "20-04-26             0.113250\n",
       "20-04-27             0.138506\n",
       "20-04-28             0.109247\n",
       "20-04-29             0.136781\n",
       "20-04-30             0.130195\n",
       "\n",
       "[89 rows x 1 columns]"
      ]
     },
     "execution_count": 92,
     "metadata": {},
     "output_type": "execute_result"
    }
   ],
   "source": [
    "#Keep only the columns we need\n",
    "control20_sentiment = control20_sentiment[['Non_Music_Sentiment']]\n",
    "control20_sentiment"
   ]
  },
  {
   "cell_type": "code",
   "execution_count": 93,
   "metadata": {},
   "outputs": [],
   "source": [
    "#Merge the music and control sentiment scores by date together \n",
    "timeseries_2020 = pd.merge(left = music_sentiment, right = control20_sentiment, how='left', on='Date')"
   ]
  },
  {
   "cell_type": "code",
   "execution_count": 94,
   "metadata": {},
   "outputs": [
    {
     "data": {
      "text/html": [
       "<div>\n",
       "<style scoped>\n",
       "    .dataframe tbody tr th:only-of-type {\n",
       "        vertical-align: middle;\n",
       "    }\n",
       "\n",
       "    .dataframe tbody tr th {\n",
       "        vertical-align: top;\n",
       "    }\n",
       "\n",
       "    .dataframe thead th {\n",
       "        text-align: right;\n",
       "    }\n",
       "</style>\n",
       "<table border=\"1\" class=\"dataframe\">\n",
       "  <thead>\n",
       "    <tr style=\"text-align: right;\">\n",
       "      <th></th>\n",
       "      <th>Music_Sentiment</th>\n",
       "      <th>Non_Music_Sentiment</th>\n",
       "    </tr>\n",
       "    <tr>\n",
       "      <th>Date</th>\n",
       "      <th></th>\n",
       "      <th></th>\n",
       "    </tr>\n",
       "  </thead>\n",
       "  <tbody>\n",
       "    <tr>\n",
       "      <th>20-02-01</th>\n",
       "      <td>0.137500</td>\n",
       "      <td>0.138229</td>\n",
       "    </tr>\n",
       "    <tr>\n",
       "      <th>20-02-02</th>\n",
       "      <td>0.163025</td>\n",
       "      <td>0.154497</td>\n",
       "    </tr>\n",
       "    <tr>\n",
       "      <th>20-02-03</th>\n",
       "      <td>0.128713</td>\n",
       "      <td>0.138415</td>\n",
       "    </tr>\n",
       "    <tr>\n",
       "      <th>20-02-04</th>\n",
       "      <td>0.170808</td>\n",
       "      <td>0.113919</td>\n",
       "    </tr>\n",
       "    <tr>\n",
       "      <th>20-02-05</th>\n",
       "      <td>0.125108</td>\n",
       "      <td>0.151030</td>\n",
       "    </tr>\n",
       "    <tr>\n",
       "      <th>...</th>\n",
       "      <td>...</td>\n",
       "      <td>...</td>\n",
       "    </tr>\n",
       "    <tr>\n",
       "      <th>20-04-26</th>\n",
       "      <td>0.107828</td>\n",
       "      <td>0.113250</td>\n",
       "    </tr>\n",
       "    <tr>\n",
       "      <th>20-04-27</th>\n",
       "      <td>0.168433</td>\n",
       "      <td>0.138506</td>\n",
       "    </tr>\n",
       "    <tr>\n",
       "      <th>20-04-28</th>\n",
       "      <td>0.132755</td>\n",
       "      <td>0.109247</td>\n",
       "    </tr>\n",
       "    <tr>\n",
       "      <th>20-04-29</th>\n",
       "      <td>0.126954</td>\n",
       "      <td>0.136781</td>\n",
       "    </tr>\n",
       "    <tr>\n",
       "      <th>20-04-30</th>\n",
       "      <td>0.112393</td>\n",
       "      <td>0.130195</td>\n",
       "    </tr>\n",
       "  </tbody>\n",
       "</table>\n",
       "<p>89 rows × 2 columns</p>\n",
       "</div>"
      ],
      "text/plain": [
       "          Music_Sentiment  Non_Music_Sentiment\n",
       "Date                                          \n",
       "20-02-01         0.137500             0.138229\n",
       "20-02-02         0.163025             0.154497\n",
       "20-02-03         0.128713             0.138415\n",
       "20-02-04         0.170808             0.113919\n",
       "20-02-05         0.125108             0.151030\n",
       "...                   ...                  ...\n",
       "20-04-26         0.107828             0.113250\n",
       "20-04-27         0.168433             0.138506\n",
       "20-04-28         0.132755             0.109247\n",
       "20-04-29         0.126954             0.136781\n",
       "20-04-30         0.112393             0.130195\n",
       "\n",
       "[89 rows x 2 columns]"
      ]
     },
     "execution_count": 94,
     "metadata": {},
     "output_type": "execute_result"
    }
   ],
   "source": [
    "timeseries_2020"
   ]
  },
  {
   "cell_type": "code",
   "execution_count": 95,
   "metadata": {},
   "outputs": [],
   "source": [
    "#Save this dataframe \n",
    "timeseries_2020.to_csv(\"../data/combined_data/sentiment_by_date2020.csv\", index = False)"
   ]
  },
  {
   "cell_type": "code",
   "execution_count": 106,
   "metadata": {},
   "outputs": [],
   "source": [
    "#combine the music and non_music lists \n",
    "sentiment_combined20 = pd.melt(timeseries_2020.reset_index(),'Date', var_name='Article group', value_name='Avg daily sentiment')\n"
   ]
  },
  {
   "cell_type": "code",
   "execution_count": 102,
   "metadata": {},
   "outputs": [
    {
     "data": {
      "text/html": [
       "<div>\n",
       "<style scoped>\n",
       "    .dataframe tbody tr th:only-of-type {\n",
       "        vertical-align: middle;\n",
       "    }\n",
       "\n",
       "    .dataframe tbody tr th {\n",
       "        vertical-align: top;\n",
       "    }\n",
       "\n",
       "    .dataframe thead th {\n",
       "        text-align: right;\n",
       "    }\n",
       "</style>\n",
       "<table border=\"1\" class=\"dataframe\">\n",
       "  <thead>\n",
       "    <tr style=\"text-align: right;\">\n",
       "      <th></th>\n",
       "      <th>Date</th>\n",
       "      <th>Article group</th>\n",
       "      <th>Avg daily sentiment</th>\n",
       "    </tr>\n",
       "  </thead>\n",
       "  <tbody>\n",
       "    <tr>\n",
       "      <th>0</th>\n",
       "      <td>20-02-01</td>\n",
       "      <td>Music_Sentiment</td>\n",
       "      <td>0.137500</td>\n",
       "    </tr>\n",
       "    <tr>\n",
       "      <th>1</th>\n",
       "      <td>20-02-02</td>\n",
       "      <td>Music_Sentiment</td>\n",
       "      <td>0.163025</td>\n",
       "    </tr>\n",
       "    <tr>\n",
       "      <th>2</th>\n",
       "      <td>20-02-03</td>\n",
       "      <td>Music_Sentiment</td>\n",
       "      <td>0.128713</td>\n",
       "    </tr>\n",
       "    <tr>\n",
       "      <th>3</th>\n",
       "      <td>20-02-04</td>\n",
       "      <td>Music_Sentiment</td>\n",
       "      <td>0.170808</td>\n",
       "    </tr>\n",
       "    <tr>\n",
       "      <th>4</th>\n",
       "      <td>20-02-05</td>\n",
       "      <td>Music_Sentiment</td>\n",
       "      <td>0.125108</td>\n",
       "    </tr>\n",
       "    <tr>\n",
       "      <th>5</th>\n",
       "      <td>20-02-06</td>\n",
       "      <td>Music_Sentiment</td>\n",
       "      <td>0.152485</td>\n",
       "    </tr>\n",
       "    <tr>\n",
       "      <th>6</th>\n",
       "      <td>20-02-07</td>\n",
       "      <td>Music_Sentiment</td>\n",
       "      <td>0.166037</td>\n",
       "    </tr>\n",
       "    <tr>\n",
       "      <th>7</th>\n",
       "      <td>20-02-08</td>\n",
       "      <td>Music_Sentiment</td>\n",
       "      <td>0.149290</td>\n",
       "    </tr>\n",
       "    <tr>\n",
       "      <th>8</th>\n",
       "      <td>20-02-09</td>\n",
       "      <td>Music_Sentiment</td>\n",
       "      <td>0.145991</td>\n",
       "    </tr>\n",
       "    <tr>\n",
       "      <th>9</th>\n",
       "      <td>20-02-10</td>\n",
       "      <td>Music_Sentiment</td>\n",
       "      <td>0.184879</td>\n",
       "    </tr>\n",
       "  </tbody>\n",
       "</table>\n",
       "</div>"
      ],
      "text/plain": [
       "       Date    Article group  Avg daily sentiment\n",
       "0  20-02-01  Music_Sentiment             0.137500\n",
       "1  20-02-02  Music_Sentiment             0.163025\n",
       "2  20-02-03  Music_Sentiment             0.128713\n",
       "3  20-02-04  Music_Sentiment             0.170808\n",
       "4  20-02-05  Music_Sentiment             0.125108\n",
       "5  20-02-06  Music_Sentiment             0.152485\n",
       "6  20-02-07  Music_Sentiment             0.166037\n",
       "7  20-02-08  Music_Sentiment             0.149290\n",
       "8  20-02-09  Music_Sentiment             0.145991\n",
       "9  20-02-10  Music_Sentiment             0.184879"
      ]
     },
     "execution_count": 102,
     "metadata": {},
     "output_type": "execute_result"
    }
   ],
   "source": [
    "len(sentiment_combined20) #178 \n",
    "\n",
    "sentiment_combined20.head(10)"
   ]
  },
  {
   "cell_type": "markdown",
   "metadata": {},
   "source": [
    "__Some statistics__"
   ]
  },
  {
   "cell_type": "code",
   "execution_count": 113,
   "metadata": {},
   "outputs": [
    {
     "data": {
      "text/plain": [
       "0.14521585600168752"
      ]
     },
     "execution_count": 113,
     "metadata": {},
     "output_type": "execute_result"
    }
   ],
   "source": [
    "#Averaging \n",
    "\n",
    "# Music 2020 \n",
    "timeseries_2020.Music_Sentiment.mean() #0.152\n",
    "timeseries_2020.Music_Sentiment.median() #0.150\n",
    "\n",
    "#Non-Music 2020 \n",
    "timeseries_2020.Non_Music_Sentiment.mean() #0.145\n",
    "timeseries_2020.Non_Music_Sentiment.median() #0.145\n",
    "\n"
   ]
  },
  {
   "cell_type": "markdown",
   "metadata": {},
   "source": [
    "_Notes_\n",
    "\n",
    "Independent 2-sample t-test run on the sentiments: \n",
    "Both distributions were deemed to be normal, and an f-test confirmed there was no significant difference between the variances (i.e. the variances were equal)\n",
    "\n",
    "Music appears to have a slight increase in sentiment for 2020, although this is very small and just misses the  significance threshold of 0.05 (p = 0.06). "
   ]
  },
  {
   "cell_type": "markdown",
   "metadata": {},
   "source": [
    "__How does it look: Timeseries graph__"
   ]
  },
  {
   "cell_type": "code",
   "execution_count": 114,
   "metadata": {},
   "outputs": [],
   "source": [
    "# Use seaborn style defaults and set the default figure size\n",
    "sns.set(rc={'figure.figsize':(11, 4)})\n",
    "#palette = sns.color_palette(\"rocket_r\")\n",
    "palette = sns.color_palette(\"Set2\")[1:3]"
   ]
  },
  {
   "cell_type": "code",
   "execution_count": 115,
   "metadata": {},
   "outputs": [
    {
     "data": {
      "image/png": "[encoded data removed]",
      "text/plain": [
       "<Figure size 792x288 with 1 Axes>"
      ]
     },
     "metadata": {},
     "output_type": "display_data"
    }
   ],
   "source": [
    "#sns.set_style(\"ticks\", {\"xtick.major.size\": 10, \"ytick.major.size\": 0.1})\n",
    "sns.set_theme(style=\"whitegrid\")\n",
    "\n",
    "ax = sns.lineplot(data = sentiment_combined20,\n",
    "                  x = 'Date',\n",
    "                  y = 'Avg daily sentiment',\n",
    "                  hue = 'Article group',\n",
    "                  palette = palette)\n",
    "\n",
    "ax.set_title('Average daily sentiment in NOW dataset: music vs non-music related 2020')\n",
    "\n",
    "for ind, label in enumerate(ax.get_xticklabels()):\n",
    "    if ind % 10 == 0:  # every 15th label is kept\n",
    "        label.set_visible(True)\n",
    "    else:\n",
    "        label.set_visible(False)\n",
    "\n",
    "## Define the date format\n",
    "#date_form = DateFormatter(\"%Y-%m-%d\")\n",
    "#ax.xaxis.set_major_formatter(date_form)\n",
    "#plt.savefig('../Plots/sentiment_over_time_withrt.png', dpi=300)"
   ]
  },
  {
   "cell_type": "markdown",
   "metadata": {},
   "source": [
    "_Comments on 2020 timeseries analysis_\n",
    "\n",
    "In the above graph, we see that there is a small tendancy for the music-articles to have a higher sentiment score, but that in general news articles tend to exhibit a similar pattern no matter whether they are about music or not. \n",
    "\n",
    "There is a notable dip in non-music articles around the 20th February, however surprisingly the sentment is at a high for both articles whenever the majority of lockdowns were being put in place. "
   ]
  },
  {
   "cell_type": "markdown",
   "metadata": {},
   "source": [
    "## 2019 Sentiment Analysis "
   ]
  },
  {
   "cell_type": "markdown",
   "metadata": {},
   "source": [
    "__Remove numbers__"
   ]
  },
  {
   "cell_type": "code",
   "execution_count": 116,
   "metadata": {},
   "outputs": [],
   "source": [
    "#remove numbers from music_2019\n",
    "music19_cleaned = []                           #empty list to store cleaned text \n",
    "remove_numbers(music_2019, music19_cleaned)    #perform function \n",
    "music_2019['cleaned_text'] = music19_cleaned"
   ]
  },
  {
   "cell_type": "code",
   "execution_count": 117,
   "metadata": {},
   "outputs": [],
   "source": [
    "#remove numbers from control_2019\n",
    "control19_cleaned = []                           #empty list to store cleaned text \n",
    "remove_numbers(control_2019, control19_cleaned)    #perform function \n",
    "control_2019['cleaned_text'] = control19_cleaned"
   ]
  },
  {
   "cell_type": "markdown",
   "metadata": {},
   "source": [
    "__Split article column into sentences__"
   ]
  },
  {
   "cell_type": "code",
   "execution_count": 119,
   "metadata": {},
   "outputs": [
    {
     "data": {
      "text/html": [
       "<div>\n",
       "<style scoped>\n",
       "    .dataframe tbody tr th:only-of-type {\n",
       "        vertical-align: middle;\n",
       "    }\n",
       "\n",
       "    .dataframe tbody tr th {\n",
       "        vertical-align: top;\n",
       "    }\n",
       "\n",
       "    .dataframe thead th {\n",
       "        text-align: right;\n",
       "    }\n",
       "</style>\n",
       "<table border=\"1\" class=\"dataframe\">\n",
       "  <thead>\n",
       "    <tr style=\"text-align: right;\">\n",
       "      <th></th>\n",
       "      <th>Article</th>\n",
       "      <th>ID</th>\n",
       "      <th>_merge</th>\n",
       "      <th>Date</th>\n",
       "      <th>cleaned_text</th>\n",
       "    </tr>\n",
       "  </thead>\n",
       "  <tbody>\n",
       "    <tr>\n",
       "      <th>0</th>\n",
       "      <td>gemma collins has been seen struggling with ...</td>\n",
       "      <td>60500045</td>\n",
       "      <td>left_only</td>\n",
       "      <td>19-02-01</td>\n",
       "      <td>gemma collins has been seen struggling with ...</td>\n",
       "    </tr>\n",
       "    <tr>\n",
       "      <th>1</th>\n",
       "      <td>the muppets tear each-other apart in the rap...</td>\n",
       "      <td>60500219</td>\n",
       "      <td>left_only</td>\n",
       "      <td>19-02-01</td>\n",
       "      <td>the muppets tear each-other apart in the rap...</td>\n",
       "    </tr>\n",
       "    <tr>\n",
       "      <th>2</th>\n",
       "      <td>last month , i was having a discussion with ...</td>\n",
       "      <td>60500432</td>\n",
       "      <td>left_only</td>\n",
       "      <td>19-02-01</td>\n",
       "      <td>last month , i was having a discussion with ...</td>\n",
       "    </tr>\n",
       "    <tr>\n",
       "      <th>3</th>\n",
       "      <td>this site uses cookies to improve your exper...</td>\n",
       "      <td>60500678</td>\n",
       "      <td>left_only</td>\n",
       "      <td>19-02-01</td>\n",
       "      <td>this site uses cookies to improve your exper...</td>\n",
       "    </tr>\n",
       "    <tr>\n",
       "      <th>4</th>\n",
       "      <td>album review : the specials , encore  the sp...</td>\n",
       "      <td>60500914</td>\n",
       "      <td>left_only</td>\n",
       "      <td>19-02-01</td>\n",
       "      <td>album review : the specials , encore  the sp...</td>\n",
       "    </tr>\n",
       "  </tbody>\n",
       "</table>\n",
       "</div>"
      ],
      "text/plain": [
       "                                             Article        ID     _merge  \\\n",
       "0    gemma collins has been seen struggling with ...  60500045  left_only   \n",
       "1    the muppets tear each-other apart in the rap...  60500219  left_only   \n",
       "2    last month , i was having a discussion with ...  60500432  left_only   \n",
       "3    this site uses cookies to improve your exper...  60500678  left_only   \n",
       "4    album review : the specials , encore  the sp...  60500914  left_only   \n",
       "\n",
       "       Date                                       cleaned_text  \n",
       "0  19-02-01    gemma collins has been seen struggling with ...  \n",
       "1  19-02-01    the muppets tear each-other apart in the rap...  \n",
       "2  19-02-01    last month , i was having a discussion with ...  \n",
       "3  19-02-01    this site uses cookies to improve your exper...  \n",
       "4  19-02-01    album review : the specials , encore  the sp...  "
      ]
     },
     "execution_count": 119,
     "metadata": {},
     "output_type": "execute_result"
    }
   ],
   "source": [
    "#Take music 2020 and split it so that each sentence has it's own row \n",
    "len(music_2019) #original length = 10426\n",
    "music_2019.head(5)"
   ]
  },
  {
   "cell_type": "code",
   "execution_count": 120,
   "metadata": {},
   "outputs": [],
   "source": [
    "#Rule for splitting sentences using regex (an efficient and widely used concept)\n",
    "rule = r\"(?<!\\w\\.\\w.)(?<![A-Z][a-z]\\.)(?<=\\.|\\?)\\s\"\n",
    "\n",
    "#tokenise sentences using rule as the delimter \n",
    "music19_split = DataFrame(music_2019.cleaned_text.str.split(rule).tolist(), index=music_2019.ID).stack()"
   ]
  },
  {
   "cell_type": "code",
   "execution_count": 123,
   "metadata": {},
   "outputs": [],
   "source": [
    "#fixing up the indexes etc \n",
    "music19_split = music19_split.reset_index()[[0, 'ID']]\n",
    "music19_split.columns = ['cleaned_text', 'ID'] # renaming variables"
   ]
  },
  {
   "cell_type": "code",
   "execution_count": 126,
   "metadata": {},
   "outputs": [
    {
     "data": {
      "text/html": [
       "<div>\n",
       "<style scoped>\n",
       "    .dataframe tbody tr th:only-of-type {\n",
       "        vertical-align: middle;\n",
       "    }\n",
       "\n",
       "    .dataframe tbody tr th {\n",
       "        vertical-align: top;\n",
       "    }\n",
       "\n",
       "    .dataframe thead th {\n",
       "        text-align: right;\n",
       "    }\n",
       "</style>\n",
       "<table border=\"1\" class=\"dataframe\">\n",
       "  <thead>\n",
       "    <tr style=\"text-align: right;\">\n",
       "      <th></th>\n",
       "      <th>cleaned_text</th>\n",
       "      <th>ID</th>\n",
       "    </tr>\n",
       "  </thead>\n",
       "  <tbody>\n",
       "    <tr>\n",
       "      <th>0</th>\n",
       "      <td>gemma collins has been seen struggling with ...</td>\n",
       "      <td>60500045</td>\n",
       "    </tr>\n",
       "    <tr>\n",
       "      <th>1</th>\n",
       "      <td>the gc sadly collapsed onto the ice last week...</td>\n",
       "      <td>60500045</td>\n",
       "    </tr>\n",
       "    <tr>\n",
       "      <th>2</th>\n",
       "      <td>it left her with a damaged knee , and her boy...</td>\n",
       "      <td>60500045</td>\n",
       "    </tr>\n",
       "    <tr>\n",
       "      <th>3</th>\n",
       "      <td>but nothing will hold her down , as she has b...</td>\n",
       "      <td>60500045</td>\n",
       "    </tr>\n",
       "    <tr>\n",
       "      <th>4</th>\n",
       "      <td>gemma smiled as she tried some new moves ( im...</td>\n",
       "      <td>60500045</td>\n",
       "    </tr>\n",
       "  </tbody>\n",
       "</table>\n",
       "</div>"
      ],
      "text/plain": [
       "                                        cleaned_text        ID\n",
       "0    gemma collins has been seen struggling with ...  60500045\n",
       "1   the gc sadly collapsed onto the ice last week...  60500045\n",
       "2   it left her with a damaged knee , and her boy...  60500045\n",
       "3   but nothing will hold her down , as she has b...  60500045\n",
       "4   gemma smiled as she tried some new moves ( im...  60500045"
      ]
     },
     "execution_count": 126,
     "metadata": {},
     "output_type": "execute_result"
    }
   ],
   "source": [
    "music19_split.head(5) #272,344 rows long"
   ]
  },
  {
   "cell_type": "markdown",
   "metadata": {},
   "source": [
    "__Create a column to edit the text__"
   ]
  },
  {
   "cell_type": "code",
   "execution_count": 127,
   "metadata": {},
   "outputs": [
    {
     "data": {
      "text/html": [
       "<div>\n",
       "<style scoped>\n",
       "    .dataframe tbody tr th:only-of-type {\n",
       "        vertical-align: middle;\n",
       "    }\n",
       "\n",
       "    .dataframe tbody tr th {\n",
       "        vertical-align: top;\n",
       "    }\n",
       "\n",
       "    .dataframe thead th {\n",
       "        text-align: right;\n",
       "    }\n",
       "</style>\n",
       "<table border=\"1\" class=\"dataframe\">\n",
       "  <thead>\n",
       "    <tr style=\"text-align: right;\">\n",
       "      <th></th>\n",
       "      <th>cleaned_text</th>\n",
       "      <th>ID</th>\n",
       "      <th>Article_without_stopwords</th>\n",
       "    </tr>\n",
       "  </thead>\n",
       "  <tbody>\n",
       "    <tr>\n",
       "      <th>0</th>\n",
       "      <td>gemma collins has been seen struggling with ...</td>\n",
       "      <td>60500045</td>\n",
       "      <td>gemma collins has been seen struggling with ...</td>\n",
       "    </tr>\n",
       "    <tr>\n",
       "      <th>1</th>\n",
       "      <td>the gc sadly collapsed onto the ice last week...</td>\n",
       "      <td>60500045</td>\n",
       "      <td>the gc sadly collapsed onto the ice last week...</td>\n",
       "    </tr>\n",
       "    <tr>\n",
       "      <th>2</th>\n",
       "      <td>it left her with a damaged knee , and her boy...</td>\n",
       "      <td>60500045</td>\n",
       "      <td>it left her with a damaged knee , and her boy...</td>\n",
       "    </tr>\n",
       "    <tr>\n",
       "      <th>3</th>\n",
       "      <td>but nothing will hold her down , as she has b...</td>\n",
       "      <td>60500045</td>\n",
       "      <td>but nothing will hold her down , as she has b...</td>\n",
       "    </tr>\n",
       "    <tr>\n",
       "      <th>4</th>\n",
       "      <td>gemma smiled as she tried some new moves ( im...</td>\n",
       "      <td>60500045</td>\n",
       "      <td>gemma smiled as she tried some new moves ( im...</td>\n",
       "    </tr>\n",
       "  </tbody>\n",
       "</table>\n",
       "</div>"
      ],
      "text/plain": [
       "                                        cleaned_text        ID  \\\n",
       "0    gemma collins has been seen struggling with ...  60500045   \n",
       "1   the gc sadly collapsed onto the ice last week...  60500045   \n",
       "2   it left her with a damaged knee , and her boy...  60500045   \n",
       "3   but nothing will hold her down , as she has b...  60500045   \n",
       "4   gemma smiled as she tried some new moves ( im...  60500045   \n",
       "\n",
       "                           Article_without_stopwords  \n",
       "0    gemma collins has been seen struggling with ...  \n",
       "1   the gc sadly collapsed onto the ice last week...  \n",
       "2   it left her with a damaged knee , and her boy...  \n",
       "3   but nothing will hold her down , as she has b...  \n",
       "4   gemma smiled as she tried some new moves ( im...  "
      ]
     },
     "execution_count": 127,
     "metadata": {},
     "output_type": "execute_result"
    }
   ],
   "source": [
    "#Duplicating text column to edit \n",
    "Edited_sentence19 = music19_split['cleaned_text'].copy()\n",
    "music19_split['Article_without_stopwords'] = Edited_sentence19\n",
    "music19_split.head(5)"
   ]
  },
  {
   "cell_type": "markdown",
   "metadata": {},
   "source": [
    "__Preprocess the data__"
   ]
  },
  {
   "cell_type": "code",
   "execution_count": 129,
   "metadata": {},
   "outputs": [],
   "source": [
    "# Using the preprocessing function to preprocess the hotel data\n",
    "preprocess_Articles(music19_split, 'Article_without_stopwords')"
   ]
  },
  {
   "cell_type": "markdown",
   "metadata": {},
   "source": [
    "__Tokenize and remove stopwords__"
   ]
  },
  {
   "cell_type": "code",
   "execution_count": 130,
   "metadata": {},
   "outputs": [],
   "source": [
    "# Using tokenizer and removing the stopwords\n",
    "rem_stopwords_tokenize(music19_split, 'Article_without_stopwords')"
   ]
  },
  {
   "cell_type": "markdown",
   "metadata": {},
   "source": [
    "__Convert all words back to sentences__"
   ]
  },
  {
   "cell_type": "code",
   "execution_count": 131,
   "metadata": {},
   "outputs": [],
   "source": [
    "# Converting all the texts back to sentences\n",
    "make_sentences(music19_split, 'Article_without_stopwords')"
   ]
  },
  {
   "cell_type": "code",
   "execution_count": 134,
   "metadata": {},
   "outputs": [
    {
     "data": {
      "text/html": [
       "<div>\n",
       "<style scoped>\n",
       "    .dataframe tbody tr th:only-of-type {\n",
       "        vertical-align: middle;\n",
       "    }\n",
       "\n",
       "    .dataframe tbody tr th {\n",
       "        vertical-align: top;\n",
       "    }\n",
       "\n",
       "    .dataframe thead th {\n",
       "        text-align: right;\n",
       "    }\n",
       "</style>\n",
       "<table border=\"1\" class=\"dataframe\">\n",
       "  <thead>\n",
       "    <tr style=\"text-align: right;\">\n",
       "      <th></th>\n",
       "      <th>cleaned_text</th>\n",
       "      <th>ID</th>\n",
       "      <th>Article_without_stopwords</th>\n",
       "    </tr>\n",
       "  </thead>\n",
       "  <tbody>\n",
       "    <tr>\n",
       "      <th>0</th>\n",
       "      <td>gemma collins has been seen struggling with ...</td>\n",
       "      <td>60500045</td>\n",
       "      <td>gemma collins seen struggling withknee injury ...</td>\n",
       "    </tr>\n",
       "    <tr>\n",
       "      <th>1</th>\n",
       "      <td>the gc sadly collapsed onto the ice last week...</td>\n",
       "      <td>60500045</td>\n",
       "      <td>gc sadly collapsed onto ice last week later sa...</td>\n",
       "    </tr>\n",
       "    <tr>\n",
       "      <th>2</th>\n",
       "      <td>it left her with a damaged knee , and her boy...</td>\n",
       "      <td>60500045</td>\n",
       "      <td>left withdamaged knee boyfriend james arg arge...</td>\n",
       "    </tr>\n",
       "    <tr>\n",
       "      <th>3</th>\n",
       "      <td>but nothing will hold her down , as she has b...</td>\n",
       "      <td>60500045</td>\n",
       "      <td>nothing hold seen back ice partner matt evers ...</td>\n",
       "    </tr>\n",
       "    <tr>\n",
       "      <th>4</th>\n",
       "      <td>gemma smiled as she tried some new moves ( im...</td>\n",
       "      <td>60500045</td>\n",
       "      <td>gemma smiled tried new moves image itv gave be...</td>\n",
       "    </tr>\n",
       "  </tbody>\n",
       "</table>\n",
       "</div>"
      ],
      "text/plain": [
       "                                        cleaned_text        ID  \\\n",
       "0    gemma collins has been seen struggling with ...  60500045   \n",
       "1   the gc sadly collapsed onto the ice last week...  60500045   \n",
       "2   it left her with a damaged knee , and her boy...  60500045   \n",
       "3   but nothing will hold her down , as she has b...  60500045   \n",
       "4   gemma smiled as she tried some new moves ( im...  60500045   \n",
       "\n",
       "                           Article_without_stopwords  \n",
       "0  gemma collins seen struggling withknee injury ...  \n",
       "1  gc sadly collapsed onto ice last week later sa...  \n",
       "2  left withdamaged knee boyfriend james arg arge...  \n",
       "3  nothing hold seen back ice partner matt evers ...  \n",
       "4  gemma smiled tried new moves image itv gave be...  "
      ]
     },
     "execution_count": 134,
     "metadata": {},
     "output_type": "execute_result"
    }
   ],
   "source": [
    "music19_split.head(5)"
   ]
  },
  {
   "cell_type": "markdown",
   "metadata": {},
   "source": [
    "__Create final edits text column__"
   ]
  },
  {
   "cell_type": "code",
   "execution_count": 135,
   "metadata": {},
   "outputs": [],
   "source": [
    "#Create new column for final edits \n",
    "final_Edit19 = music19_split['Article_without_stopwords'].copy()\n",
    "music19_split[\"After_lemmatization\"] = final_Edit19"
   ]
  },
  {
   "cell_type": "markdown",
   "metadata": {},
   "source": [
    "__Lemmatize__"
   ]
  },
  {
   "cell_type": "code",
   "execution_count": 136,
   "metadata": {},
   "outputs": [],
   "source": [
    "# Using the Lemmatization function to lemmatize the hotel data\n",
    "Lemmatization(music19_split,'After_lemmatization')"
   ]
  },
  {
   "cell_type": "code",
   "execution_count": 137,
   "metadata": {},
   "outputs": [],
   "source": [
    "# Converting all the texts back to sentences\n",
    "make_sentences(music19_split, 'After_lemmatization')"
   ]
  },
  {
   "cell_type": "code",
   "execution_count": 138,
   "metadata": {},
   "outputs": [
    {
     "data": {
      "text/html": [
       "<div>\n",
       "<style scoped>\n",
       "    .dataframe tbody tr th:only-of-type {\n",
       "        vertical-align: middle;\n",
       "    }\n",
       "\n",
       "    .dataframe tbody tr th {\n",
       "        vertical-align: top;\n",
       "    }\n",
       "\n",
       "    .dataframe thead th {\n",
       "        text-align: right;\n",
       "    }\n",
       "</style>\n",
       "<table border=\"1\" class=\"dataframe\">\n",
       "  <thead>\n",
       "    <tr style=\"text-align: right;\">\n",
       "      <th></th>\n",
       "      <th>cleaned_text</th>\n",
       "      <th>ID</th>\n",
       "      <th>Article_without_stopwords</th>\n",
       "      <th>After_lemmatization</th>\n",
       "    </tr>\n",
       "  </thead>\n",
       "  <tbody>\n",
       "    <tr>\n",
       "      <th>0</th>\n",
       "      <td>gemma collins has been seen struggling with ...</td>\n",
       "      <td>60500045</td>\n",
       "      <td>gemma collins seen struggling withknee injury ...</td>\n",
       "      <td>gemma collins seen struggling withknee injury ...</td>\n",
       "    </tr>\n",
       "    <tr>\n",
       "      <th>1</th>\n",
       "      <td>the gc sadly collapsed onto the ice last week...</td>\n",
       "      <td>60500045</td>\n",
       "      <td>gc sadly collapsed onto ice last week later sa...</td>\n",
       "      <td>sadly collapsed onto ice last week later said ...</td>\n",
       "    </tr>\n",
       "    <tr>\n",
       "      <th>2</th>\n",
       "      <td>it left her with a damaged knee , and her boy...</td>\n",
       "      <td>60500045</td>\n",
       "      <td>left withdamaged knee boyfriend james arg arge...</td>\n",
       "      <td>left withdamaged knee boyfriend james arg arge...</td>\n",
       "    </tr>\n",
       "    <tr>\n",
       "      <th>3</th>\n",
       "      <td>but nothing will hold her down , as she has b...</td>\n",
       "      <td>60500045</td>\n",
       "      <td>nothing hold seen back ice partner matt evers ...</td>\n",
       "      <td>nothing hold seen back ice partner matt evers ...</td>\n",
       "    </tr>\n",
       "    <tr>\n",
       "      <th>4</th>\n",
       "      <td>gemma smiled as she tried some new moves ( im...</td>\n",
       "      <td>60500045</td>\n",
       "      <td>gemma smiled tried new moves image itv gave be...</td>\n",
       "      <td>gemma smiled tried new move image itv gave bes...</td>\n",
       "    </tr>\n",
       "  </tbody>\n",
       "</table>\n",
       "</div>"
      ],
      "text/plain": [
       "                                        cleaned_text        ID  \\\n",
       "0    gemma collins has been seen struggling with ...  60500045   \n",
       "1   the gc sadly collapsed onto the ice last week...  60500045   \n",
       "2   it left her with a damaged knee , and her boy...  60500045   \n",
       "3   but nothing will hold her down , as she has b...  60500045   \n",
       "4   gemma smiled as she tried some new moves ( im...  60500045   \n",
       "\n",
       "                           Article_without_stopwords  \\\n",
       "0  gemma collins seen struggling withknee injury ...   \n",
       "1  gc sadly collapsed onto ice last week later sa...   \n",
       "2  left withdamaged knee boyfriend james arg arge...   \n",
       "3  nothing hold seen back ice partner matt evers ...   \n",
       "4  gemma smiled tried new moves image itv gave be...   \n",
       "\n",
       "                                 After_lemmatization  \n",
       "0  gemma collins seen struggling withknee injury ...  \n",
       "1  sadly collapsed onto ice last week later said ...  \n",
       "2  left withdamaged knee boyfriend james arg arge...  \n",
       "3  nothing hold seen back ice partner matt evers ...  \n",
       "4  gemma smiled tried new move image itv gave bes...  "
      ]
     },
     "execution_count": 138,
     "metadata": {},
     "output_type": "execute_result"
    }
   ],
   "source": [
    "music19_split.head(5)"
   ]
  },
  {
   "cell_type": "markdown",
   "metadata": {},
   "source": [
    "__Tagging the words__"
   ]
  },
  {
   "cell_type": "code",
   "execution_count": 139,
   "metadata": {},
   "outputs": [],
   "source": [
    "pos=neg=obj=count=0\n",
    "\n",
    "postagging_music19 = []\n",
    "\n",
    "for article in music19_split ['After_lemmatization']:\n",
    "    list = word_tokenize(article)\n",
    "    postagging_music19.append(nltk.pos_tag(list))\n",
    "\n",
    "music19_split['pos_tags'] = postagging_music19"
   ]
  },
  {
   "cell_type": "code",
   "execution_count": 140,
   "metadata": {},
   "outputs": [
    {
     "data": {
      "text/html": [
       "<div>\n",
       "<style scoped>\n",
       "    .dataframe tbody tr th:only-of-type {\n",
       "        vertical-align: middle;\n",
       "    }\n",
       "\n",
       "    .dataframe tbody tr th {\n",
       "        vertical-align: top;\n",
       "    }\n",
       "\n",
       "    .dataframe thead th {\n",
       "        text-align: right;\n",
       "    }\n",
       "</style>\n",
       "<table border=\"1\" class=\"dataframe\">\n",
       "  <thead>\n",
       "    <tr style=\"text-align: right;\">\n",
       "      <th></th>\n",
       "      <th>cleaned_text</th>\n",
       "      <th>ID</th>\n",
       "      <th>Article_without_stopwords</th>\n",
       "      <th>After_lemmatization</th>\n",
       "      <th>pos_tags</th>\n",
       "    </tr>\n",
       "  </thead>\n",
       "  <tbody>\n",
       "    <tr>\n",
       "      <th>0</th>\n",
       "      <td>gemma collins has been seen struggling with ...</td>\n",
       "      <td>60500045</td>\n",
       "      <td>gemma collins seen struggling withknee injury ...</td>\n",
       "      <td>gemma collins seen struggling withknee injury ...</td>\n",
       "      <td>[(gemma, NN), (collins, NNS), (seen, VBN), (st...</td>\n",
       "    </tr>\n",
       "    <tr>\n",
       "      <th>1</th>\n",
       "      <td>the gc sadly collapsed onto the ice last week...</td>\n",
       "      <td>60500045</td>\n",
       "      <td>gc sadly collapsed onto ice last week later sa...</td>\n",
       "      <td>sadly collapsed onto ice last week later said ...</td>\n",
       "      <td>[(sadly, RB), (collapsed, VBD), (onto, IN), (i...</td>\n",
       "    </tr>\n",
       "    <tr>\n",
       "      <th>2</th>\n",
       "      <td>it left her with a damaged knee , and her boy...</td>\n",
       "      <td>60500045</td>\n",
       "      <td>left withdamaged knee boyfriend james arg arge...</td>\n",
       "      <td>left withdamaged knee boyfriend james arg arge...</td>\n",
       "      <td>[(left, RB), (withdamaged, VBN), (knee, NNS), ...</td>\n",
       "    </tr>\n",
       "    <tr>\n",
       "      <th>3</th>\n",
       "      <td>but nothing will hold her down , as she has b...</td>\n",
       "      <td>60500045</td>\n",
       "      <td>nothing hold seen back ice partner matt evers ...</td>\n",
       "      <td>nothing hold seen back ice partner matt evers ...</td>\n",
       "      <td>[(nothing, NN), (hold, NN), (seen, VBN), (back...</td>\n",
       "    </tr>\n",
       "    <tr>\n",
       "      <th>4</th>\n",
       "      <td>gemma smiled as she tried some new moves ( im...</td>\n",
       "      <td>60500045</td>\n",
       "      <td>gemma smiled tried new moves image itv gave be...</td>\n",
       "      <td>gemma smiled tried new move image itv gave bes...</td>\n",
       "      <td>[(gemma, NN), (smiled, VBD), (tried, JJ), (new...</td>\n",
       "    </tr>\n",
       "  </tbody>\n",
       "</table>\n",
       "</div>"
      ],
      "text/plain": [
       "                                        cleaned_text        ID  \\\n",
       "0    gemma collins has been seen struggling with ...  60500045   \n",
       "1   the gc sadly collapsed onto the ice last week...  60500045   \n",
       "2   it left her with a damaged knee , and her boy...  60500045   \n",
       "3   but nothing will hold her down , as she has b...  60500045   \n",
       "4   gemma smiled as she tried some new moves ( im...  60500045   \n",
       "\n",
       "                           Article_without_stopwords  \\\n",
       "0  gemma collins seen struggling withknee injury ...   \n",
       "1  gc sadly collapsed onto ice last week later sa...   \n",
       "2  left withdamaged knee boyfriend james arg arge...   \n",
       "3  nothing hold seen back ice partner matt evers ...   \n",
       "4  gemma smiled tried new moves image itv gave be...   \n",
       "\n",
       "                                 After_lemmatization  \\\n",
       "0  gemma collins seen struggling withknee injury ...   \n",
       "1  sadly collapsed onto ice last week later said ...   \n",
       "2  left withdamaged knee boyfriend james arg arge...   \n",
       "3  nothing hold seen back ice partner matt evers ...   \n",
       "4  gemma smiled tried new move image itv gave bes...   \n",
       "\n",
       "                                            pos_tags  \n",
       "0  [(gemma, NN), (collins, NNS), (seen, VBN), (st...  \n",
       "1  [(sadly, RB), (collapsed, VBD), (onto, IN), (i...  \n",
       "2  [(left, RB), (withdamaged, VBN), (knee, NNS), ...  \n",
       "3  [(nothing, NN), (hold, NN), (seen, VBN), (back...  \n",
       "4  [(gemma, NN), (smiled, VBD), (tried, JJ), (new...  "
      ]
     },
     "execution_count": 140,
     "metadata": {},
     "output_type": "execute_result"
    }
   ],
   "source": [
    "music19_split.head(5)"
   ]
  },
  {
   "cell_type": "markdown",
   "metadata": {},
   "source": [
    "__Get Sentiment score__"
   ]
  },
  {
   "cell_type": "code",
   "execution_count": 142,
   "metadata": {},
   "outputs": [
    {
     "name": "stdout",
     "output_type": "stream",
     "text": [
      "0        -0.625\n",
      "1        -1.125\n",
      "2         0.000\n",
      "3        -0.250\n",
      "4         0.375\n",
      "          ...  \n",
      "272339    0.000\n",
      "272340    0.000\n",
      "272341    0.250\n",
      "272342    0.500\n",
      "272343   -0.125\n",
      "Name: Music_Sentiment, Length: 272344, dtype: float64\n"
     ]
    }
   ],
   "source": [
    "senti_score19 = []\n",
    "\n",
    "for pos_val in music19_split['pos_tags']:\n",
    "    senti_val = [get_sentiment(x,y) for (x,y) in pos_val]\n",
    "    for score in senti_val:\n",
    "        try:\n",
    "            pos = pos + score[1]  #positive score is stored at 2nd position\n",
    "            neg = neg + score[2]  #negative score is stored at 3rd position\n",
    "        except:\n",
    "            continue\n",
    "    senti_score19.append(pos - neg)\n",
    "    pos=neg=0    \n",
    "    \n",
    "music19_split['Music_Sentiment'] = senti_score19\n",
    "print(music19_split['Music_Sentiment'])"
   ]
  },
  {
   "cell_type": "code",
   "execution_count": 146,
   "metadata": {},
   "outputs": [
    {
     "data": {
      "text/plain": [
       "0.0"
      ]
     },
     "execution_count": 146,
     "metadata": {},
     "output_type": "execute_result"
    }
   ],
   "source": [
    "#Getting to know more about the senti_score column \n",
    "max(music19_split['Music_Sentiment']) #max value = 10.26 \n",
    "\n",
    "min(music19_split['Music_Sentiment']) #min value= -8.0\n",
    "\n",
    "music19_split.Music_Sentiment.mean() #mean value = 0.12\n",
    "\n",
    "music19_split.Music_Sentiment.median() #median = 0 - this is good, that's neutral"
   ]
  },
  {
   "cell_type": "code",
   "execution_count": 147,
   "metadata": {},
   "outputs": [],
   "source": [
    "#Classify the sentiment scores into groups \n",
    "overall_M19=[]\n",
    "for i in range(len(music19_split)):\n",
    "    if music19_split['Music_Sentiment'][i]>= 0.05:\n",
    "        overall_M19.append('Positive')\n",
    "    elif music19_split['Music_Sentiment'][i]<= -0.05:\n",
    "        overall_M19.append('Negative')\n",
    "    else:\n",
    "        overall_M19.append('Neutral')\n",
    "music19_split['Overall Sentiment']=overall_M19"
   ]
  },
  {
   "cell_type": "code",
   "execution_count": 148,
   "metadata": {},
   "outputs": [
    {
     "data": {
      "text/html": [
       "<div>\n",
       "<style scoped>\n",
       "    .dataframe tbody tr th:only-of-type {\n",
       "        vertical-align: middle;\n",
       "    }\n",
       "\n",
       "    .dataframe tbody tr th {\n",
       "        vertical-align: top;\n",
       "    }\n",
       "\n",
       "    .dataframe thead th {\n",
       "        text-align: right;\n",
       "    }\n",
       "</style>\n",
       "<table border=\"1\" class=\"dataframe\">\n",
       "  <thead>\n",
       "    <tr style=\"text-align: right;\">\n",
       "      <th></th>\n",
       "      <th>cleaned_text</th>\n",
       "      <th>ID</th>\n",
       "      <th>Article_without_stopwords</th>\n",
       "      <th>After_lemmatization</th>\n",
       "      <th>pos_tags</th>\n",
       "      <th>Music_Sentiment</th>\n",
       "      <th>Overall Sentiment</th>\n",
       "    </tr>\n",
       "  </thead>\n",
       "  <tbody>\n",
       "    <tr>\n",
       "      <th>0</th>\n",
       "      <td>gemma collins has been seen struggling with ...</td>\n",
       "      <td>60500045</td>\n",
       "      <td>gemma collins seen struggling withknee injury ...</td>\n",
       "      <td>gemma collins seen struggling withknee injury ...</td>\n",
       "      <td>[(gemma, NN), (collins, NNS), (seen, VBN), (st...</td>\n",
       "      <td>-0.625</td>\n",
       "      <td>Negative</td>\n",
       "    </tr>\n",
       "    <tr>\n",
       "      <th>1</th>\n",
       "      <td>the gc sadly collapsed onto the ice last week...</td>\n",
       "      <td>60500045</td>\n",
       "      <td>gc sadly collapsed onto ice last week later sa...</td>\n",
       "      <td>sadly collapsed onto ice last week later said ...</td>\n",
       "      <td>[(sadly, RB), (collapsed, VBD), (onto, IN), (i...</td>\n",
       "      <td>-1.125</td>\n",
       "      <td>Negative</td>\n",
       "    </tr>\n",
       "    <tr>\n",
       "      <th>2</th>\n",
       "      <td>it left her with a damaged knee , and her boy...</td>\n",
       "      <td>60500045</td>\n",
       "      <td>left withdamaged knee boyfriend james arg arge...</td>\n",
       "      <td>left withdamaged knee boyfriend james arg arge...</td>\n",
       "      <td>[(left, RB), (withdamaged, VBN), (knee, NNS), ...</td>\n",
       "      <td>0.000</td>\n",
       "      <td>Neutral</td>\n",
       "    </tr>\n",
       "    <tr>\n",
       "      <th>3</th>\n",
       "      <td>but nothing will hold her down , as she has b...</td>\n",
       "      <td>60500045</td>\n",
       "      <td>nothing hold seen back ice partner matt evers ...</td>\n",
       "      <td>nothing hold seen back ice partner matt evers ...</td>\n",
       "      <td>[(nothing, NN), (hold, NN), (seen, VBN), (back...</td>\n",
       "      <td>-0.250</td>\n",
       "      <td>Negative</td>\n",
       "    </tr>\n",
       "    <tr>\n",
       "      <th>4</th>\n",
       "      <td>gemma smiled as she tried some new moves ( im...</td>\n",
       "      <td>60500045</td>\n",
       "      <td>gemma smiled tried new moves image itv gave be...</td>\n",
       "      <td>gemma smiled tried new move image itv gave bes...</td>\n",
       "      <td>[(gemma, NN), (smiled, VBD), (tried, JJ), (new...</td>\n",
       "      <td>0.375</td>\n",
       "      <td>Positive</td>\n",
       "    </tr>\n",
       "    <tr>\n",
       "      <th>5</th>\n",
       "      <td>as matt told her what to do for their routine...</td>\n",
       "      <td>60500045</td>\n",
       "      <td>matt told routine gemma saidcan butcat push ma...</td>\n",
       "      <td>matt told routine gemma saidcan butcat push ma...</td>\n",
       "      <td>[(matt, NN), (told, VBD), (routine, JJ), (gemm...</td>\n",
       "      <td>-0.625</td>\n",
       "      <td>Negative</td>\n",
       "    </tr>\n",
       "    <tr>\n",
       "      <th>6</th>\n",
       "      <td>during this move she even slightly stumbled ,...</td>\n",
       "      <td>60500045</td>\n",
       "      <td>move even slightly stumbled meaning knee weakn...</td>\n",
       "      <td>move even slightly stumbled meaning knee weakn...</td>\n",
       "      <td>[(move, VB), (even, RB), (slightly, RB), (stum...</td>\n",
       "      <td>0.000</td>\n",
       "      <td>Neutral</td>\n",
       "    </tr>\n",
       "    <tr>\n",
       "      <th>7</th>\n",
       "      <td>gemma was then seen doing another move , for ...</td>\n",
       "      <td>60500045</td>\n",
       "      <td>gemma seen another move matt congratulated hel...</td>\n",
       "      <td>gemma seen another move matt congratulated hel...</td>\n",
       "      <td>[(gemma, NN), (seen, VBN), (another, DT), (mov...</td>\n",
       "      <td>-0.250</td>\n",
       "      <td>Negative</td>\n",
       "    </tr>\n",
       "    <tr>\n",
       "      <th>8</th>\n",
       "      <td>she took monday off after her shock fall ( im...</td>\n",
       "      <td>60500045</td>\n",
       "      <td>took monday shock fall image itv matt led alon...</td>\n",
       "      <td>took monday shock fall image itv matt led alon...</td>\n",
       "      <td>[(took, VBD), (monday, NN), (shock, NN), (fall...</td>\n",
       "      <td>-1.250</td>\n",
       "      <td>Negative</td>\n",
       "    </tr>\n",
       "    <tr>\n",
       "      <th>9</th>\n",
       "      <td>after some viewers accused her of \" faking th...</td>\n",
       "      <td>60500045</td>\n",
       "      <td>viewers accused faking fall gemma tried claim ...</td>\n",
       "      <td>viewer accused faking fall gemma tried claim b...</td>\n",
       "      <td>[(viewer, NN), (accused, VBD), (faking, VBG), ...</td>\n",
       "      <td>0.375</td>\n",
       "      <td>Positive</td>\n",
       "    </tr>\n",
       "  </tbody>\n",
       "</table>\n",
       "</div>"
      ],
      "text/plain": [
       "                                        cleaned_text        ID  \\\n",
       "0    gemma collins has been seen struggling with ...  60500045   \n",
       "1   the gc sadly collapsed onto the ice last week...  60500045   \n",
       "2   it left her with a damaged knee , and her boy...  60500045   \n",
       "3   but nothing will hold her down , as she has b...  60500045   \n",
       "4   gemma smiled as she tried some new moves ( im...  60500045   \n",
       "5   as matt told her what to do for their routine...  60500045   \n",
       "6   during this move she even slightly stumbled ,...  60500045   \n",
       "7   gemma was then seen doing another move , for ...  60500045   \n",
       "8   she took monday off after her shock fall ( im...  60500045   \n",
       "9   after some viewers accused her of \" faking th...  60500045   \n",
       "\n",
       "                           Article_without_stopwords  \\\n",
       "0  gemma collins seen struggling withknee injury ...   \n",
       "1  gc sadly collapsed onto ice last week later sa...   \n",
       "2  left withdamaged knee boyfriend james arg arge...   \n",
       "3  nothing hold seen back ice partner matt evers ...   \n",
       "4  gemma smiled tried new moves image itv gave be...   \n",
       "5  matt told routine gemma saidcan butcat push ma...   \n",
       "6  move even slightly stumbled meaning knee weakn...   \n",
       "7  gemma seen another move matt congratulated hel...   \n",
       "8  took monday shock fall image itv matt led alon...   \n",
       "9  viewers accused faking fall gemma tried claim ...   \n",
       "\n",
       "                                 After_lemmatization  \\\n",
       "0  gemma collins seen struggling withknee injury ...   \n",
       "1  sadly collapsed onto ice last week later said ...   \n",
       "2  left withdamaged knee boyfriend james arg arge...   \n",
       "3  nothing hold seen back ice partner matt evers ...   \n",
       "4  gemma smiled tried new move image itv gave bes...   \n",
       "5  matt told routine gemma saidcan butcat push ma...   \n",
       "6  move even slightly stumbled meaning knee weakn...   \n",
       "7  gemma seen another move matt congratulated hel...   \n",
       "8  took monday shock fall image itv matt led alon...   \n",
       "9  viewer accused faking fall gemma tried claim b...   \n",
       "\n",
       "                                            pos_tags  Music_Sentiment  \\\n",
       "0  [(gemma, NN), (collins, NNS), (seen, VBN), (st...           -0.625   \n",
       "1  [(sadly, RB), (collapsed, VBD), (onto, IN), (i...           -1.125   \n",
       "2  [(left, RB), (withdamaged, VBN), (knee, NNS), ...            0.000   \n",
       "3  [(nothing, NN), (hold, NN), (seen, VBN), (back...           -0.250   \n",
       "4  [(gemma, NN), (smiled, VBD), (tried, JJ), (new...            0.375   \n",
       "5  [(matt, NN), (told, VBD), (routine, JJ), (gemm...           -0.625   \n",
       "6  [(move, VB), (even, RB), (slightly, RB), (stum...            0.000   \n",
       "7  [(gemma, NN), (seen, VBN), (another, DT), (mov...           -0.250   \n",
       "8  [(took, VBD), (monday, NN), (shock, NN), (fall...           -1.250   \n",
       "9  [(viewer, NN), (accused, VBD), (faking, VBG), ...            0.375   \n",
       "\n",
       "  Overall Sentiment  \n",
       "0          Negative  \n",
       "1          Negative  \n",
       "2           Neutral  \n",
       "3          Negative  \n",
       "4          Positive  \n",
       "5          Negative  \n",
       "6           Neutral  \n",
       "7          Negative  \n",
       "8          Negative  \n",
       "9          Positive  "
      ]
     },
     "execution_count": 148,
     "metadata": {},
     "output_type": "execute_result"
    }
   ],
   "source": [
    "music19_split.head(10)"
   ]
  },
  {
   "cell_type": "markdown",
   "metadata": {},
   "source": [
    "__Plot the sentiment by group__"
   ]
  },
  {
   "cell_type": "code",
   "execution_count": 149,
   "metadata": {},
   "outputs": [
    {
     "name": "stderr",
     "output_type": "stream",
     "text": [
      "/home/orlam/NOW/lang101/lib/python3.6/site-packages/seaborn/_decorators.py:43: FutureWarning: Pass the following variable as a keyword arg: x. From version 0.12, the only valid positional argument will be `data`, and passing other arguments without an explicit keyword will result in an error or misinterpretation.\n",
      "  FutureWarning\n"
     ]
    },
    {
     "data": {
      "text/plain": [
       "<AxesSubplot:xlabel='Overall Sentiment', ylabel='count'>"
      ]
     },
     "execution_count": 149,
     "metadata": {},
     "output_type": "execute_result"
    },
    {
     "data": {
      "image/png": "[encoded data removed]",
      "text/plain": [
       "<Figure size 792x288 with 1 Axes>"
      ]
     },
     "metadata": {},
     "output_type": "display_data"
    }
   ],
   "source": [
    "sns.countplot(music19_split['Overall Sentiment'])"
   ]
  },
  {
   "cell_type": "markdown",
   "metadata": {},
   "source": [
    "_Notes_\n",
    "\n",
    "Here we see a much more even spread of sentiments - but lets see how it goes once we classify into the articles"
   ]
  },
  {
   "cell_type": "markdown",
   "metadata": {},
   "source": [
    "__Group sentiment by ID__"
   ]
  },
  {
   "cell_type": "code",
   "execution_count": 150,
   "metadata": {},
   "outputs": [],
   "source": [
    "#Group the sentences back into one by ID to get 1 sentiment score for each article\n",
    "music19_sentiment = music19_split.copy()"
   ]
  },
  {
   "cell_type": "code",
   "execution_count": 152,
   "metadata": {},
   "outputs": [
    {
     "data": {
      "text/html": [
       "<div>\n",
       "<style scoped>\n",
       "    .dataframe tbody tr th:only-of-type {\n",
       "        vertical-align: middle;\n",
       "    }\n",
       "\n",
       "    .dataframe tbody tr th {\n",
       "        vertical-align: top;\n",
       "    }\n",
       "\n",
       "    .dataframe thead th {\n",
       "        text-align: right;\n",
       "    }\n",
       "</style>\n",
       "<table border=\"1\" class=\"dataframe\">\n",
       "  <thead>\n",
       "    <tr style=\"text-align: right;\">\n",
       "      <th></th>\n",
       "      <th>Music_Sentiment</th>\n",
       "    </tr>\n",
       "    <tr>\n",
       "      <th>ID</th>\n",
       "      <th></th>\n",
       "    </tr>\n",
       "  </thead>\n",
       "  <tbody>\n",
       "    <tr>\n",
       "      <th>30517288</th>\n",
       "      <td>0.187500</td>\n",
       "    </tr>\n",
       "    <tr>\n",
       "      <th>30517479</th>\n",
       "      <td>0.113636</td>\n",
       "    </tr>\n",
       "    <tr>\n",
       "      <th>30517635</th>\n",
       "      <td>0.312500</td>\n",
       "    </tr>\n",
       "    <tr>\n",
       "      <th>30517716</th>\n",
       "      <td>0.164062</td>\n",
       "    </tr>\n",
       "    <tr>\n",
       "      <th>30517887</th>\n",
       "      <td>0.194444</td>\n",
       "    </tr>\n",
       "    <tr>\n",
       "      <th>...</th>\n",
       "      <td>...</td>\n",
       "    </tr>\n",
       "    <tr>\n",
       "      <th>70735465</th>\n",
       "      <td>0.480769</td>\n",
       "    </tr>\n",
       "    <tr>\n",
       "      <th>70735494</th>\n",
       "      <td>0.133929</td>\n",
       "    </tr>\n",
       "    <tr>\n",
       "      <th>70735625</th>\n",
       "      <td>0.334375</td>\n",
       "    </tr>\n",
       "    <tr>\n",
       "      <th>70736017</th>\n",
       "      <td>0.163889</td>\n",
       "    </tr>\n",
       "    <tr>\n",
       "      <th>70736072</th>\n",
       "      <td>0.361111</td>\n",
       "    </tr>\n",
       "  </tbody>\n",
       "</table>\n",
       "<p>10425 rows × 1 columns</p>\n",
       "</div>"
      ],
      "text/plain": [
       "          Music_Sentiment\n",
       "ID                       \n",
       "30517288         0.187500\n",
       "30517479         0.113636\n",
       "30517635         0.312500\n",
       "30517716         0.164062\n",
       "30517887         0.194444\n",
       "...                   ...\n",
       "70735465         0.480769\n",
       "70735494         0.133929\n",
       "70735625         0.334375\n",
       "70736017         0.163889\n",
       "70736072         0.361111\n",
       "\n",
       "[10425 rows x 1 columns]"
      ]
     },
     "execution_count": 152,
     "metadata": {},
     "output_type": "execute_result"
    }
   ],
   "source": [
    "music19_sentiment = music19_sentiment.groupby(['ID']).mean(['Music Sentiment'])\n",
    "music19_sentiment"
   ]
  },
  {
   "cell_type": "markdown",
   "metadata": {},
   "source": [
    "__Classify one article per article__"
   ]
  },
  {
   "cell_type": "code",
   "execution_count": 153,
   "metadata": {},
   "outputs": [],
   "source": [
    "article_sentiment19 = []\n",
    "\n",
    "for score in music19_sentiment['Music_Sentiment']:\n",
    "    if score >=0.05:\n",
    "        article_sentiment19.append('Positive')\n",
    "    elif score <= -0.05:\n",
    "        article_sentiment19.append('Negative')\n",
    "    else: \n",
    "        article_sentiment19.append('Neutral')"
   ]
  },
  {
   "cell_type": "code",
   "execution_count": 154,
   "metadata": {},
   "outputs": [],
   "source": [
    "#Add sentiment as column to df \n",
    "music19_sentiment['Article Sentiment'] = article_sentiment19"
   ]
  },
  {
   "cell_type": "markdown",
   "metadata": {},
   "source": [
    "__Plot the sentiment category's__"
   ]
  },
  {
   "cell_type": "code",
   "execution_count": 155,
   "metadata": {},
   "outputs": [
    {
     "name": "stderr",
     "output_type": "stream",
     "text": [
      "/home/orlam/NOW/lang101/lib/python3.6/site-packages/seaborn/_decorators.py:43: FutureWarning: Pass the following variable as a keyword arg: x. From version 0.12, the only valid positional argument will be `data`, and passing other arguments without an explicit keyword will result in an error or misinterpretation.\n",
      "  FutureWarning\n"
     ]
    },
    {
     "data": {
      "text/plain": [
       "<AxesSubplot:xlabel='Article Sentiment', ylabel='count'>"
      ]
     },
     "execution_count": 155,
     "metadata": {},
     "output_type": "execute_result"
    },
    {
     "data": {
      "image/png": "[encoded data removed]",
      "text/plain": [
       "<Figure size 792x288 with 1 Axes>"
      ]
     },
     "metadata": {},
     "output_type": "display_data"
    }
   ],
   "source": [
    "sns.countplot(music19_sentiment['Article Sentiment'])"
   ]
  },
  {
   "cell_type": "markdown",
   "metadata": {},
   "source": [
    "_Note_\n",
    "\n",
    "Again, we see a prevelance of positive articles"
   ]
  },
  {
   "cell_type": "markdown",
   "metadata": {},
   "source": [
    "__Preparing for plotting over time__"
   ]
  },
  {
   "cell_type": "code",
   "execution_count": 156,
   "metadata": {},
   "outputs": [
    {
     "data": {
      "text/plain": [
       "Music_Sentiment      float64\n",
       "Article Sentiment     object\n",
       "ID ref                 int64\n",
       "dtype: object"
      ]
     },
     "execution_count": 156,
     "metadata": {},
     "output_type": "execute_result"
    }
   ],
   "source": [
    "# First, make the index (ID) a column \n",
    "music19_sentiment['ID ref']= music19_sentiment.index\n",
    "music19_sentiment.dtypes #check that it is an integer "
   ]
  },
  {
   "cell_type": "code",
   "execution_count": 157,
   "metadata": {},
   "outputs": [
    {
     "data": {
      "text/html": [
       "<div>\n",
       "<style scoped>\n",
       "    .dataframe tbody tr th:only-of-type {\n",
       "        vertical-align: middle;\n",
       "    }\n",
       "\n",
       "    .dataframe tbody tr th {\n",
       "        vertical-align: top;\n",
       "    }\n",
       "\n",
       "    .dataframe thead th {\n",
       "        text-align: right;\n",
       "    }\n",
       "</style>\n",
       "<table border=\"1\" class=\"dataframe\">\n",
       "  <thead>\n",
       "    <tr style=\"text-align: right;\">\n",
       "      <th></th>\n",
       "      <th>Date</th>\n",
       "      <th>ID</th>\n",
       "    </tr>\n",
       "  </thead>\n",
       "  <tbody>\n",
       "    <tr>\n",
       "      <th>0</th>\n",
       "      <td>19-02-01</td>\n",
       "      <td>60500045</td>\n",
       "    </tr>\n",
       "    <tr>\n",
       "      <th>1</th>\n",
       "      <td>19-02-01</td>\n",
       "      <td>60500219</td>\n",
       "    </tr>\n",
       "    <tr>\n",
       "      <th>2</th>\n",
       "      <td>19-02-01</td>\n",
       "      <td>60500432</td>\n",
       "    </tr>\n",
       "  </tbody>\n",
       "</table>\n",
       "</div>"
      ],
      "text/plain": [
       "       Date        ID\n",
       "0  19-02-01  60500045\n",
       "1  19-02-01  60500219\n",
       "2  19-02-01  60500432"
      ]
     },
     "execution_count": 157,
     "metadata": {},
     "output_type": "execute_result"
    }
   ],
   "source": [
    "#Create date match column \n",
    "date_matchM19 = music_2019[['Date', 'ID']]\n",
    "date_matchM19.head(3) #check "
   ]
  },
  {
   "cell_type": "code",
   "execution_count": 158,
   "metadata": {},
   "outputs": [],
   "source": [
    "#Then match the date \n",
    "music19_sentiment = pd.merge(left = music19_sentiment, right = date_matchM19, how='left', left_on='ID ref', right_on='ID' )\n"
   ]
  },
  {
   "cell_type": "code",
   "execution_count": 159,
   "metadata": {},
   "outputs": [
    {
     "data": {
      "text/html": [
       "<div>\n",
       "<style scoped>\n",
       "    .dataframe tbody tr th:only-of-type {\n",
       "        vertical-align: middle;\n",
       "    }\n",
       "\n",
       "    .dataframe tbody tr th {\n",
       "        vertical-align: top;\n",
       "    }\n",
       "\n",
       "    .dataframe thead th {\n",
       "        text-align: right;\n",
       "    }\n",
       "</style>\n",
       "<table border=\"1\" class=\"dataframe\">\n",
       "  <thead>\n",
       "    <tr style=\"text-align: right;\">\n",
       "      <th></th>\n",
       "      <th>Music_Sentiment</th>\n",
       "      <th>Article Sentiment</th>\n",
       "      <th>ID ref</th>\n",
       "      <th>Date</th>\n",
       "      <th>ID</th>\n",
       "    </tr>\n",
       "  </thead>\n",
       "  <tbody>\n",
       "    <tr>\n",
       "      <th>0</th>\n",
       "      <td>0.187500</td>\n",
       "      <td>Positive</td>\n",
       "      <td>30517288</td>\n",
       "      <td>19-02-01</td>\n",
       "      <td>30517288</td>\n",
       "    </tr>\n",
       "    <tr>\n",
       "      <th>1</th>\n",
       "      <td>0.113636</td>\n",
       "      <td>Positive</td>\n",
       "      <td>30517479</td>\n",
       "      <td>19-02-01</td>\n",
       "      <td>30517479</td>\n",
       "    </tr>\n",
       "    <tr>\n",
       "      <th>2</th>\n",
       "      <td>0.312500</td>\n",
       "      <td>Positive</td>\n",
       "      <td>30517635</td>\n",
       "      <td>19-02-01</td>\n",
       "      <td>30517635</td>\n",
       "    </tr>\n",
       "    <tr>\n",
       "      <th>3</th>\n",
       "      <td>0.164062</td>\n",
       "      <td>Positive</td>\n",
       "      <td>30517716</td>\n",
       "      <td>19-02-01</td>\n",
       "      <td>30517716</td>\n",
       "    </tr>\n",
       "    <tr>\n",
       "      <th>4</th>\n",
       "      <td>0.194444</td>\n",
       "      <td>Positive</td>\n",
       "      <td>30517887</td>\n",
       "      <td>19-02-01</td>\n",
       "      <td>30517887</td>\n",
       "    </tr>\n",
       "  </tbody>\n",
       "</table>\n",
       "</div>"
      ],
      "text/plain": [
       "   Music_Sentiment Article Sentiment    ID ref      Date        ID\n",
       "0         0.187500          Positive  30517288  19-02-01  30517288\n",
       "1         0.113636          Positive  30517479  19-02-01  30517479\n",
       "2         0.312500          Positive  30517635  19-02-01  30517635\n",
       "3         0.164062          Positive  30517716  19-02-01  30517716\n",
       "4         0.194444          Positive  30517887  19-02-01  30517887"
      ]
     },
     "execution_count": 159,
     "metadata": {},
     "output_type": "execute_result"
    }
   ],
   "source": [
    "music19_sentiment.head(5) #Now we have the date, ID, and total sentiment score "
   ]
  },
  {
   "cell_type": "code",
   "execution_count": 160,
   "metadata": {},
   "outputs": [
    {
     "data": {
      "text/html": [
       "<div>\n",
       "<style scoped>\n",
       "    .dataframe tbody tr th:only-of-type {\n",
       "        vertical-align: middle;\n",
       "    }\n",
       "\n",
       "    .dataframe tbody tr th {\n",
       "        vertical-align: top;\n",
       "    }\n",
       "\n",
       "    .dataframe thead th {\n",
       "        text-align: right;\n",
       "    }\n",
       "</style>\n",
       "<table border=\"1\" class=\"dataframe\">\n",
       "  <thead>\n",
       "    <tr style=\"text-align: right;\">\n",
       "      <th></th>\n",
       "      <th>Music_Sentiment</th>\n",
       "    </tr>\n",
       "    <tr>\n",
       "      <th>Date</th>\n",
       "      <th></th>\n",
       "    </tr>\n",
       "  </thead>\n",
       "  <tbody>\n",
       "    <tr>\n",
       "      <th>19-02-01</th>\n",
       "      <td>0.133403</td>\n",
       "    </tr>\n",
       "    <tr>\n",
       "      <th>19-02-02</th>\n",
       "      <td>0.093479</td>\n",
       "    </tr>\n",
       "    <tr>\n",
       "      <th>19-02-03</th>\n",
       "      <td>0.136945</td>\n",
       "    </tr>\n",
       "  </tbody>\n",
       "</table>\n",
       "</div>"
      ],
      "text/plain": [
       "          Music_Sentiment\n",
       "Date                     \n",
       "19-02-01         0.133403\n",
       "19-02-02         0.093479\n",
       "19-02-03         0.136945"
      ]
     },
     "execution_count": 160,
     "metadata": {},
     "output_type": "execute_result"
    }
   ],
   "source": [
    "#We'll group by the date sentiment  \n",
    "music_sentiment19 = music19_sentiment.groupby(['Date']).mean()\n",
    "music_sentiment19\n",
    "\n",
    "#And cut the dataframe to only have the columns we want \n",
    "music_sentiment19 = music_sentiment19[['Music_Sentiment']]\n",
    "music_sentiment19.head(3)"
   ]
  },
  {
   "cell_type": "code",
   "execution_count": 161,
   "metadata": {},
   "outputs": [
    {
     "data": {
      "text/plain": [
       "89"
      ]
     },
     "execution_count": 161,
     "metadata": {},
     "output_type": "execute_result"
    }
   ],
   "source": [
    "len(music_sentiment19) #89 rows, one for each day "
   ]
  },
  {
   "cell_type": "markdown",
   "metadata": {},
   "source": [
    "## Control 2019 "
   ]
  },
  {
   "cell_type": "code",
   "execution_count": 163,
   "metadata": {},
   "outputs": [
    {
     "data": {
      "text/html": [
       "<div>\n",
       "<style scoped>\n",
       "    .dataframe tbody tr th:only-of-type {\n",
       "        vertical-align: middle;\n",
       "    }\n",
       "\n",
       "    .dataframe tbody tr th {\n",
       "        vertical-align: top;\n",
       "    }\n",
       "\n",
       "    .dataframe thead th {\n",
       "        text-align: right;\n",
       "    }\n",
       "</style>\n",
       "<table border=\"1\" class=\"dataframe\">\n",
       "  <thead>\n",
       "    <tr style=\"text-align: right;\">\n",
       "      <th></th>\n",
       "      <th>Article</th>\n",
       "      <th>ID</th>\n",
       "      <th>_merge</th>\n",
       "      <th>Date</th>\n",
       "      <th>cleaned_text</th>\n",
       "    </tr>\n",
       "  </thead>\n",
       "  <tbody>\n",
       "    <tr>\n",
       "      <th>0</th>\n",
       "      <td>this site uses cookies to improve your exper...</td>\n",
       "      <td>60500075</td>\n",
       "      <td>left_only</td>\n",
       "      <td>19-02-01</td>\n",
       "      <td>this site uses cookies to improve your exper...</td>\n",
       "    </tr>\n",
       "    <tr>\n",
       "      <th>1</th>\n",
       "      <td>most read in news  aisle horror  truth plea ...</td>\n",
       "      <td>60500089</td>\n",
       "      <td>left_only</td>\n",
       "      <td>19-02-01</td>\n",
       "      <td>most read in news  aisle horror  truth plea ...</td>\n",
       "    </tr>\n",
       "    <tr>\n",
       "      <th>2</th>\n",
       "      <td>stockpiling reaches record high as firms bra...</td>\n",
       "      <td>60500422</td>\n",
       "      <td>left_only</td>\n",
       "      <td>19-02-01</td>\n",
       "      <td>stockpiling reaches record high as firms bra...</td>\n",
       "    </tr>\n",
       "    <tr>\n",
       "      <th>3</th>\n",
       "      <td>a film directed by tullamore man sean breath...</td>\n",
       "      <td>60500676</td>\n",
       "      <td>left_only</td>\n",
       "      <td>19-02-01</td>\n",
       "      <td>a film directed by tullamore man sean breath...</td>\n",
       "    </tr>\n",
       "    <tr>\n",
       "      <th>4</th>\n",
       "      <td>' the professor and the madman ' follows pro...</td>\n",
       "      <td>60501095</td>\n",
       "      <td>left_only</td>\n",
       "      <td>19-02-01</td>\n",
       "      <td>' the professor and the madman ' follows pro...</td>\n",
       "    </tr>\n",
       "  </tbody>\n",
       "</table>\n",
       "</div>"
      ],
      "text/plain": [
       "                                             Article        ID     _merge  \\\n",
       "0    this site uses cookies to improve your exper...  60500075  left_only   \n",
       "1    most read in news  aisle horror  truth plea ...  60500089  left_only   \n",
       "2    stockpiling reaches record high as firms bra...  60500422  left_only   \n",
       "3    a film directed by tullamore man sean breath...  60500676  left_only   \n",
       "4    ' the professor and the madman ' follows pro...  60501095  left_only   \n",
       "\n",
       "       Date                                       cleaned_text  \n",
       "0  19-02-01    this site uses cookies to improve your exper...  \n",
       "1  19-02-01    most read in news  aisle horror  truth plea ...  \n",
       "2  19-02-01    stockpiling reaches record high as firms bra...  \n",
       "3  19-02-01    a film directed by tullamore man sean breath...  \n",
       "4  19-02-01    ' the professor and the madman ' follows pro...  "
      ]
     },
     "execution_count": 163,
     "metadata": {},
     "output_type": "execute_result"
    }
   ],
   "source": [
    "#Split control_2019 into its sentences using regex\n",
    "len(control_2019) #original length = 8964\n",
    "control_2019.head(5)"
   ]
  },
  {
   "cell_type": "markdown",
   "metadata": {},
   "source": [
    "__Split data by sentence__"
   ]
  },
  {
   "cell_type": "code",
   "execution_count": 164,
   "metadata": {},
   "outputs": [],
   "source": [
    "rule = r\"(?<!\\w\\.\\w.)(?<![A-Z][a-z]\\.)(?<=\\.|\\?)\\s\"\n",
    "\n",
    "#tokenise sentences using '.' as the delimter \n",
    "control19_split = DataFrame(control_2019.cleaned_text.str.split(rule).tolist(), index=control_2019.ID).stack()"
   ]
  },
  {
   "cell_type": "code",
   "execution_count": 165,
   "metadata": {},
   "outputs": [],
   "source": [
    "#rename variables \n",
    "control19_split = control19_split.reset_index()[[0, 'ID']]\n",
    "control19_split.columns = ['cleaned_text', 'ID']"
   ]
  },
  {
   "cell_type": "code",
   "execution_count": 167,
   "metadata": {},
   "outputs": [
    {
     "data": {
      "text/html": [
       "<div>\n",
       "<style scoped>\n",
       "    .dataframe tbody tr th:only-of-type {\n",
       "        vertical-align: middle;\n",
       "    }\n",
       "\n",
       "    .dataframe tbody tr th {\n",
       "        vertical-align: top;\n",
       "    }\n",
       "\n",
       "    .dataframe thead th {\n",
       "        text-align: right;\n",
       "    }\n",
       "</style>\n",
       "<table border=\"1\" class=\"dataframe\">\n",
       "  <thead>\n",
       "    <tr style=\"text-align: right;\">\n",
       "      <th></th>\n",
       "      <th>cleaned_text</th>\n",
       "      <th>ID</th>\n",
       "    </tr>\n",
       "  </thead>\n",
       "  <tbody>\n",
       "    <tr>\n",
       "      <th>0</th>\n",
       "      <td>this site uses cookies to improve your exper...</td>\n",
       "      <td>60500075</td>\n",
       "    </tr>\n",
       "    <tr>\n",
       "      <th>1</th>\n",
       "      <td>by continuing to browse , you agree to the use...</td>\n",
       "      <td>60500075</td>\n",
       "    </tr>\n",
       "    <tr>\n",
       "      <th>2</th>\n",
       "      <td>you may change your settings at any time but t...</td>\n",
       "      <td>60500075</td>\n",
       "    </tr>\n",
       "    <tr>\n",
       "      <th>3</th>\n",
       "      <td>to learn more see our cookies policy .</td>\n",
       "      <td>60500075</td>\n",
       "    </tr>\n",
       "    <tr>\n",
       "      <th>4</th>\n",
       "      <td>the kristaps porzingis era in new york is off...</td>\n",
       "      <td>60500075</td>\n",
       "    </tr>\n",
       "  </tbody>\n",
       "</table>\n",
       "</div>"
      ],
      "text/plain": [
       "                                        cleaned_text        ID\n",
       "0    this site uses cookies to improve your exper...  60500075\n",
       "1  by continuing to browse , you agree to the use...  60500075\n",
       "2  you may change your settings at any time but t...  60500075\n",
       "3             to learn more see our cookies policy .  60500075\n",
       "4   the kristaps porzingis era in new york is off...  60500075"
      ]
     },
     "execution_count": 167,
     "metadata": {},
     "output_type": "execute_result"
    }
   ],
   "source": [
    "control19_split.head(5) #229, 705 rows long "
   ]
  },
  {
   "cell_type": "markdown",
   "metadata": {},
   "source": [
    "__Create date dataframe__"
   ]
  },
  {
   "cell_type": "code",
   "execution_count": 169,
   "metadata": {},
   "outputs": [
    {
     "data": {
      "text/html": [
       "<div>\n",
       "<style scoped>\n",
       "    .dataframe tbody tr th:only-of-type {\n",
       "        vertical-align: middle;\n",
       "    }\n",
       "\n",
       "    .dataframe tbody tr th {\n",
       "        vertical-align: top;\n",
       "    }\n",
       "\n",
       "    .dataframe thead th {\n",
       "        text-align: right;\n",
       "    }\n",
       "</style>\n",
       "<table border=\"1\" class=\"dataframe\">\n",
       "  <thead>\n",
       "    <tr style=\"text-align: right;\">\n",
       "      <th></th>\n",
       "      <th>Date</th>\n",
       "      <th>ID</th>\n",
       "    </tr>\n",
       "  </thead>\n",
       "  <tbody>\n",
       "    <tr>\n",
       "      <th>0</th>\n",
       "      <td>19-02-01</td>\n",
       "      <td>60500075</td>\n",
       "    </tr>\n",
       "    <tr>\n",
       "      <th>1</th>\n",
       "      <td>19-02-01</td>\n",
       "      <td>60500089</td>\n",
       "    </tr>\n",
       "    <tr>\n",
       "      <th>2</th>\n",
       "      <td>19-02-01</td>\n",
       "      <td>60500422</td>\n",
       "    </tr>\n",
       "  </tbody>\n",
       "</table>\n",
       "</div>"
      ],
      "text/plain": [
       "       Date        ID\n",
       "0  19-02-01  60500075\n",
       "1  19-02-01  60500089\n",
       "2  19-02-01  60500422"
      ]
     },
     "execution_count": 169,
     "metadata": {},
     "output_type": "execute_result"
    }
   ],
   "source": [
    "#Split away only the needed columns \n",
    "date_matchC19 = control_2019[['Date', 'ID']]\n",
    "date_matchC19.head(3) #check "
   ]
  },
  {
   "cell_type": "markdown",
   "metadata": {},
   "source": [
    "__Create column for text editing__"
   ]
  },
  {
   "cell_type": "code",
   "execution_count": 170,
   "metadata": {},
   "outputs": [
    {
     "data": {
      "text/html": [
       "<div>\n",
       "<style scoped>\n",
       "    .dataframe tbody tr th:only-of-type {\n",
       "        vertical-align: middle;\n",
       "    }\n",
       "\n",
       "    .dataframe tbody tr th {\n",
       "        vertical-align: top;\n",
       "    }\n",
       "\n",
       "    .dataframe thead th {\n",
       "        text-align: right;\n",
       "    }\n",
       "</style>\n",
       "<table border=\"1\" class=\"dataframe\">\n",
       "  <thead>\n",
       "    <tr style=\"text-align: right;\">\n",
       "      <th></th>\n",
       "      <th>cleaned_text</th>\n",
       "      <th>ID</th>\n",
       "      <th>Article_without_stopwords</th>\n",
       "    </tr>\n",
       "  </thead>\n",
       "  <tbody>\n",
       "    <tr>\n",
       "      <th>0</th>\n",
       "      <td>this site uses cookies to improve your exper...</td>\n",
       "      <td>60500075</td>\n",
       "      <td>this site uses cookies to improve your exper...</td>\n",
       "    </tr>\n",
       "    <tr>\n",
       "      <th>1</th>\n",
       "      <td>by continuing to browse , you agree to the use...</td>\n",
       "      <td>60500075</td>\n",
       "      <td>by continuing to browse , you agree to the use...</td>\n",
       "    </tr>\n",
       "    <tr>\n",
       "      <th>2</th>\n",
       "      <td>you may change your settings at any time but t...</td>\n",
       "      <td>60500075</td>\n",
       "      <td>you may change your settings at any time but t...</td>\n",
       "    </tr>\n",
       "    <tr>\n",
       "      <th>3</th>\n",
       "      <td>to learn more see our cookies policy .</td>\n",
       "      <td>60500075</td>\n",
       "      <td>to learn more see our cookies policy .</td>\n",
       "    </tr>\n",
       "    <tr>\n",
       "      <th>4</th>\n",
       "      <td>the kristaps porzingis era in new york is off...</td>\n",
       "      <td>60500075</td>\n",
       "      <td>the kristaps porzingis era in new york is off...</td>\n",
       "    </tr>\n",
       "  </tbody>\n",
       "</table>\n",
       "</div>"
      ],
      "text/plain": [
       "                                        cleaned_text        ID  \\\n",
       "0    this site uses cookies to improve your exper...  60500075   \n",
       "1  by continuing to browse , you agree to the use...  60500075   \n",
       "2  you may change your settings at any time but t...  60500075   \n",
       "3             to learn more see our cookies policy .  60500075   \n",
       "4   the kristaps porzingis era in new york is off...  60500075   \n",
       "\n",
       "                           Article_without_stopwords  \n",
       "0    this site uses cookies to improve your exper...  \n",
       "1  by continuing to browse , you agree to the use...  \n",
       "2  you may change your settings at any time but t...  \n",
       "3             to learn more see our cookies policy .  \n",
       "4   the kristaps porzingis era in new york is off...  "
      ]
     },
     "execution_count": 170,
     "metadata": {},
     "output_type": "execute_result"
    }
   ],
   "source": [
    "#Create text column to edit \n",
    "#Duplicating text column to edit \n",
    "Edited_sentenceC19 = control19_split['cleaned_text'].copy()\n",
    "control19_split['Article_without_stopwords'] = Edited_sentenceC19\n",
    "control19_split.head(5)"
   ]
  },
  {
   "cell_type": "markdown",
   "metadata": {},
   "source": [
    "__Preprocess__"
   ]
  },
  {
   "cell_type": "code",
   "execution_count": 171,
   "metadata": {},
   "outputs": [],
   "source": [
    "# Using the preprocessing function to preprocess the hotel data\n",
    "preprocess_Articles(control19_split, 'Article_without_stopwords')"
   ]
  },
  {
   "cell_type": "markdown",
   "metadata": {},
   "source": [
    "__Tokenize and remove stopwords__"
   ]
  },
  {
   "cell_type": "code",
   "execution_count": 172,
   "metadata": {},
   "outputs": [],
   "source": [
    "# Using tokenizer and removing the stopwords\n",
    "rem_stopwords_tokenize(control19_split, 'Article_without_stopwords')"
   ]
  },
  {
   "cell_type": "markdown",
   "metadata": {},
   "source": [
    "__Convert text back into sentences__"
   ]
  },
  {
   "cell_type": "code",
   "execution_count": 173,
   "metadata": {},
   "outputs": [],
   "source": [
    "# Converting all the texts back to sentences\n",
    "make_sentences(control19_split, 'Article_without_stopwords')"
   ]
  },
  {
   "cell_type": "code",
   "execution_count": 174,
   "metadata": {},
   "outputs": [],
   "source": [
    "#Create new column for final edits \n",
    "final_EditC19 = control19_split['Article_without_stopwords'].copy()\n",
    "control19_split[\"After_lemmatization\"] = final_EditC19"
   ]
  },
  {
   "cell_type": "markdown",
   "metadata": {},
   "source": [
    "__Lemmatize__"
   ]
  },
  {
   "cell_type": "code",
   "execution_count": 176,
   "metadata": {},
   "outputs": [],
   "source": [
    "# Using the Lemmatization function to lemmatize the hotel data\n",
    "Lemmatization(control19_split,'After_lemmatization')"
   ]
  },
  {
   "cell_type": "code",
   "execution_count": 177,
   "metadata": {},
   "outputs": [],
   "source": [
    "# Converting all the texts back to sentences\n",
    "make_sentences(control19_split, 'After_lemmatization')"
   ]
  },
  {
   "cell_type": "markdown",
   "metadata": {},
   "source": [
    "__Tagging the words__"
   ]
  },
  {
   "cell_type": "code",
   "execution_count": 178,
   "metadata": {},
   "outputs": [],
   "source": [
    "pos=neg=obj=count=0\n",
    "\n",
    "postagging_control19 = []\n",
    "\n",
    "for article in control19_split ['After_lemmatization']:\n",
    "    list = word_tokenize(article)\n",
    "    postagging_control19.append(nltk.pos_tag(list))\n",
    "\n",
    "control19_split['pos_tags'] = postagging_control19"
   ]
  },
  {
   "cell_type": "markdown",
   "metadata": {},
   "source": [
    "__Get Sentiment Scores__"
   ]
  },
  {
   "cell_type": "code",
   "execution_count": 179,
   "metadata": {},
   "outputs": [
    {
     "name": "stdout",
     "output_type": "stream",
     "text": [
      "0         0.000\n",
      "1        -0.500\n",
      "2         0.625\n",
      "3         0.000\n",
      "4         1.000\n",
      "          ...  \n",
      "229700    0.000\n",
      "229701    0.375\n",
      "229702    0.250\n",
      "229703    0.500\n",
      "229704   -0.125\n",
      "Name: Non_Music_Sentiment, Length: 229705, dtype: float64\n"
     ]
    }
   ],
   "source": [
    "senti_score_control19 = []\n",
    "\n",
    "for pos_val in control19_split['pos_tags']:\n",
    "    senti_val = [get_sentiment(x,y) for (x,y) in pos_val]\n",
    "    for score in senti_val:\n",
    "        try:\n",
    "            pos = pos + score[1]  #positive score is stored at 2nd position\n",
    "            neg = neg + score[2]  #negative score is stored at 3rd position\n",
    "        except:\n",
    "            continue\n",
    "    senti_score_control19.append(pos - neg)\n",
    "    pos=neg=0    \n",
    "    \n",
    "control19_split['Non_Music_Sentiment'] = senti_score_control19\n",
    "print(control19_split['Non_Music_Sentiment'])"
   ]
  },
  {
   "cell_type": "code",
   "execution_count": 186,
   "metadata": {},
   "outputs": [
    {
     "data": {
      "text/plain": [
       "0.0"
      ]
     },
     "execution_count": 186,
     "metadata": {},
     "output_type": "execute_result"
    }
   ],
   "source": [
    "#Getting to know more about the senti_score column \n",
    "max(control19_split['Non_Music_Sentiment']) #max value = 10.375\n",
    "\n",
    "min(control19_split['Non_Music_Sentiment']) #min value= -25.375\n",
    "\n",
    "control19_split.Non_Music_Sentiment.mean() #mean value = 0.10\n",
    "\n",
    "control19_split.Non_Music_Sentiment.median() #median = 0 - this is good, that's neutral "
   ]
  },
  {
   "cell_type": "markdown",
   "metadata": {},
   "source": [
    "__Classify sentiment scores into groups__"
   ]
  },
  {
   "cell_type": "code",
   "execution_count": 187,
   "metadata": {},
   "outputs": [],
   "source": [
    "#Classify the sentiment scores into groups \n",
    "overall_control19=[]\n",
    "for i in range(len(control19_split)):\n",
    "    if control19_split['Non_Music_Sentiment'][i]>= 0.05:\n",
    "        overall_control19.append('Positive')\n",
    "    elif control19_split['Non_Music_Sentiment'][i]<= -0.05:\n",
    "        overall_control19.append('Negative')\n",
    "    else:\n",
    "        overall_control19.append('Neutral')\n",
    "control19_split['Overall Sentiment']=overall_control19"
   ]
  },
  {
   "cell_type": "code",
   "execution_count": 188,
   "metadata": {},
   "outputs": [
    {
     "data": {
      "text/html": [
       "<div>\n",
       "<style scoped>\n",
       "    .dataframe tbody tr th:only-of-type {\n",
       "        vertical-align: middle;\n",
       "    }\n",
       "\n",
       "    .dataframe tbody tr th {\n",
       "        vertical-align: top;\n",
       "    }\n",
       "\n",
       "    .dataframe thead th {\n",
       "        text-align: right;\n",
       "    }\n",
       "</style>\n",
       "<table border=\"1\" class=\"dataframe\">\n",
       "  <thead>\n",
       "    <tr style=\"text-align: right;\">\n",
       "      <th></th>\n",
       "      <th>cleaned_text</th>\n",
       "      <th>ID</th>\n",
       "      <th>Article_without_stopwords</th>\n",
       "      <th>After_lemmatization</th>\n",
       "      <th>pos_tags</th>\n",
       "      <th>Non_Music_Sentiment</th>\n",
       "      <th>Overall Sentiment</th>\n",
       "    </tr>\n",
       "  </thead>\n",
       "  <tbody>\n",
       "    <tr>\n",
       "      <th>0</th>\n",
       "      <td>this site uses cookies to improve your exper...</td>\n",
       "      <td>60500075</td>\n",
       "      <td>site uses cookies improve experience provide s...</td>\n",
       "      <td>site cooky improve experience provide service ...</td>\n",
       "      <td>[(site, NN), (cooky, NNS), (improve, VBP), (ex...</td>\n",
       "      <td>0.000</td>\n",
       "      <td>Neutral</td>\n",
       "    </tr>\n",
       "    <tr>\n",
       "      <th>1</th>\n",
       "      <td>by continuing to browse , you agree to the use...</td>\n",
       "      <td>60500075</td>\n",
       "      <td>continuing browse agree use cookies described ...</td>\n",
       "      <td>continuing browse agree use cooky described co...</td>\n",
       "      <td>[(continuing, VBG), (browse, NNS), (agree, VBP...</td>\n",
       "      <td>-0.500</td>\n",
       "      <td>Negative</td>\n",
       "    </tr>\n",
       "    <tr>\n",
       "      <th>2</th>\n",
       "      <td>you may change your settings at any time but t...</td>\n",
       "      <td>60500075</td>\n",
       "      <td>may change settings time may impact functional...</td>\n",
       "      <td>may change setting time may impact functionali...</td>\n",
       "      <td>[(may, MD), (change, VB), (setting, VBG), (tim...</td>\n",
       "      <td>0.625</td>\n",
       "      <td>Positive</td>\n",
       "    </tr>\n",
       "    <tr>\n",
       "      <th>3</th>\n",
       "      <td>to learn more see our cookies policy .</td>\n",
       "      <td>60500075</td>\n",
       "      <td>learn see cookies policy</td>\n",
       "      <td>learn see cooky policy</td>\n",
       "      <td>[(learn, NN), (see, VB), (cooky, JJ), (policy,...</td>\n",
       "      <td>0.000</td>\n",
       "      <td>Neutral</td>\n",
       "    </tr>\n",
       "    <tr>\n",
       "      <th>4</th>\n",
       "      <td>the kristaps porzingis era in new york is off...</td>\n",
       "      <td>60500075</td>\n",
       "      <td>kristaps porzingis era new york officially pow...</td>\n",
       "      <td>kristaps porzingis era new york officially pow...</td>\n",
       "      <td>[(kristaps, NNS), (porzingis, VBP), (era, JJ),...</td>\n",
       "      <td>1.000</td>\n",
       "      <td>Positive</td>\n",
       "    </tr>\n",
       "    <tr>\n",
       "      <th>5</th>\n",
       "      <td>porzingis met the knicks ' management on thur...</td>\n",
       "      <td>60500075</td>\n",
       "      <td>porzingis met knicks management thursday expre...</td>\n",
       "      <td>porzingis met knicks management thursday expre...</td>\n",
       "      <td>[(porzingis, NN), (met, VBD), (knicks, NNS), (...</td>\n",
       "      <td>0.250</td>\n",
       "      <td>Positive</td>\n",
       "    </tr>\n",
       "    <tr>\n",
       "      <th>6</th>\n",
       "      <td>in the wake of the impression he left in that...</td>\n",
       "      <td>60500075</td>\n",
       "      <td>wake impression left meeting things escalated ...</td>\n",
       "      <td>wake impression left meeting thing escalated q...</td>\n",
       "      <td>[(wake, NN), (impression, NN), (left, VBD), (m...</td>\n",
       "      <td>0.000</td>\n",
       "      <td>Neutral</td>\n",
       "    </tr>\n",
       "    <tr>\n",
       "      <th>7</th>\n",
       "      <td>the move was then officially confirmed in a m...</td>\n",
       "      <td>60500075</td>\n",
       "      <td>move officially confirmed inmedia release knicks</td>\n",
       "      <td>move officially confirmed inmedia release knicks</td>\n",
       "      <td>[(move, NN), (officially, RB), (confirmed, VBN...</td>\n",
       "      <td>0.125</td>\n",
       "      <td>Positive</td>\n",
       "    </tr>\n",
       "    <tr>\n",
       "      <th>8</th>\n",
       "      <td>they have received dennis smith jr .</td>\n",
       "      <td>60500075</td>\n",
       "      <td>received dennis smith jr</td>\n",
       "      <td>received dennis smith</td>\n",
       "      <td>[(received, VBN), (dennis, NN), (smith, NN)]</td>\n",
       "      <td>0.000</td>\n",
       "      <td>Neutral</td>\n",
       "    </tr>\n",
       "    <tr>\n",
       "      <th>9</th>\n",
       "      <td>and the expiring contracts of deandre jordan a...</td>\n",
       "      <td>60500075</td>\n",
       "      <td>expiring contracts deandre jordan wes matthews...</td>\n",
       "      <td>expiring contract deandre jordan wes matthew r...</td>\n",
       "      <td>[(expiring, VBG), (contract, NN), (deandre, JJ...</td>\n",
       "      <td>0.250</td>\n",
       "      <td>Positive</td>\n",
       "    </tr>\n",
       "  </tbody>\n",
       "</table>\n",
       "</div>"
      ],
      "text/plain": [
       "                                        cleaned_text        ID  \\\n",
       "0    this site uses cookies to improve your exper...  60500075   \n",
       "1  by continuing to browse , you agree to the use...  60500075   \n",
       "2  you may change your settings at any time but t...  60500075   \n",
       "3             to learn more see our cookies policy .  60500075   \n",
       "4   the kristaps porzingis era in new york is off...  60500075   \n",
       "5   porzingis met the knicks ' management on thur...  60500075   \n",
       "6   in the wake of the impression he left in that...  60500075   \n",
       "7   the move was then officially confirmed in a m...  60500075   \n",
       "8               they have received dennis smith jr .  60500075   \n",
       "9  and the expiring contracts of deandre jordan a...  60500075   \n",
       "\n",
       "                           Article_without_stopwords  \\\n",
       "0  site uses cookies improve experience provide s...   \n",
       "1  continuing browse agree use cookies described ...   \n",
       "2  may change settings time may impact functional...   \n",
       "3                          learn see cookies policy    \n",
       "4  kristaps porzingis era new york officially pow...   \n",
       "5  porzingis met knicks management thursday expre...   \n",
       "6  wake impression left meeting things escalated ...   \n",
       "7  move officially confirmed inmedia release knicks    \n",
       "8                          received dennis smith jr    \n",
       "9  expiring contracts deandre jordan wes matthews...   \n",
       "\n",
       "                                 After_lemmatization  \\\n",
       "0  site cooky improve experience provide service ...   \n",
       "1  continuing browse agree use cooky described co...   \n",
       "2  may change setting time may impact functionali...   \n",
       "3                            learn see cooky policy    \n",
       "4  kristaps porzingis era new york officially pow...   \n",
       "5  porzingis met knicks management thursday expre...   \n",
       "6  wake impression left meeting thing escalated q...   \n",
       "7  move officially confirmed inmedia release knicks    \n",
       "8                             received dennis smith    \n",
       "9  expiring contract deandre jordan wes matthew r...   \n",
       "\n",
       "                                            pos_tags  Non_Music_Sentiment  \\\n",
       "0  [(site, NN), (cooky, NNS), (improve, VBP), (ex...                0.000   \n",
       "1  [(continuing, VBG), (browse, NNS), (agree, VBP...               -0.500   \n",
       "2  [(may, MD), (change, VB), (setting, VBG), (tim...                0.625   \n",
       "3  [(learn, NN), (see, VB), (cooky, JJ), (policy,...                0.000   \n",
       "4  [(kristaps, NNS), (porzingis, VBP), (era, JJ),...                1.000   \n",
       "5  [(porzingis, NN), (met, VBD), (knicks, NNS), (...                0.250   \n",
       "6  [(wake, NN), (impression, NN), (left, VBD), (m...                0.000   \n",
       "7  [(move, NN), (officially, RB), (confirmed, VBN...                0.125   \n",
       "8       [(received, VBN), (dennis, NN), (smith, NN)]                0.000   \n",
       "9  [(expiring, VBG), (contract, NN), (deandre, JJ...                0.250   \n",
       "\n",
       "  Overall Sentiment  \n",
       "0           Neutral  \n",
       "1          Negative  \n",
       "2          Positive  \n",
       "3           Neutral  \n",
       "4          Positive  \n",
       "5          Positive  \n",
       "6           Neutral  \n",
       "7          Positive  \n",
       "8           Neutral  \n",
       "9          Positive  "
      ]
     },
     "execution_count": 188,
     "metadata": {},
     "output_type": "execute_result"
    }
   ],
   "source": [
    "control19_split.head(10)"
   ]
  },
  {
   "cell_type": "markdown",
   "metadata": {},
   "source": [
    "__Group sentiment into the individual articles__"
   ]
  },
  {
   "cell_type": "code",
   "execution_count": 189,
   "metadata": {},
   "outputs": [],
   "source": [
    "#Group the sentences back into one by ID to get 1 sentiment score for each article\n",
    "sentiment_control19 = control19_split.copy()"
   ]
  },
  {
   "cell_type": "code",
   "execution_count": 190,
   "metadata": {},
   "outputs": [
    {
     "data": {
      "text/html": [
       "<div>\n",
       "<style scoped>\n",
       "    .dataframe tbody tr th:only-of-type {\n",
       "        vertical-align: middle;\n",
       "    }\n",
       "\n",
       "    .dataframe tbody tr th {\n",
       "        vertical-align: top;\n",
       "    }\n",
       "\n",
       "    .dataframe thead th {\n",
       "        text-align: right;\n",
       "    }\n",
       "</style>\n",
       "<table border=\"1\" class=\"dataframe\">\n",
       "  <thead>\n",
       "    <tr style=\"text-align: right;\">\n",
       "      <th></th>\n",
       "      <th>Non_Music_Sentiment</th>\n",
       "    </tr>\n",
       "    <tr>\n",
       "      <th>ID</th>\n",
       "      <th></th>\n",
       "    </tr>\n",
       "  </thead>\n",
       "  <tbody>\n",
       "    <tr>\n",
       "      <th>30517341</th>\n",
       "      <td>-0.063953</td>\n",
       "    </tr>\n",
       "    <tr>\n",
       "      <th>30517366</th>\n",
       "      <td>0.151786</td>\n",
       "    </tr>\n",
       "    <tr>\n",
       "      <th>30517868</th>\n",
       "      <td>0.125000</td>\n",
       "    </tr>\n",
       "    <tr>\n",
       "      <th>30518324</th>\n",
       "      <td>0.162500</td>\n",
       "    </tr>\n",
       "    <tr>\n",
       "      <th>30519424</th>\n",
       "      <td>0.131579</td>\n",
       "    </tr>\n",
       "    <tr>\n",
       "      <th>...</th>\n",
       "      <td>...</td>\n",
       "    </tr>\n",
       "    <tr>\n",
       "      <th>70735264</th>\n",
       "      <td>0.056452</td>\n",
       "    </tr>\n",
       "    <tr>\n",
       "      <th>70735322</th>\n",
       "      <td>0.346154</td>\n",
       "    </tr>\n",
       "    <tr>\n",
       "      <th>70735864</th>\n",
       "      <td>0.480769</td>\n",
       "    </tr>\n",
       "    <tr>\n",
       "      <th>70736060</th>\n",
       "      <td>0.044118</td>\n",
       "    </tr>\n",
       "    <tr>\n",
       "      <th>70736100</th>\n",
       "      <td>-0.190789</td>\n",
       "    </tr>\n",
       "  </tbody>\n",
       "</table>\n",
       "<p>8773 rows × 1 columns</p>\n",
       "</div>"
      ],
      "text/plain": [
       "          Non_Music_Sentiment\n",
       "ID                           \n",
       "30517341            -0.063953\n",
       "30517366             0.151786\n",
       "30517868             0.125000\n",
       "30518324             0.162500\n",
       "30519424             0.131579\n",
       "...                       ...\n",
       "70735264             0.056452\n",
       "70735322             0.346154\n",
       "70735864             0.480769\n",
       "70736060             0.044118\n",
       "70736100            -0.190789\n",
       "\n",
       "[8773 rows x 1 columns]"
      ]
     },
     "execution_count": 190,
     "metadata": {},
     "output_type": "execute_result"
    }
   ],
   "source": [
    "sentiment_control19 = sentiment_control19.groupby(['ID']).mean(['Non_Music_Sentiment'])\n",
    "sentiment_control19"
   ]
  },
  {
   "cell_type": "code",
   "execution_count": 191,
   "metadata": {},
   "outputs": [],
   "source": [
    "article_sentimentC19 = []\n",
    "\n",
    "for score in sentiment_control19['Non_Music_Sentiment']:\n",
    "    if score >=0.05:\n",
    "        article_sentimentC19.append('Positive')\n",
    "    elif score <= -0.05:\n",
    "        article_sentimentC19.append('Negative')\n",
    "    else: \n",
    "        article_sentimentC19.append('Neutral')"
   ]
  },
  {
   "cell_type": "code",
   "execution_count": 192,
   "metadata": {},
   "outputs": [
    {
     "data": {
      "text/html": [
       "<div>\n",
       "<style scoped>\n",
       "    .dataframe tbody tr th:only-of-type {\n",
       "        vertical-align: middle;\n",
       "    }\n",
       "\n",
       "    .dataframe tbody tr th {\n",
       "        vertical-align: top;\n",
       "    }\n",
       "\n",
       "    .dataframe thead th {\n",
       "        text-align: right;\n",
       "    }\n",
       "</style>\n",
       "<table border=\"1\" class=\"dataframe\">\n",
       "  <thead>\n",
       "    <tr style=\"text-align: right;\">\n",
       "      <th></th>\n",
       "      <th>Non_Music_Sentiment</th>\n",
       "      <th>Article Sentiment</th>\n",
       "    </tr>\n",
       "    <tr>\n",
       "      <th>ID</th>\n",
       "      <th></th>\n",
       "      <th></th>\n",
       "    </tr>\n",
       "  </thead>\n",
       "  <tbody>\n",
       "    <tr>\n",
       "      <th>30517341</th>\n",
       "      <td>-0.063953</td>\n",
       "      <td>Negative</td>\n",
       "    </tr>\n",
       "    <tr>\n",
       "      <th>30517366</th>\n",
       "      <td>0.151786</td>\n",
       "      <td>Positive</td>\n",
       "    </tr>\n",
       "    <tr>\n",
       "      <th>30517868</th>\n",
       "      <td>0.125000</td>\n",
       "      <td>Positive</td>\n",
       "    </tr>\n",
       "    <tr>\n",
       "      <th>30518324</th>\n",
       "      <td>0.162500</td>\n",
       "      <td>Positive</td>\n",
       "    </tr>\n",
       "    <tr>\n",
       "      <th>30519424</th>\n",
       "      <td>0.131579</td>\n",
       "      <td>Positive</td>\n",
       "    </tr>\n",
       "  </tbody>\n",
       "</table>\n",
       "</div>"
      ],
      "text/plain": [
       "          Non_Music_Sentiment Article Sentiment\n",
       "ID                                             \n",
       "30517341            -0.063953          Negative\n",
       "30517366             0.151786          Positive\n",
       "30517868             0.125000          Positive\n",
       "30518324             0.162500          Positive\n",
       "30519424             0.131579          Positive"
      ]
     },
     "execution_count": 192,
     "metadata": {},
     "output_type": "execute_result"
    }
   ],
   "source": [
    "sentiment_control19['Article Sentiment'] = article_sentimentC19\n",
    "sentiment_control19.head(5)"
   ]
  },
  {
   "cell_type": "markdown",
   "metadata": {},
   "source": [
    "__Plot sentiment by group__"
   ]
  },
  {
   "cell_type": "code",
   "execution_count": 193,
   "metadata": {},
   "outputs": [
    {
     "name": "stderr",
     "output_type": "stream",
     "text": [
      "/home/orlam/NOW/lang101/lib/python3.6/site-packages/seaborn/_decorators.py:43: FutureWarning: Pass the following variable as a keyword arg: x. From version 0.12, the only valid positional argument will be `data`, and passing other arguments without an explicit keyword will result in an error or misinterpretation.\n",
      "  FutureWarning\n"
     ]
    },
    {
     "data": {
      "text/plain": [
       "<AxesSubplot:xlabel='Article Sentiment', ylabel='count'>"
      ]
     },
     "execution_count": 193,
     "metadata": {},
     "output_type": "execute_result"
    },
    {
     "data": {
      "image/png": "[encoded data removed]",
      "text/plain": [
       "<Figure size 792x288 with 1 Axes>"
      ]
     },
     "metadata": {},
     "output_type": "display_data"
    }
   ],
   "source": [
    "sns.countplot(sentiment_control19['Article Sentiment'])"
   ]
  },
  {
   "cell_type": "markdown",
   "metadata": {},
   "source": [
    "__Timeseries__"
   ]
  },
  {
   "cell_type": "code",
   "execution_count": 194,
   "metadata": {},
   "outputs": [
    {
     "data": {
      "text/plain": [
       "Non_Music_Sentiment    float64\n",
       "Article Sentiment       object\n",
       "ID ref                   int64\n",
       "dtype: object"
      ]
     },
     "execution_count": 194,
     "metadata": {},
     "output_type": "execute_result"
    }
   ],
   "source": [
    "#Plotting over time; first make the index (ID) a column \n",
    "sentiment_control19['ID ref']= sentiment_control19.index\n",
    "sentiment_control19.dtypes"
   ]
  },
  {
   "cell_type": "code",
   "execution_count": 195,
   "metadata": {},
   "outputs": [],
   "source": [
    "#Then match the date \n",
    "#Merge the date column onto music20_split \n",
    "sentiment_control19 = pd.merge(left = sentiment_control19, right = date_matchC19, how='left', left_on='ID ref', right_on='ID' )\n"
   ]
  },
  {
   "cell_type": "code",
   "execution_count": 196,
   "metadata": {},
   "outputs": [
    {
     "data": {
      "text/html": [
       "<div>\n",
       "<style scoped>\n",
       "    .dataframe tbody tr th:only-of-type {\n",
       "        vertical-align: middle;\n",
       "    }\n",
       "\n",
       "    .dataframe tbody tr th {\n",
       "        vertical-align: top;\n",
       "    }\n",
       "\n",
       "    .dataframe thead th {\n",
       "        text-align: right;\n",
       "    }\n",
       "</style>\n",
       "<table border=\"1\" class=\"dataframe\">\n",
       "  <thead>\n",
       "    <tr style=\"text-align: right;\">\n",
       "      <th></th>\n",
       "      <th>Non_Music_Sentiment</th>\n",
       "      <th>Article Sentiment</th>\n",
       "      <th>ID ref</th>\n",
       "      <th>Date</th>\n",
       "      <th>ID</th>\n",
       "    </tr>\n",
       "  </thead>\n",
       "  <tbody>\n",
       "    <tr>\n",
       "      <th>0</th>\n",
       "      <td>-0.063953</td>\n",
       "      <td>Negative</td>\n",
       "      <td>30517341</td>\n",
       "      <td>19-02-01</td>\n",
       "      <td>30517341</td>\n",
       "    </tr>\n",
       "    <tr>\n",
       "      <th>1</th>\n",
       "      <td>0.151786</td>\n",
       "      <td>Positive</td>\n",
       "      <td>30517366</td>\n",
       "      <td>19-02-01</td>\n",
       "      <td>30517366</td>\n",
       "    </tr>\n",
       "    <tr>\n",
       "      <th>2</th>\n",
       "      <td>0.125000</td>\n",
       "      <td>Positive</td>\n",
       "      <td>30517868</td>\n",
       "      <td>19-02-01</td>\n",
       "      <td>30517868</td>\n",
       "    </tr>\n",
       "    <tr>\n",
       "      <th>3</th>\n",
       "      <td>0.162500</td>\n",
       "      <td>Positive</td>\n",
       "      <td>30518324</td>\n",
       "      <td>19-02-01</td>\n",
       "      <td>30518324</td>\n",
       "    </tr>\n",
       "    <tr>\n",
       "      <th>4</th>\n",
       "      <td>0.131579</td>\n",
       "      <td>Positive</td>\n",
       "      <td>30519424</td>\n",
       "      <td>19-02-01</td>\n",
       "      <td>30519424</td>\n",
       "    </tr>\n",
       "  </tbody>\n",
       "</table>\n",
       "</div>"
      ],
      "text/plain": [
       "   Non_Music_Sentiment Article Sentiment    ID ref      Date        ID\n",
       "0            -0.063953          Negative  30517341  19-02-01  30517341\n",
       "1             0.151786          Positive  30517366  19-02-01  30517366\n",
       "2             0.125000          Positive  30517868  19-02-01  30517868\n",
       "3             0.162500          Positive  30518324  19-02-01  30518324\n",
       "4             0.131579          Positive  30519424  19-02-01  30519424"
      ]
     },
     "execution_count": 196,
     "metadata": {},
     "output_type": "execute_result"
    }
   ],
   "source": [
    "sentiment_control19.head(5)"
   ]
  },
  {
   "cell_type": "code",
   "execution_count": 197,
   "metadata": {},
   "outputs": [
    {
     "data": {
      "text/html": [
       "<div>\n",
       "<style scoped>\n",
       "    .dataframe tbody tr th:only-of-type {\n",
       "        vertical-align: middle;\n",
       "    }\n",
       "\n",
       "    .dataframe tbody tr th {\n",
       "        vertical-align: top;\n",
       "    }\n",
       "\n",
       "    .dataframe thead th {\n",
       "        text-align: right;\n",
       "    }\n",
       "</style>\n",
       "<table border=\"1\" class=\"dataframe\">\n",
       "  <thead>\n",
       "    <tr style=\"text-align: right;\">\n",
       "      <th></th>\n",
       "      <th>Non_Music_Sentiment</th>\n",
       "      <th>ID ref</th>\n",
       "      <th>ID</th>\n",
       "    </tr>\n",
       "    <tr>\n",
       "      <th>Date</th>\n",
       "      <th></th>\n",
       "      <th></th>\n",
       "      <th></th>\n",
       "    </tr>\n",
       "  </thead>\n",
       "  <tbody>\n",
       "    <tr>\n",
       "      <th>19-02-01</th>\n",
       "      <td>0.079011</td>\n",
       "      <td>5.390929e+07</td>\n",
       "      <td>5.390929e+07</td>\n",
       "    </tr>\n",
       "    <tr>\n",
       "      <th>19-02-02</th>\n",
       "      <td>0.115991</td>\n",
       "      <td>5.103139e+07</td>\n",
       "      <td>5.103139e+07</td>\n",
       "    </tr>\n",
       "    <tr>\n",
       "      <th>19-02-03</th>\n",
       "      <td>0.097505</td>\n",
       "      <td>5.314239e+07</td>\n",
       "      <td>5.314239e+07</td>\n",
       "    </tr>\n",
       "    <tr>\n",
       "      <th>19-02-04</th>\n",
       "      <td>0.127811</td>\n",
       "      <td>5.003102e+07</td>\n",
       "      <td>5.003102e+07</td>\n",
       "    </tr>\n",
       "    <tr>\n",
       "      <th>19-02-05</th>\n",
       "      <td>0.096752</td>\n",
       "      <td>5.060484e+07</td>\n",
       "      <td>5.060484e+07</td>\n",
       "    </tr>\n",
       "    <tr>\n",
       "      <th>...</th>\n",
       "      <td>...</td>\n",
       "      <td>...</td>\n",
       "      <td>...</td>\n",
       "    </tr>\n",
       "    <tr>\n",
       "      <th>19-04-26</th>\n",
       "      <td>0.109095</td>\n",
       "      <td>5.229840e+07</td>\n",
       "      <td>5.229840e+07</td>\n",
       "    </tr>\n",
       "    <tr>\n",
       "      <th>19-04-27</th>\n",
       "      <td>0.096143</td>\n",
       "      <td>4.820495e+07</td>\n",
       "      <td>4.820495e+07</td>\n",
       "    </tr>\n",
       "    <tr>\n",
       "      <th>19-04-28</th>\n",
       "      <td>0.103277</td>\n",
       "      <td>5.230250e+07</td>\n",
       "      <td>5.230250e+07</td>\n",
       "    </tr>\n",
       "    <tr>\n",
       "      <th>19-04-29</th>\n",
       "      <td>0.104367</td>\n",
       "      <td>5.088141e+07</td>\n",
       "      <td>5.088141e+07</td>\n",
       "    </tr>\n",
       "    <tr>\n",
       "      <th>19-04-30</th>\n",
       "      <td>0.098564</td>\n",
       "      <td>5.001111e+07</td>\n",
       "      <td>5.001111e+07</td>\n",
       "    </tr>\n",
       "  </tbody>\n",
       "</table>\n",
       "<p>89 rows × 3 columns</p>\n",
       "</div>"
      ],
      "text/plain": [
       "          Non_Music_Sentiment        ID ref            ID\n",
       "Date                                                     \n",
       "19-02-01             0.079011  5.390929e+07  5.390929e+07\n",
       "19-02-02             0.115991  5.103139e+07  5.103139e+07\n",
       "19-02-03             0.097505  5.314239e+07  5.314239e+07\n",
       "19-02-04             0.127811  5.003102e+07  5.003102e+07\n",
       "19-02-05             0.096752  5.060484e+07  5.060484e+07\n",
       "...                       ...           ...           ...\n",
       "19-04-26             0.109095  5.229840e+07  5.229840e+07\n",
       "19-04-27             0.096143  4.820495e+07  4.820495e+07\n",
       "19-04-28             0.103277  5.230250e+07  5.230250e+07\n",
       "19-04-29             0.104367  5.088141e+07  5.088141e+07\n",
       "19-04-30             0.098564  5.001111e+07  5.001111e+07\n",
       "\n",
       "[89 rows x 3 columns]"
      ]
     },
     "execution_count": 197,
     "metadata": {},
     "output_type": "execute_result"
    }
   ],
   "source": [
    "#We'll group by the date sentiment \n",
    "control19_sentiment = sentiment_control19.groupby(['Date']).mean()\n",
    "control19_sentiment"
   ]
  },
  {
   "cell_type": "code",
   "execution_count": 198,
   "metadata": {},
   "outputs": [
    {
     "data": {
      "text/html": [
       "<div>\n",
       "<style scoped>\n",
       "    .dataframe tbody tr th:only-of-type {\n",
       "        vertical-align: middle;\n",
       "    }\n",
       "\n",
       "    .dataframe tbody tr th {\n",
       "        vertical-align: top;\n",
       "    }\n",
       "\n",
       "    .dataframe thead th {\n",
       "        text-align: right;\n",
       "    }\n",
       "</style>\n",
       "<table border=\"1\" class=\"dataframe\">\n",
       "  <thead>\n",
       "    <tr style=\"text-align: right;\">\n",
       "      <th></th>\n",
       "      <th>Non_Music_Sentiment</th>\n",
       "    </tr>\n",
       "    <tr>\n",
       "      <th>Date</th>\n",
       "      <th></th>\n",
       "    </tr>\n",
       "  </thead>\n",
       "  <tbody>\n",
       "    <tr>\n",
       "      <th>19-02-01</th>\n",
       "      <td>0.079011</td>\n",
       "    </tr>\n",
       "    <tr>\n",
       "      <th>19-02-02</th>\n",
       "      <td>0.115991</td>\n",
       "    </tr>\n",
       "    <tr>\n",
       "      <th>19-02-03</th>\n",
       "      <td>0.097505</td>\n",
       "    </tr>\n",
       "    <tr>\n",
       "      <th>19-02-04</th>\n",
       "      <td>0.127811</td>\n",
       "    </tr>\n",
       "    <tr>\n",
       "      <th>19-02-05</th>\n",
       "      <td>0.096752</td>\n",
       "    </tr>\n",
       "    <tr>\n",
       "      <th>...</th>\n",
       "      <td>...</td>\n",
       "    </tr>\n",
       "    <tr>\n",
       "      <th>19-04-26</th>\n",
       "      <td>0.109095</td>\n",
       "    </tr>\n",
       "    <tr>\n",
       "      <th>19-04-27</th>\n",
       "      <td>0.096143</td>\n",
       "    </tr>\n",
       "    <tr>\n",
       "      <th>19-04-28</th>\n",
       "      <td>0.103277</td>\n",
       "    </tr>\n",
       "    <tr>\n",
       "      <th>19-04-29</th>\n",
       "      <td>0.104367</td>\n",
       "    </tr>\n",
       "    <tr>\n",
       "      <th>19-04-30</th>\n",
       "      <td>0.098564</td>\n",
       "    </tr>\n",
       "  </tbody>\n",
       "</table>\n",
       "<p>89 rows × 1 columns</p>\n",
       "</div>"
      ],
      "text/plain": [
       "          Non_Music_Sentiment\n",
       "Date                         \n",
       "19-02-01             0.079011\n",
       "19-02-02             0.115991\n",
       "19-02-03             0.097505\n",
       "19-02-04             0.127811\n",
       "19-02-05             0.096752\n",
       "...                       ...\n",
       "19-04-26             0.109095\n",
       "19-04-27             0.096143\n",
       "19-04-28             0.103277\n",
       "19-04-29             0.104367\n",
       "19-04-30             0.098564\n",
       "\n",
       "[89 rows x 1 columns]"
      ]
     },
     "execution_count": 198,
     "metadata": {},
     "output_type": "execute_result"
    }
   ],
   "source": [
    "#Keep only the columns we need\n",
    "control19_sentiment = control19_sentiment[['Non_Music_Sentiment']]\n",
    "control19_sentiment"
   ]
  },
  {
   "cell_type": "markdown",
   "metadata": {},
   "source": [
    "## Timeseries 2019"
   ]
  },
  {
   "cell_type": "code",
   "execution_count": 199,
   "metadata": {},
   "outputs": [],
   "source": [
    "#Merge the music and control sentiment scores by date together \n",
    "timeseries_2019 = pd.merge(left = music_sentiment19, right = control19_sentiment, how='left', on='Date')"
   ]
  },
  {
   "cell_type": "code",
   "execution_count": 200,
   "metadata": {},
   "outputs": [
    {
     "data": {
      "text/html": [
       "<div>\n",
       "<style scoped>\n",
       "    .dataframe tbody tr th:only-of-type {\n",
       "        vertical-align: middle;\n",
       "    }\n",
       "\n",
       "    .dataframe tbody tr th {\n",
       "        vertical-align: top;\n",
       "    }\n",
       "\n",
       "    .dataframe thead th {\n",
       "        text-align: right;\n",
       "    }\n",
       "</style>\n",
       "<table border=\"1\" class=\"dataframe\">\n",
       "  <thead>\n",
       "    <tr style=\"text-align: right;\">\n",
       "      <th></th>\n",
       "      <th>Music_Sentiment</th>\n",
       "      <th>Non_Music_Sentiment</th>\n",
       "    </tr>\n",
       "    <tr>\n",
       "      <th>Date</th>\n",
       "      <th></th>\n",
       "      <th></th>\n",
       "    </tr>\n",
       "  </thead>\n",
       "  <tbody>\n",
       "    <tr>\n",
       "      <th>20-02-01</th>\n",
       "      <td>0.137500</td>\n",
       "      <td>0.138229</td>\n",
       "    </tr>\n",
       "    <tr>\n",
       "      <th>20-02-02</th>\n",
       "      <td>0.163025</td>\n",
       "      <td>0.154497</td>\n",
       "    </tr>\n",
       "    <tr>\n",
       "      <th>20-02-03</th>\n",
       "      <td>0.128713</td>\n",
       "      <td>0.138415</td>\n",
       "    </tr>\n",
       "    <tr>\n",
       "      <th>20-02-04</th>\n",
       "      <td>0.170808</td>\n",
       "      <td>0.113919</td>\n",
       "    </tr>\n",
       "    <tr>\n",
       "      <th>20-02-05</th>\n",
       "      <td>0.125108</td>\n",
       "      <td>0.151030</td>\n",
       "    </tr>\n",
       "  </tbody>\n",
       "</table>\n",
       "</div>"
      ],
      "text/plain": [
       "          Music_Sentiment  Non_Music_Sentiment\n",
       "Date                                          \n",
       "20-02-01         0.137500             0.138229\n",
       "20-02-02         0.163025             0.154497\n",
       "20-02-03         0.128713             0.138415\n",
       "20-02-04         0.170808             0.113919\n",
       "20-02-05         0.125108             0.151030"
      ]
     },
     "execution_count": 200,
     "metadata": {},
     "output_type": "execute_result"
    }
   ],
   "source": [
    "timeseries_2020.head(5)"
   ]
  },
  {
   "cell_type": "code",
   "execution_count": 201,
   "metadata": {},
   "outputs": [],
   "source": [
    "#Save this dataframe \n",
    "timeseries_2019.to_csv(\"../data/combined_data/sentiment_by_date2019.csv\", index = False)"
   ]
  },
  {
   "cell_type": "code",
   "execution_count": 202,
   "metadata": {},
   "outputs": [],
   "source": [
    "#create a category for the article group \n",
    "#sentiment_combined20 = timeseries_2020.rename(columns={\"Music Articles\":\"Music\", \"Non-Music Articles\":\"Not music\"})\n",
    "\n",
    "sentiment_combined19 = pd.melt(timeseries_2019.reset_index(),'Date', var_name='Article group', value_name='Avg daily sentiment')\n"
   ]
  },
  {
   "cell_type": "code",
   "execution_count": 205,
   "metadata": {},
   "outputs": [
    {
     "data": {
      "text/html": [
       "<div>\n",
       "<style scoped>\n",
       "    .dataframe tbody tr th:only-of-type {\n",
       "        vertical-align: middle;\n",
       "    }\n",
       "\n",
       "    .dataframe tbody tr th {\n",
       "        vertical-align: top;\n",
       "    }\n",
       "\n",
       "    .dataframe thead th {\n",
       "        text-align: right;\n",
       "    }\n",
       "</style>\n",
       "<table border=\"1\" class=\"dataframe\">\n",
       "  <thead>\n",
       "    <tr style=\"text-align: right;\">\n",
       "      <th></th>\n",
       "      <th>Date</th>\n",
       "      <th>Article group</th>\n",
       "      <th>Avg daily sentiment</th>\n",
       "    </tr>\n",
       "  </thead>\n",
       "  <tbody>\n",
       "    <tr>\n",
       "      <th>0</th>\n",
       "      <td>20-02-01</td>\n",
       "      <td>Music_Sentiment</td>\n",
       "      <td>0.137500</td>\n",
       "    </tr>\n",
       "    <tr>\n",
       "      <th>1</th>\n",
       "      <td>20-02-02</td>\n",
       "      <td>Music_Sentiment</td>\n",
       "      <td>0.163025</td>\n",
       "    </tr>\n",
       "    <tr>\n",
       "      <th>2</th>\n",
       "      <td>20-02-03</td>\n",
       "      <td>Music_Sentiment</td>\n",
       "      <td>0.128713</td>\n",
       "    </tr>\n",
       "    <tr>\n",
       "      <th>3</th>\n",
       "      <td>20-02-04</td>\n",
       "      <td>Music_Sentiment</td>\n",
       "      <td>0.170808</td>\n",
       "    </tr>\n",
       "    <tr>\n",
       "      <th>4</th>\n",
       "      <td>20-02-05</td>\n",
       "      <td>Music_Sentiment</td>\n",
       "      <td>0.125108</td>\n",
       "    </tr>\n",
       "  </tbody>\n",
       "</table>\n",
       "</div>"
      ],
      "text/plain": [
       "       Date    Article group  Avg daily sentiment\n",
       "0  20-02-01  Music_Sentiment             0.137500\n",
       "1  20-02-02  Music_Sentiment             0.163025\n",
       "2  20-02-03  Music_Sentiment             0.128713\n",
       "3  20-02-04  Music_Sentiment             0.170808\n",
       "4  20-02-05  Music_Sentiment             0.125108"
      ]
     },
     "execution_count": 205,
     "metadata": {},
     "output_type": "execute_result"
    }
   ],
   "source": [
    "len(sentiment_combined20) #178 \n",
    "\n",
    "sentiment_combined20.head(5)"
   ]
  },
  {
   "cell_type": "code",
   "execution_count": 206,
   "metadata": {},
   "outputs": [],
   "source": [
    "# Use seaborn style defaults and set the default figure size\n",
    "sns.set(rc={'figure.figsize':(11, 4)})\n",
    "#palette = sns.color_palette(\"rocket_r\")\n",
    "palette = sns.color_palette(\"Set2\")[1:3]"
   ]
  },
  {
   "cell_type": "code",
   "execution_count": 207,
   "metadata": {},
   "outputs": [
    {
     "data": {
      "image/png": "[encoded data removed]",
      "text/plain": [
       "<Figure size 792x288 with 1 Axes>"
      ]
     },
     "metadata": {},
     "output_type": "display_data"
    }
   ],
   "source": [
    "#sns.set_style(\"ticks\", {\"xtick.major.size\": 10, \"ytick.major.size\": 0.1})\n",
    "sns.set_theme(style=\"whitegrid\")\n",
    "\n",
    "ax = sns.lineplot(data = sentiment_combined19,\n",
    "                  x = 'Date',\n",
    "                  y = 'Avg daily sentiment',\n",
    "                  hue = 'Article group',\n",
    "                  palette = palette)\n",
    "\n",
    "ax.set_title('Average daily sentiment in NOW dataset: music vs non-music related 2019')\n",
    "\n",
    "for ind, label in enumerate(ax.get_xticklabels()):\n",
    "    if ind % 10 == 0:  # every 15th label is kept\n",
    "        label.set_visible(True)\n",
    "    else:\n",
    "        label.set_visible(False)\n"
   ]
  },
  {
   "cell_type": "markdown",
   "metadata": {},
   "source": [
    "_Notes_\n",
    "\n",
    "Here we see more of a difference in sentiment between the 2 groups: \n",
    "Music mean sentiment: 0.13\n",
    "Non-Music mean sentiment: 0.10 \n",
    "\n",
    "This was shown to be significant, using an independent t-test (t (170)= 9.69,  p < 2.2e-16) \n",
    "\n",
    "Again, the 2 sets of data follow a similar pattern for much of the time throughout 2019."
   ]
  },
  {
   "cell_type": "markdown",
   "metadata": {},
   "source": [
    "## Exploring the difference in sentiments between Music 2019 and Music 2020"
   ]
  },
  {
   "cell_type": "markdown",
   "metadata": {},
   "source": [
    "__Mean Average sentiments:__\n",
    "   \n",
    "Music sentiments: \n",
    "    \n",
    "    2019: 0.13     \n",
    "    \n",
    "    2020: 0.15\n",
    "    \n",
    "__Testing the significance: Paired Samples T-Test__\n",
    "\n",
    "The higher sentiment experienced in 2020 compared to 2019 for music articles is significant )t(88) = -5.49, p = 3.686e-07)\n",
    "\n",
    "\n",
    "__However, is this difference just because sentiment was different between 2019 to 2020?__\n",
    "\n",
    "Non-Music Sentiments; \n",
    "\n",
    "    2019: 0.10\n",
    "    \n",
    "    2020: 0.15\n",
    "    \n",
    "This difference was also found to be significant (t(88) = -10.7, p <.05)"
   ]
  },
  {
   "cell_type": "markdown",
   "metadata": {},
   "source": []
  }
 ],
 "metadata": {
  "kernelspec": {
   "display_name": "lang101",
   "language": "python",
   "name": "lang101"
  },
  "language_info": {
   "codemirror_mode": {
    "name": "ipython",
    "version": 3
   },
   "file_extension": ".py",
   "mimetype": "text/x-python",
   "name": "python",
   "nbconvert_exporter": "python",
   "pygments_lexer": "ipython3",
   "version": "3.6.9"
  }
 },
 "nbformat": 4,
 "nbformat_minor": 2
}
