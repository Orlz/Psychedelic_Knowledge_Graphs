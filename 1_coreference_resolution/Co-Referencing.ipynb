{
 "cells": [
  {
   "cell_type": "markdown",
   "metadata": {},
   "source": [
    "   # Coreferencing the Texts "
   ]
  },
  {
   "cell_type": "markdown",
   "metadata": {},
   "source": [
    "This notebook conducts Step 1 of the IEP, whereby texts are passed through a spacey pipeline with the coreferencing package 'neuralcoref' attached. This detects entities and pronouns, and replaces the pronoun with the entitiy name to which it belongs. A dictionary has been added to help the package deal with common phrases and abbreviations commonly found within the psychedelic texts.  "
   ]
  },
  {
   "cell_type": "markdown",
   "metadata": {},
   "source": [
    "### Dependencies"
   ]
  },
  {
   "cell_type": "code",
   "execution_count": 1,
   "metadata": {},
   "outputs": [],
   "source": [
    "# --- basic imports ---\n",
    "import spacy\n",
    "import neuralcoref\n",
    "import pandas as pd"
   ]
  },
  {
   "cell_type": "code",
   "execution_count": 2,
   "metadata": {},
   "outputs": [],
   "source": [
    "# --- Create a conversion dictionary ---\n",
    "#Key is the word found in the text, the value is what it should be replaced with \n",
    "conv_dict = {'drug': ['psychedelic'],\n",
    "             'AYA': ['ayahuasca'],\n",
    "             'treatment-resistant depression': ['depression'],\n",
    "             'treatment resistant depression': ['depression'],\n",
    "             'major depressive disorder': ['depression'],\n",
    "             'MDD': ['depression'],\n",
    "             'Default mode network': ['DMN'],\n",
    "             'psychedelic microdosing': ['microdosing'],\n",
    "             'microdosing psychedelics': ['microdosing']}"
   ]
  },
  {
   "cell_type": "code",
   "execution_count": 3,
   "metadata": {},
   "outputs": [
    {
     "data": {
      "text/plain": [
       "<spacy.lang.en.English at 0x7f193d7f1978>"
      ]
     },
     "execution_count": 3,
     "metadata": {},
     "output_type": "execute_result"
    }
   ],
   "source": [
    "# --- setup the pipeline --- \n",
    "nlp = spacy.load('en_core_web_sm') # spacy pipeline \n",
    "neuralcoref.add_to_pipe(nlp, conv_dict=conv_dict)"
   ]
  },
  {
   "cell_type": "markdown",
   "metadata": {},
   "source": [
    "### Import the data "
   ]
  },
  {
   "cell_type": "code",
   "execution_count": 4,
   "metadata": {},
   "outputs": [],
   "source": [
    "data_path = '../data/text_data/'"
   ]
  },
  {
   "cell_type": "code",
   "execution_count": 5,
   "metadata": {},
   "outputs": [],
   "source": [
    "#full cohort of data \n",
    "full_texts = pd.read_csv(data_path + \"Final_cohort_texts.csv\", index_col=0)"
   ]
  },
  {
   "cell_type": "markdown",
   "metadata": {},
   "source": [
    "### Inspect the coreferencer "
   ]
  },
  {
   "cell_type": "code",
   "execution_count": 6,
   "metadata": {},
   "outputs": [
    {
     "data": {
      "text/plain": [
       "\"The fMRI studies reported here revealed significant and consistent outcomes. Psilocybin significantly decreased brain blood flow and venous oxygenation in a manner that correlated with its subjective effects, and significantly decreased the positive coupling of two key structural hubs (the mPFC and the PCC). Our use of fMRI to measure resting-state brain activity after a psychedelic is unique, and because the results are unexpected, they require some explanation. The effect of psilocybin on resting-state brain activity has been measured before with PET and glucose metabolism (8). This study found a global increase in glucose metabolism after oral psilocybin, which is inconsistent with our fMRI results. One possible explanation for this discrepancy relates to the fact that the radiotracer used to measure glucose metabolism (18F-fluorodeoxyglucose) has a long half-life (110 min). Thus, the effects of psilocybin, as measured by PET, are over much greater timescales than indexed by our fMRI measures. It is therefore possible that phasic or short-term effects of psilocybin show some rebound that is detected by longer-term changes in glucose metabolism. More direct measures of neural activity will help inform this hypothesis, but in support of the inference that psilocybin does decrease neural activity, direct recordings of cortical local field potentials (LFPs) in rats found broadband decreases in resting state LFP power after psilocybin infusion—including γ-power (9)—changes in which are known to correlate with changes in the BOLD signal (10). It has been commonly assumed that psychedelics work by increasing neural activity; however, our results put this into question. Psilocin is a mixed serotonin receptor agonist, but there is a general consensus that the characteristic subjective and behavioral effects of psychedelics are initiated via stimulation of serotonin (5-Hydroxytryptamine, 5-HT) 2A receptors (11). It is possible that the deactivations observed in the present studies were caused by stimulation of 5-HT receptors other than 5-HT2A; however, this seems unlikely given that the affinity of psychedelics for the 5-HT2A receptor correlates with their potency (12) and 5-HT2A antagonists block the subjective effects of psychedelics (13). There is a large body of preclinical evidence that stimulation of 5-HT2A receptors increases GABAergic transmission and pyramidal cell inhibition (14–21), which may explain the deactivations observed here (Figs. 2 and 4). fMRI studies with serotonergic compounds that stimulate other 5-HT receptors, such as the 5-HT2C (22) or (mainly) the 5-HT1A receptor (23), have not found comparable results to those shown here, and 5-HT2A receptors are present in high concentrations in the cortical regions that were significantly deactivated and decoupled after psilocybin (Table S2). Stimulation of the 5-HT2A receptor increases excitation in the host cell by reducing outward potassium currents (24). Thus, if the 5-HT2A receptor did mediate the observed deactivations, then it may have been via 5-HT2A-induced excitation of fast-spiking interneurons terminating on pyramidal cells (e.g., ref. 24) or 5-HT2A-induced excitation of pyramidal cells projecting onto interneurons (25). Regardless of how these effects were initiated at the receptor level, it is necessary for us to offer a functional explanation for them. It is noteworthy that the regions which showed the most consistent deactivations after psilocybin (e.g., the PCC and mPFC) are also those that show disproportionately high activity under normal conditions (26). For example, metabolism in the PCC is ∼20% higher than most other brain regions (27), yet psilocybin decreased its blood flow by up to 20% in some subjects. There is some mystery about the function of the PCC; its large size, buffered location, and rich vasculature means that it is well protected from damage. The high metabolic activity of the PCC and the default-mode network (DMN) with which is it associated (26) has led some to speculate about its functional importance, positing a role in consciousness (28) and high-level constructs, such as the self (29) or “ego” (30, 31). Indeed, the DMN is known to be activated during self-referencing (28) and other high-level functions linked to the self-construct (27). Moreover, DMN regions are also known to host the highest number of cortico-cortical connections in the brain, making them important “connector hubs” (32). These hubs may be critical for efficient information transfer in the brain by allowing communication between different regions via the fewest number of connections (33). However, such an integrative function would confer a significant responsibility on these regions, which may explain why their deactivation has such a profound effect on consciousness, as shown here. These results may have implications beyond explaining how psilocybin works in the brain by implying that the DMN is crucial for the maintenance of cognitive integration and constraint under normal conditions. This finding is consistent with Aldous Huxley's “reducing valve” metaphor (34) and Karl Friston's “free-energy principle” (35), which propose that the mind/brain works to constrain its experience of the world. The pharmaco-physiological interaction results were particularly intriguing, revealing significant decreases in the positive coupling between the PCC and mPFC after psilocybin. This result can be understood in terms of a regression of PCC activity on mPFC activity, in which the regression slope decreases. This finding can either be interpreted as a decrease in the (backward or top-down) connectivity from prefrontal to parietal regions or, equivalently, an increase in the reciprocal (forward or bottom-up) direction from parietal to prefrontal regions. This asymmetrical change in coupling, induced by psilocybin, is consistent with a reduction in the sensitivity of superficial pyramidal cells in the parietal region targeted by prefrontal afferents, which may or may not be associated with a compensatory increase in the influence of parietal regions on prefrontal activity. Whatever the underlying synaptic mechanisms, these results provide clear evidence for a perturbation in reciprocal coupling between these two association areas and speak to a rebalancing of hierarchical activity in distributed high-level modes. Finally, consistent with their history of use as adjuncts to psychotherapy, the idea has recently re-emerged that psychedelics may be useful in the treatment of certain psychiatric disorders (36). It seems relevant therefore that activity in (37) and connectivity with (38) the mPFC is known to be elevated in depression and normalized after effective treatment (39). The mPFC was consistently deactivated by psilocybin (Fig. 4) and the magnitude of the deactivations correlated with the drug's subjective effects (Fig. 3). Depression has been characterized as an “overstable” state, in which cognition is rigidly pessimistic (39). Trait pessimism has been linked to deficient 5-HT2A receptor stimulation (40, 41), particularly in the mPFC (40), and mPFC hyperactivity has been linked to pathological brooding (42). Recent work has shown that psilocybin can increase subjective well-being (4) and trait openness (43) several months after an acute experience, and depression scores in terminal cancer patients were significantly decreased 6 mo after treatment with psilocybin (2). Our results suggest a biological mechanism for this: decreased mPFC activity via 5-HT2A receptor stimulation. Further work is required to test this hypothesis and the putative utility of psilocybin in depression We also observed decreased CBF in the hypothalamus after psilocybin (Fig. 2), which may explain anecdotal reports that psychedelics reduce symptoms of cluster headaches (44). Increased hypothalamic CBF was observed during acute headache in cluster headache sufferers (45) and inhibition of the hypothalamus via direct electrical stimulation can provide therapeutic relief for this condition. To conclude, here we used an advanced and comprehensive fMRI protocol to image the brain effects of psilocybin. These studies offer the most detailed account to date on how the psychedelic state is produced in the brain. The results suggest decreased activity and connectivity in the brain's connector hubs, permitting an unconstrained style of cognition.\""
      ]
     },
     "execution_count": 6,
     "metadata": {},
     "output_type": "execute_result"
    }
   ],
   "source": [
    "# We'll split away one text to inspect how the coreferencer works \n",
    "one_article = full_texts['Discussion']\n",
    "one_article = one_article[5]\n",
    "one_article"
   ]
  },
  {
   "cell_type": "code",
   "execution_count": 7,
   "metadata": {},
   "outputs": [],
   "source": [
    "# Run the article through the pipeline \n",
    "article_nlp = nlp(one_article)"
   ]
  },
  {
   "cell_type": "code",
   "execution_count": 8,
   "metadata": {},
   "outputs": [
    {
     "data": {
      "text/plain": [
       "True"
      ]
     },
     "execution_count": 8,
     "metadata": {},
     "output_type": "execute_result"
    }
   ],
   "source": [
    "#Check if there was anything resolved - if True, it means something has been resolved \n",
    "article_nlp._.has_coref"
   ]
  },
  {
   "cell_type": "code",
   "execution_count": 9,
   "metadata": {},
   "outputs": [
    {
     "data": {
      "text/plain": [
       "[The fMRI studies reported here: [The fMRI studies reported here, This study],\n",
       " venous oxygenation: [venous oxygenation, its],\n",
       " the results: [the results, they],\n",
       " the 5-HT2A receptor: [the 5-HT2A receptor, their],\n",
       " the 5-HT2A receptor: [the 5-HT2A receptor, the 5-HT2A receptor, it],\n",
       " these effects: [these effects, them],\n",
       " the PCC: [the PCC, its, the PCC, its, it, the PCC],\n",
       " The high metabolic activity of the PCC and the default-mode network (DMN) with which is it associated (26): [The high metabolic activity of the PCC and the default-mode network (DMN) with which is it associated (26), its],\n",
       " the DMN: [the DMN, the DMN],\n",
       " DMN regions: [DMN regions, them],\n",
       " “connector hubs” (32): [“connector hubs” (32), These hubs],\n",
       " the brain: [the brain, the brain],\n",
       " such an integrative function: [such an integrative function, their],\n",
       " The pharmaco-physiological interaction results: [The pharmaco-physiological interaction results, these results],\n",
       " the mPFC: [the mPFC, The mPFC, the mPFC],\n",
       " Our results: [Our results, The results],\n",
       " decreased CBF: [decreased CBF, Increased hypothalamic CBF, CBF],\n",
       " the hypothalamus: [the hypothalamus, the hypothalamus],\n",
       " the brain: [the brain, the brain]]"
      ]
     },
     "execution_count": 9,
     "metadata": {},
     "output_type": "execute_result"
    }
   ],
   "source": [
    "# Inspect the clusters found \n",
    "article_nlp._.coref_clusters"
   ]
  },
  {
   "cell_type": "markdown",
   "metadata": {},
   "source": [
    "_This looks promising, the coreferencer is able to simplify some of the references, even the scientific terms. It isn't perfect, as the model is trained to detect more entities such as people with 'he' and 'she', but it still improves parts of the text which should help when extracting info_"
   ]
  },
  {
   "cell_type": "code",
   "execution_count": 10,
   "metadata": {},
   "outputs": [
    {
     "name": "stdout",
     "output_type": "stream",
     "text": [
      "The fMRI studies reported here\n",
      "0\n",
      "5\n",
      "This study\n",
      "100\n",
      "102\n",
      "venous oxygenation\n",
      "18\n",
      "20\n",
      "its\n",
      "26\n",
      "27\n",
      "the results\n",
      "68\n",
      "70\n",
      "they\n",
      "73\n",
      "74\n",
      "the 5-HT2A receptor\n",
      "374\n",
      "377\n",
      "their\n",
      "379\n",
      "380\n",
      "the 5-HT2A receptor\n",
      "502\n",
      "505\n",
      "the 5-HT2A receptor\n",
      "523\n",
      "526\n",
      "it\n",
      "533\n",
      "534\n",
      "these effects\n",
      "576\n",
      "578\n",
      "them\n",
      "596\n",
      "597\n",
      "the PCC\n",
      "640\n",
      "642\n",
      "its\n",
      "658\n",
      "659\n",
      "the PCC\n",
      "678\n",
      "680\n",
      "its\n",
      "681\n",
      "682\n",
      "it\n",
      "693\n",
      "694\n",
      "the PCC\n",
      "705\n",
      "707\n",
      "The high metabolic activity of the PCC and the default-mode network (DMN) with which is it associated (26)\n",
      "700\n",
      "724\n",
      "its\n",
      "730\n",
      "731\n",
      "the DMN\n",
      "767\n",
      "769\n",
      "the DMN\n",
      "906\n",
      "908\n",
      "DMN regions\n",
      "799\n",
      "801\n",
      "them\n",
      "819\n",
      "820\n",
      "“connector hubs” (32)\n",
      "821\n",
      "828\n",
      "These hubs\n",
      "829\n",
      "831\n",
      "the brain\n",
      "839\n",
      "841\n",
      "the brain\n",
      "901\n",
      "903\n",
      "such an integrative function\n",
      "859\n",
      "863\n",
      "their\n",
      "876\n",
      "877\n",
      "The pharmaco-physiological interaction results\n",
      "968\n",
      "974\n",
      "these results\n",
      "1122\n",
      "1124\n",
      "the mPFC\n",
      "1205\n",
      "1207\n",
      "The mPFC\n",
      "1223\n",
      "1225\n",
      "the mPFC\n",
      "1293\n",
      "1295\n",
      "Our results\n",
      "1360\n",
      "1362\n",
      "The results\n",
      "1497\n",
      "1499\n",
      "decreased CBF\n",
      "1396\n",
      "1398\n",
      "Increased hypothalamic CBF\n",
      "1425\n",
      "1428\n",
      "CBF\n",
      "1427\n",
      "1428\n",
      "the hypothalamus\n",
      "1399\n",
      "1401\n",
      "the hypothalamus\n",
      "1443\n",
      "1445\n",
      "the brain\n",
      "1494\n",
      "1496\n",
      "the brain\n",
      "1505\n",
      "1507\n"
     ]
    }
   ],
   "source": [
    "# We can also inspect the indice locations of the corrected parts \n",
    "for cluster in article_nlp._.coref_clusters:\n",
    "    for reference in cluster:\n",
    "    #each of these is a Span object in Spacy\n",
    "        print(reference)\n",
    "        #starting index of this reference in the text\n",
    "        print(reference.start) \n",
    "        #ending index of this reference in the text\n",
    "        print(reference.end)"
   ]
  },
  {
   "cell_type": "markdown",
   "metadata": {},
   "source": [
    "### Function to conduct coreferencing"
   ]
  },
  {
   "cell_type": "code",
   "execution_count": 12,
   "metadata": {},
   "outputs": [],
   "source": [
    "def coref_resolution(text):\n",
    "    #Make a spacy object of each sentence \n",
    "    doc = nlp(text)\n",
    "    #Print whether a coreference has been found or not (True or False)\n",
    "    print(doc._.has_coref)\n",
    "    #Print the coreferences found \n",
    "    #print(doc._.coref_clusters)\n",
    "    # fetch the tokens with whitespaces from spacy document\n",
    "    tok_list = list(token.text_with_ws for token in doc)\n",
    "    #Loop through each cluster found \n",
    "    for cluster in doc._.coref_clusters:\n",
    "        # get tokens from representative cluster name\n",
    "        cluster_main_words = set(cluster.main.text.split(' '))\n",
    "        #for every reference in the cluster \n",
    "        for coref in cluster:\n",
    "            #check to see if it is the main reference \n",
    "            if coref != cluster.main:\n",
    "                #If it's not, then replace the coref with the main key reference \n",
    "                if coref.text != cluster.main.text and bool(set(coref.text.split(' ')).intersection(cluster_main_words)) == False:\n",
    "                    tok_list[coref.start] = cluster.main.text + \\\n",
    "                    doc[coref.end-1].whitespace_\n",
    "                    for i in range(coref.start+1, coref.end):\n",
    "                        tok_list[i] = \"\"\n",
    "    #Join the tokens back into one sentence \n",
    "    tok_list =\"\".join(tok_list)\n",
    "                       \n",
    "    return tok_list\n"
   ]
  },
  {
   "cell_type": "markdown",
   "metadata": {},
   "source": [
    "## Apply the Coreferencer through the Discussion Column   "
   ]
  },
  {
   "cell_type": "code",
   "execution_count": 13,
   "metadata": {},
   "outputs": [
    {
     "name": "stdout",
     "output_type": "stream",
     "text": [
      "True\n",
      "True\n",
      "True\n",
      "True\n",
      "True\n",
      "True\n",
      "True\n",
      "True\n",
      "True\n",
      "True\n",
      "True\n",
      "True\n",
      "True\n",
      "True\n",
      "True\n",
      "True\n",
      "True\n",
      "True\n",
      "True\n",
      "True\n",
      "True\n",
      "True\n",
      "True\n",
      "True\n",
      "True\n",
      "True\n",
      "True\n",
      "True\n",
      "True\n",
      "True\n",
      "True\n",
      "True\n",
      "True\n",
      "True\n",
      "True\n",
      "True\n",
      "True\n",
      "True\n",
      "True\n",
      "True\n",
      "True\n",
      "True\n",
      "True\n",
      "True\n",
      "True\n",
      "True\n",
      "True\n",
      "True\n",
      "True\n",
      "True\n",
      "True\n",
      "True\n",
      "True\n",
      "True\n",
      "True\n",
      "True\n",
      "True\n",
      "True\n",
      "True\n",
      "True\n",
      "True\n",
      "True\n",
      "True\n",
      "True\n",
      "True\n",
      "True\n",
      "True\n",
      "True\n",
      "True\n",
      "True\n",
      "True\n",
      "True\n",
      "True\n",
      "True\n",
      "True\n",
      "True\n",
      "True\n",
      "True\n",
      "True\n",
      "True\n",
      "True\n",
      "True\n",
      "True\n",
      "True\n"
     ]
    }
   ],
   "source": [
    "coreferenced_text = []\n",
    "\n",
    "for article in full_texts['Discussion']:\n",
    "    coreferenced_article = coref_resolution(article)\n",
    "    coreferenced_text.append(coreferenced_article)"
   ]
  },
  {
   "cell_type": "code",
   "execution_count": 17,
   "metadata": {},
   "outputs": [
    {
     "data": {
      "text/plain": [
       "list"
      ]
     },
     "execution_count": 17,
     "metadata": {},
     "output_type": "execute_result"
    }
   ],
   "source": [
    "# --- Check type of the column --- \n",
    "type(coreferenced_text)"
   ]
  },
  {
   "cell_type": "markdown",
   "metadata": {},
   "source": [
    "#### Append the resolved column onto the text "
   ]
  },
  {
   "cell_type": "code",
   "execution_count": 18,
   "metadata": {},
   "outputs": [
    {
     "data": {
      "text/html": [
       "<div>\n",
       "<style scoped>\n",
       "    .dataframe tbody tr th:only-of-type {\n",
       "        vertical-align: middle;\n",
       "    }\n",
       "\n",
       "    .dataframe tbody tr th {\n",
       "        vertical-align: top;\n",
       "    }\n",
       "\n",
       "    .dataframe thead th {\n",
       "        text-align: right;\n",
       "    }\n",
       "</style>\n",
       "<table border=\"1\" class=\"dataframe\">\n",
       "  <thead>\n",
       "    <tr style=\"text-align: right;\">\n",
       "      <th></th>\n",
       "      <th>DOI</th>\n",
       "      <th>Discussion</th>\n",
       "      <th>Conclusions</th>\n",
       "      <th>Coreferenced_Discussion</th>\n",
       "    </tr>\n",
       "    <tr>\n",
       "      <th>Rank</th>\n",
       "      <th></th>\n",
       "      <th></th>\n",
       "      <th></th>\n",
       "      <th></th>\n",
       "    </tr>\n",
       "  </thead>\n",
       "  <tbody>\n",
       "    <tr>\n",
       "      <th>1</th>\n",
       "      <td>10.1177/0269881116675513</td>\n",
       "      <td>The present study demonstrated the efficacy of...</td>\n",
       "      <td>When administered under psychologically suppor...</td>\n",
       "      <td>The present study demonstrated the efficacy of...</td>\n",
       "    </tr>\n",
       "    <tr>\n",
       "      <th>2</th>\n",
       "      <td>10.1001/archgenpsychiatry.2010.116</td>\n",
       "      <td>The initial goals of this research project wer...</td>\n",
       "      <td>NaN</td>\n",
       "      <td>The initial goals of this research project wer...</td>\n",
       "    </tr>\n",
       "    <tr>\n",
       "      <th>3</th>\n",
       "      <td>10.1124/pr.115.011478</td>\n",
       "      <td>Dr. Albert Hofmann, the natural products chemi...</td>\n",
       "      <td>NaN</td>\n",
       "      <td>Dr. Albert Hofmann, the natural products chemi...</td>\n",
       "    </tr>\n",
       "  </tbody>\n",
       "</table>\n",
       "</div>"
      ],
      "text/plain": [
       "                                     DOI  \\\n",
       "Rank                                       \n",
       "1               10.1177/0269881116675513   \n",
       "2     10.1001/archgenpsychiatry.2010.116   \n",
       "3                  10.1124/pr.115.011478   \n",
       "\n",
       "                                             Discussion  \\\n",
       "Rank                                                      \n",
       "1     The present study demonstrated the efficacy of...   \n",
       "2     The initial goals of this research project wer...   \n",
       "3     Dr. Albert Hofmann, the natural products chemi...   \n",
       "\n",
       "                                            Conclusions  \\\n",
       "Rank                                                      \n",
       "1     When administered under psychologically suppor...   \n",
       "2                                                   NaN   \n",
       "3                                                   NaN   \n",
       "\n",
       "                                Coreferenced_Discussion  \n",
       "Rank                                                     \n",
       "1     The present study demonstrated the efficacy of...  \n",
       "2     The initial goals of this research project wer...  \n",
       "3     Dr. Albert Hofmann, the natural products chemi...  "
      ]
     },
     "execution_count": 18,
     "metadata": {},
     "output_type": "execute_result"
    }
   ],
   "source": [
    "full_texts['Coreferenced_Discussion'] = coreferenced_text\n",
    "full_texts[:3]"
   ]
  },
  {
   "cell_type": "markdown",
   "metadata": {},
   "source": [
    "## Coreference the Conclusions column "
   ]
  },
  {
   "cell_type": "markdown",
   "metadata": {},
   "source": [
    "#### Convert Conclusions column to string "
   ]
  },
  {
   "cell_type": "code",
   "execution_count": 19,
   "metadata": {},
   "outputs": [
    {
     "name": "stdout",
     "output_type": "stream",
     "text": [
      "DOI                        object\n",
      "Discussion                 object\n",
      "Conclusions                object\n",
      "Coreferenced_Discussion    object\n",
      "dtype: object\n"
     ]
    }
   ],
   "source": [
    "full_texts['Conclusions'] = full_texts['Conclusions'].astype(str)\n",
    "print(full_texts.dtypes)"
   ]
  },
  {
   "cell_type": "code",
   "execution_count": 20,
   "metadata": {},
   "outputs": [
    {
     "name": "stdout",
     "output_type": "stream",
     "text": [
      "False\n",
      "False\n",
      "False\n",
      "False\n",
      "False\n",
      "True\n",
      "True\n",
      "False\n",
      "True\n",
      "False\n",
      "False\n",
      "False\n",
      "False\n",
      "False\n",
      "False\n",
      "True\n",
      "False\n",
      "False\n",
      "True\n",
      "False\n",
      "False\n",
      "False\n",
      "False\n",
      "True\n",
      "False\n",
      "False\n",
      "True\n",
      "False\n",
      "False\n",
      "True\n",
      "True\n",
      "False\n",
      "False\n",
      "False\n",
      "False\n",
      "False\n",
      "False\n",
      "False\n",
      "False\n",
      "False\n",
      "False\n",
      "False\n",
      "True\n",
      "True\n",
      "False\n",
      "False\n",
      "True\n",
      "False\n",
      "False\n",
      "False\n",
      "False\n",
      "True\n",
      "True\n",
      "True\n",
      "False\n",
      "True\n",
      "False\n",
      "False\n",
      "False\n",
      "False\n",
      "True\n",
      "False\n",
      "True\n",
      "False\n",
      "True\n",
      "True\n",
      "True\n",
      "False\n",
      "False\n",
      "False\n",
      "True\n",
      "False\n",
      "False\n",
      "False\n",
      "True\n",
      "True\n",
      "False\n",
      "False\n",
      "False\n",
      "True\n",
      "False\n",
      "False\n",
      "False\n",
      "True\n"
     ]
    }
   ],
   "source": [
    "coreferenced_conclusions = []\n",
    "\n",
    "for article in full_texts['Conclusions']:\n",
    "    coreferenced_article = coref_resolution(article)\n",
    "    coreferenced_conclusions.append(coreferenced_article)"
   ]
  },
  {
   "cell_type": "markdown",
   "metadata": {},
   "source": [
    "_We can see that not all the conclusions contained pronons which have been replaced, which may not be surprising as they are much shorter_"
   ]
  },
  {
   "cell_type": "code",
   "execution_count": null,
   "metadata": {},
   "outputs": [],
   "source": [
    "coreferenced_conclusions = []\n",
    "\n",
    "for article in full_texts['Conclusions']:\n",
    "    doc = nlp(article)\n",
    "    #Check if there was anything resolved\n",
    "    print(doc._.has_coref)\n",
    "    #resolve the text within the document \n",
    "    resolved_doc = doc._.coref_resolved\n",
    "    #Save it to the coreferenced text \n",
    "    coreferenced_conclusions.append(resolved_doc)"
   ]
  },
  {
   "cell_type": "code",
   "execution_count": 21,
   "metadata": {},
   "outputs": [
    {
     "data": {
      "text/plain": [
       "84"
      ]
     },
     "execution_count": 21,
     "metadata": {},
     "output_type": "execute_result"
    }
   ],
   "source": [
    "# -- check the length ---\n",
    "len(coreferenced_conclusions)"
   ]
  },
  {
   "cell_type": "code",
   "execution_count": 23,
   "metadata": {},
   "outputs": [
    {
     "data": {
      "text/html": [
       "<div>\n",
       "<style scoped>\n",
       "    .dataframe tbody tr th:only-of-type {\n",
       "        vertical-align: middle;\n",
       "    }\n",
       "\n",
       "    .dataframe tbody tr th {\n",
       "        vertical-align: top;\n",
       "    }\n",
       "\n",
       "    .dataframe thead th {\n",
       "        text-align: right;\n",
       "    }\n",
       "</style>\n",
       "<table border=\"1\" class=\"dataframe\">\n",
       "  <thead>\n",
       "    <tr style=\"text-align: right;\">\n",
       "      <th></th>\n",
       "      <th>DOI</th>\n",
       "      <th>Discussion</th>\n",
       "      <th>Conclusions</th>\n",
       "      <th>Coreferenced_Discussion</th>\n",
       "      <th>Coreferenced_Conclusions</th>\n",
       "    </tr>\n",
       "    <tr>\n",
       "      <th>Rank</th>\n",
       "      <th></th>\n",
       "      <th></th>\n",
       "      <th></th>\n",
       "      <th></th>\n",
       "      <th></th>\n",
       "    </tr>\n",
       "  </thead>\n",
       "  <tbody>\n",
       "    <tr>\n",
       "      <th>1</th>\n",
       "      <td>10.1177/0269881116675513</td>\n",
       "      <td>The present study demonstrated the efficacy of...</td>\n",
       "      <td>When administered under psychologically suppor...</td>\n",
       "      <td>The present study demonstrated the efficacy of...</td>\n",
       "      <td>When administered under psychologically suppor...</td>\n",
       "    </tr>\n",
       "    <tr>\n",
       "      <th>2</th>\n",
       "      <td>10.1001/archgenpsychiatry.2010.116</td>\n",
       "      <td>The initial goals of this research project wer...</td>\n",
       "      <td>nan</td>\n",
       "      <td>The initial goals of this research project wer...</td>\n",
       "      <td>nan</td>\n",
       "    </tr>\n",
       "    <tr>\n",
       "      <th>3</th>\n",
       "      <td>10.1124/pr.115.011478</td>\n",
       "      <td>Dr. Albert Hofmann, the natural products chemi...</td>\n",
       "      <td>nan</td>\n",
       "      <td>Dr. Albert Hofmann, the natural products chemi...</td>\n",
       "      <td>nan</td>\n",
       "    </tr>\n",
       "  </tbody>\n",
       "</table>\n",
       "</div>"
      ],
      "text/plain": [
       "                                     DOI  \\\n",
       "Rank                                       \n",
       "1               10.1177/0269881116675513   \n",
       "2     10.1001/archgenpsychiatry.2010.116   \n",
       "3                  10.1124/pr.115.011478   \n",
       "\n",
       "                                             Discussion  \\\n",
       "Rank                                                      \n",
       "1     The present study demonstrated the efficacy of...   \n",
       "2     The initial goals of this research project wer...   \n",
       "3     Dr. Albert Hofmann, the natural products chemi...   \n",
       "\n",
       "                                            Conclusions  \\\n",
       "Rank                                                      \n",
       "1     When administered under psychologically suppor...   \n",
       "2                                                   nan   \n",
       "3                                                   nan   \n",
       "\n",
       "                                Coreferenced_Discussion  \\\n",
       "Rank                                                      \n",
       "1     The present study demonstrated the efficacy of...   \n",
       "2     The initial goals of this research project wer...   \n",
       "3     Dr. Albert Hofmann, the natural products chemi...   \n",
       "\n",
       "                               Coreferenced_Conclusions  \n",
       "Rank                                                     \n",
       "1     When administered under psychologically suppor...  \n",
       "2                                                   nan  \n",
       "3                                                   nan  "
      ]
     },
     "execution_count": 23,
     "metadata": {},
     "output_type": "execute_result"
    }
   ],
   "source": [
    "full_texts['Coreferenced_Conclusions'] = coreferenced_conclusions\n",
    "full_texts[:3]"
   ]
  },
  {
   "cell_type": "markdown",
   "metadata": {},
   "source": [
    "## Export the Cleaned data "
   ]
  },
  {
   "cell_type": "code",
   "execution_count": 26,
   "metadata": {},
   "outputs": [],
   "source": [
    "full_texts.to_csv('../data/text_data/coreferenced_full_texts.csv', index=False)"
   ]
  }
 ],
 "metadata": {
  "kernelspec": {
   "display_name": "Psychedelic_KG",
   "language": "python",
   "name": "psychedelic_kg"
  },
  "language_info": {
   "codemirror_mode": {
    "name": "ipython",
    "version": 3
   },
   "file_extension": ".py",
   "mimetype": "text/x-python",
   "name": "python",
   "nbconvert_exporter": "python",
   "pygments_lexer": "ipython3",
   "version": "3.6.9"
  }
 },
 "nbformat": 4,
 "nbformat_minor": 4
}
