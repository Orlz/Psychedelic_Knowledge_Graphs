{
 "cells": [
  {
   "cell_type": "markdown",
   "metadata": {
    "id": "BFu-bzI_WSPc"
   },
   "source": [
    "# Fine Tuning a SciBERT for Named Entitiy Extraction "
   ]
  },
  {
   "cell_type": "markdown",
   "metadata": {},
   "source": [
    "This notebook has been converted from Google Colabs and would need to be run from Colabs with the GPU enabled. Instructions on how to do this can be found in the markdown. The models full directory and files can be found in the attached Google Drive found here: https://drive.google.com/drive/folders/1R_9Z34b96PVv_xqsbuAj3iZYh6ASRZDJ?usp=sharing\n",
    "\n",
    "___The script below walks through the following steps taken to traing the BERT models:___\n",
    "- download the dependencies\n",
    "- convert the annotated data into binary spacy files\n",
    "- activate parallel processing in the GPU (which enables faster computations) \n",
    "- download the Spacy library, pytorch, and transformer model (here showing SciBERT) \n",
    "- train the model using the annotated discussions as training data and annotated conclusions as test \n",
    "- evaluate the model on an unseen abstract from a psychedelic research paper "
   ]
  },
  {
   "cell_type": "markdown",
   "metadata": {},
   "source": [
    "### Dependencies: Install Spacy"
   ]
  },
  {
   "cell_type": "code",
   "execution_count": 45,
   "metadata": {
    "colab": {
     "base_uri": "https://localhost:8080/"
    },
    "executionInfo": {
     "elapsed": 5334,
     "status": "ok",
     "timestamp": 1641133773434,
     "user": {
      "displayName": "Orla Mallon",
      "photoUrl": "https://lh3.googleusercontent.com/a/default-user=s64",
      "userId": "00844196707470386297"
     },
     "user_tz": -60
    },
    "id": "KHHWUob5SesJ",
    "outputId": "0c558512-0513-4c90-9327-f7e52219ff48"
   },
   "outputs": [
    {
     "name": "stdout",
     "output_type": "stream",
     "text": [
      "Requirement already satisfied: spacy in /usr/local/lib/python3.7/dist-packages (3.2.1)\n",
      "Requirement already satisfied: thinc<8.1.0,>=8.0.12 in /usr/local/lib/python3.7/dist-packages (from spacy) (8.0.13)\n",
      "Requirement already satisfied: wasabi<1.1.0,>=0.8.1 in /usr/local/lib/python3.7/dist-packages (from spacy) (0.8.2)\n",
      "Requirement already satisfied: typing-extensions<4.0.0.0,>=3.7.4 in /usr/local/lib/python3.7/dist-packages (from spacy) (3.10.0.2)\n",
      "Requirement already satisfied: spacy-loggers<2.0.0,>=1.0.0 in /usr/local/lib/python3.7/dist-packages (from spacy) (1.0.1)\n",
      "Requirement already satisfied: cymem<2.1.0,>=2.0.2 in /usr/local/lib/python3.7/dist-packages (from spacy) (2.0.6)\n",
      "Requirement already satisfied: packaging>=20.0 in /usr/local/lib/python3.7/dist-packages (from spacy) (21.3)\n",
      "Requirement already satisfied: blis<0.8.0,>=0.4.0 in /usr/local/lib/python3.7/dist-packages (from spacy) (0.4.1)\n",
      "Requirement already satisfied: langcodes<4.0.0,>=3.2.0 in /usr/local/lib/python3.7/dist-packages (from spacy) (3.3.0)\n",
      "Requirement already satisfied: requests<3.0.0,>=2.13.0 in /usr/local/lib/python3.7/dist-packages (from spacy) (2.23.0)\n",
      "Requirement already satisfied: numpy>=1.15.0 in /usr/local/lib/python3.7/dist-packages (from spacy) (1.19.5)\n",
      "Requirement already satisfied: pydantic!=1.8,!=1.8.1,<1.9.0,>=1.7.4 in /usr/local/lib/python3.7/dist-packages (from spacy) (1.8.2)\n",
      "Requirement already satisfied: typer<0.5.0,>=0.3.0 in /usr/local/lib/python3.7/dist-packages (from spacy) (0.4.0)\n",
      "Requirement already satisfied: pathy>=0.3.5 in /usr/local/lib/python3.7/dist-packages (from spacy) (0.6.1)\n",
      "Requirement already satisfied: murmurhash<1.1.0,>=0.28.0 in /usr/local/lib/python3.7/dist-packages (from spacy) (1.0.6)\n",
      "Requirement already satisfied: preshed<3.1.0,>=3.0.2 in /usr/local/lib/python3.7/dist-packages (from spacy) (3.0.6)\n",
      "Requirement already satisfied: spacy-legacy<3.1.0,>=3.0.8 in /usr/local/lib/python3.7/dist-packages (from spacy) (3.0.8)\n",
      "Requirement already satisfied: jinja2 in /usr/local/lib/python3.7/dist-packages (from spacy) (2.11.3)\n",
      "Requirement already satisfied: tqdm<5.0.0,>=4.38.0 in /usr/local/lib/python3.7/dist-packages (from spacy) (4.62.3)\n",
      "Requirement already satisfied: catalogue<2.1.0,>=2.0.6 in /usr/local/lib/python3.7/dist-packages (from spacy) (2.0.6)\n",
      "Requirement already satisfied: srsly<3.0.0,>=2.4.1 in /usr/local/lib/python3.7/dist-packages (from spacy) (2.4.2)\n",
      "Requirement already satisfied: setuptools in /usr/local/lib/python3.7/dist-packages (from spacy) (57.4.0)\n",
      "Requirement already satisfied: zipp>=0.5 in /usr/local/lib/python3.7/dist-packages (from catalogue<2.1.0,>=2.0.6->spacy) (3.6.0)\n",
      "Requirement already satisfied: pyparsing!=3.0.5,>=2.0.2 in /usr/local/lib/python3.7/dist-packages (from packaging>=20.0->spacy) (3.0.6)\n",
      "Requirement already satisfied: smart-open<6.0.0,>=5.0.0 in /usr/local/lib/python3.7/dist-packages (from pathy>=0.3.5->spacy) (5.2.1)\n",
      "Requirement already satisfied: idna<3,>=2.5 in /usr/local/lib/python3.7/dist-packages (from requests<3.0.0,>=2.13.0->spacy) (2.10)\n",
      "Requirement already satisfied: chardet<4,>=3.0.2 in /usr/local/lib/python3.7/dist-packages (from requests<3.0.0,>=2.13.0->spacy) (3.0.4)\n",
      "Requirement already satisfied: urllib3!=1.25.0,!=1.25.1,<1.26,>=1.21.1 in /usr/local/lib/python3.7/dist-packages (from requests<3.0.0,>=2.13.0->spacy) (1.24.3)\n",
      "Requirement already satisfied: certifi>=2017.4.17 in /usr/local/lib/python3.7/dist-packages (from requests<3.0.0,>=2.13.0->spacy) (2021.10.8)\n",
      "Requirement already satisfied: click<9.0.0,>=7.1.1 in /usr/local/lib/python3.7/dist-packages (from typer<0.5.0,>=0.3.0->spacy) (7.1.2)\n",
      "Requirement already satisfied: MarkupSafe>=0.23 in /usr/local/lib/python3.7/dist-packages (from jinja2->spacy) (2.0.1)\n"
     ]
    }
   ],
   "source": [
    "pip install -U spacy"
   ]
  },
  {
   "cell_type": "code",
   "execution_count": 3,
   "metadata": {
    "colab": {
     "base_uri": "https://localhost:8080/"
    },
    "executionInfo": {
     "elapsed": 8,
     "status": "ok",
     "timestamp": 1641118663498,
     "user": {
      "displayName": "Orla Mallon",
      "photoUrl": "https://lh3.googleusercontent.com/a/default-user=s64",
      "userId": "00844196707470386297"
     },
     "user_tz": -60
    },
    "id": "QeXSAoOWSuQz",
    "outputId": "7e0cfa93-8f06-41d2-c78b-fa3edf9f0a74"
   },
   "outputs": [
    {
     "name": "stdout",
     "output_type": "stream",
     "text": [
      "/content/drive/MyDrive/Psychedelic_KGs\n"
     ]
    }
   ],
   "source": [
    "cd /content/drive/MyDrive/Psychedelic_KGs/"
   ]
  },
  {
   "cell_type": "markdown",
   "metadata": {},
   "source": [
    "### Convert tsv files into json files "
   ]
  },
  {
   "cell_type": "code",
   "execution_count": 30,
   "metadata": {
    "colab": {
     "base_uri": "https://localhost:8080/"
    },
    "executionInfo": {
     "elapsed": 7591,
     "status": "ok",
     "timestamp": 1641122107210,
     "user": {
      "displayName": "Orla Mallon",
      "photoUrl": "https://lh3.googleusercontent.com/a/default-user=s64",
      "userId": "00844196707470386297"
     },
     "user_tz": -60
    },
    "id": "wwJg7fzYTAd1",
    "outputId": "0f922ce8-0db3-4418-ff49-f3cf1cabbdd5"
   },
   "outputs": [
    {
     "name": "stdout",
     "output_type": "stream",
     "text": [
      "\u001b[38;5;4mℹ Auto-detected token-per-line NER format\u001b[0m\n",
      "\u001b[38;5;3m⚠ Document delimiters found, automatic document segmentation with `-n`\n",
      "disabled.\u001b[0m\n",
      "\u001b[38;5;2m✔ Generated output file (1 documents): Data/Discussions.json\u001b[0m\n"
     ]
    }
   ],
   "source": [
    "!python -m spacy convert Data/Discussions.tsv ./Data/ -t json -n 10 -c iob"
   ]
  },
  {
   "cell_type": "code",
   "execution_count": 31,
   "metadata": {
    "colab": {
     "base_uri": "https://localhost:8080/"
    },
    "executionInfo": {
     "elapsed": 6041,
     "status": "ok",
     "timestamp": 1641122113244,
     "user": {
      "displayName": "Orla Mallon",
      "photoUrl": "https://lh3.googleusercontent.com/a/default-user=s64",
      "userId": "00844196707470386297"
     },
     "user_tz": -60
    },
    "id": "f8mOX6fUThw4",
    "outputId": "83f19dd9-da23-472b-e403-f2656cefba72"
   },
   "outputs": [
    {
     "name": "stdout",
     "output_type": "stream",
     "text": [
      "\u001b[38;5;4mℹ Auto-detected token-per-line NER format\u001b[0m\n",
      "\u001b[38;5;3m⚠ Document delimiters found, automatic document segmentation with `-n`\n",
      "disabled.\u001b[0m\n",
      "\u001b[38;5;3m⚠ No sentence boundaries found. Use `-s` to automatically segment\n",
      "sentences.\u001b[0m\n",
      "\u001b[38;5;2m✔ Generated output file (1 documents): Data/Conclusions.json\u001b[0m\n"
     ]
    }
   ],
   "source": [
    "!python -m spacy convert Data/Conclusions.tsv ./Data/ -t json -n 10 -c iob"
   ]
  },
  {
   "cell_type": "markdown",
   "metadata": {},
   "source": [
    "### Convert json files into binary spacy files"
   ]
  },
  {
   "cell_type": "code",
   "execution_count": 32,
   "metadata": {
    "colab": {
     "base_uri": "https://localhost:8080/"
    },
    "executionInfo": {
     "elapsed": 7253,
     "status": "ok",
     "timestamp": 1641122130523,
     "user": {
      "displayName": "Orla Mallon",
      "photoUrl": "https://lh3.googleusercontent.com/a/default-user=s64",
      "userId": "00844196707470386297"
     },
     "user_tz": -60
    },
    "id": "7nXua5YPT4Ll",
    "outputId": "57588f2c-c9c3-4856-d929-b0eefe27833d"
   },
   "outputs": [
    {
     "name": "stdout",
     "output_type": "stream",
     "text": [
      "\u001b[38;5;2m✔ Generated output file (34 documents): Data/Discussions.spacy\u001b[0m\n"
     ]
    }
   ],
   "source": [
    "!python -m spacy convert Data/Discussions.json ./Data/ -t spacy"
   ]
  },
  {
   "cell_type": "code",
   "execution_count": 33,
   "metadata": {
    "colab": {
     "base_uri": "https://localhost:8080/"
    },
    "executionInfo": {
     "elapsed": 6686,
     "status": "ok",
     "timestamp": 1641122138712,
     "user": {
      "displayName": "Orla Mallon",
      "photoUrl": "https://lh3.googleusercontent.com/a/default-user=s64",
      "userId": "00844196707470386297"
     },
     "user_tz": -60
    },
    "id": "fBb1EgAvTtH9",
    "outputId": "6597a22f-f0e2-42b4-b800-15654207c3b8"
   },
   "outputs": [
    {
     "name": "stdout",
     "output_type": "stream",
     "text": [
      "\u001b[38;5;2m✔ Generated output file (30 documents): Data/Conclusions.spacy\u001b[0m\n"
     ]
    }
   ],
   "source": [
    "!python -m spacy convert Data/Conclusions.json ./Data/ -t spacy"
   ]
  },
  {
   "cell_type": "markdown",
   "metadata": {
    "id": "5s9Vl2M_UUE6"
   },
   "source": [
    "## Activate parallel processing using cuda"
   ]
  },
  {
   "cell_type": "code",
   "execution_count": null,
   "metadata": {
    "id": "h20MB5YJUVpV"
   },
   "outputs": [],
   "source": [
    "!wget https://developer.nvidia.com/compute/cuda/9.2/Prod/local_installers/cuda-repo-ubuntu1604-9-2-local_9.2.88-1_amd64 -O cuda-repo-ubuntu1604–9–2-local_9.2.88–1_amd64.deb\n",
    "!dpkg -i cuda-repo-ubuntu1604–9–2-local_9.2.88–1_amd64.deb\n",
    "!apt-key add /var/cuda-repo-9–2-local/7fa2af80.pub\n",
    "!apt-get update\n",
    "!apt-get install cuda-9.2"
   ]
  },
  {
   "cell_type": "code",
   "execution_count": 15,
   "metadata": {
    "colab": {
     "base_uri": "https://localhost:8080/"
    },
    "executionInfo": {
     "elapsed": 234,
     "status": "ok",
     "timestamp": 1641119284626,
     "user": {
      "displayName": "Orla Mallon",
      "photoUrl": "https://lh3.googleusercontent.com/a/default-user=s64",
      "userId": "00844196707470386297"
     },
     "user_tz": -60
    },
    "id": "VGiLxqdxUX5j",
    "outputId": "b77c87e6-268d-4194-efbf-7e7731221c5d"
   },
   "outputs": [
    {
     "name": "stdout",
     "output_type": "stream",
     "text": [
      "nvcc: NVIDIA (R) Cuda compiler driver\n",
      "Copyright (c) 2005-2018 NVIDIA Corporation\n",
      "Built on Wed_Apr_11_23:16:29_CDT_2018\n",
      "Cuda compilation tools, release 9.2, V9.2.88\n"
     ]
    }
   ],
   "source": [
    "!nvcc --version"
   ]
  },
  {
   "cell_type": "markdown",
   "metadata": {
    "id": "ht4DU4mYUhNI"
   },
   "source": [
    "### Dependencies: Download Spacy pipeline, torch, and the transformer models"
   ]
  },
  {
   "cell_type": "code",
   "execution_count": null,
   "metadata": {
    "id": "IrxX_W3sUfz3"
   },
   "outputs": [],
   "source": [
    "!python -m spacy download en_core_web_trf"
   ]
  },
  {
   "cell_type": "code",
   "execution_count": 17,
   "metadata": {
    "colab": {
     "base_uri": "https://localhost:8080/"
    },
    "executionInfo": {
     "elapsed": 165307,
     "status": "ok",
     "timestamp": 1641119522168,
     "user": {
      "displayName": "Orla Mallon",
      "photoUrl": "https://lh3.googleusercontent.com/a/default-user=s64",
      "userId": "00844196707470386297"
     },
     "user_tz": -60
    },
    "id": "7xrwWm2IUf96",
    "outputId": "5b37201b-6050-4e03-d252-da3e801ea569"
   },
   "outputs": [
    {
     "name": "stdout",
     "output_type": "stream",
     "text": [
      "Looking in links: https://download.pytorch.org/whl/torch_stable.html\n",
      "Collecting torch==1.7.1+cu92\n",
      "  Downloading https://download.pytorch.org/whl/cu92/torch-1.7.1%2Bcu92-cp37-cp37m-linux_x86_64.whl (577.3 MB)\n",
      "\u001b[K     |████████████████████████████████| 577.3 MB 3.5 kB/s \n",
      "\u001b[?25hCollecting torchvision==0.8.2+cu92\n",
      "  Downloading https://download.pytorch.org/whl/cu92/torchvision-0.8.2%2Bcu92-cp37-cp37m-linux_x86_64.whl (12.5 MB)\n",
      "\u001b[K     |████████████████████████████████| 12.5 MB 38.9 MB/s \n",
      "\u001b[?25hCollecting torchaudio==0.7.2\n",
      "  Downloading torchaudio-0.7.2-cp37-cp37m-manylinux1_x86_64.whl (7.6 MB)\n",
      "\u001b[K     |████████████████████████████████| 7.6 MB 5.3 MB/s \n",
      "\u001b[?25hRequirement already satisfied: numpy in /usr/local/lib/python3.7/dist-packages (from torch==1.7.1+cu92) (1.19.5)\n",
      "Requirement already satisfied: typing-extensions in /usr/local/lib/python3.7/dist-packages (from torch==1.7.1+cu92) (3.10.0.2)\n",
      "Requirement already satisfied: pillow>=4.1.1 in /usr/local/lib/python3.7/dist-packages (from torchvision==0.8.2+cu92) (7.1.2)\n",
      "Installing collected packages: torch, torchvision, torchaudio\n",
      "  Attempting uninstall: torch\n",
      "    Found existing installation: torch 1.10.0+cu111\n",
      "    Uninstalling torch-1.10.0+cu111:\n",
      "      Successfully uninstalled torch-1.10.0+cu111\n",
      "  Attempting uninstall: torchvision\n",
      "    Found existing installation: torchvision 0.11.1+cu111\n",
      "    Uninstalling torchvision-0.11.1+cu111:\n",
      "      Successfully uninstalled torchvision-0.11.1+cu111\n",
      "  Attempting uninstall: torchaudio\n",
      "    Found existing installation: torchaudio 0.10.0+cu111\n",
      "    Uninstalling torchaudio-0.10.0+cu111:\n",
      "      Successfully uninstalled torchaudio-0.10.0+cu111\n",
      "\u001b[31mERROR: pip's dependency resolver does not currently take into account all the packages that are installed. This behaviour is the source of the following dependency conflicts.\n",
      "torchtext 0.11.0 requires torch==1.10.0, but you have torch 1.7.1+cu92 which is incompatible.\u001b[0m\n",
      "Successfully installed torch-1.7.1+cu92 torchaudio-0.7.2 torchvision-0.8.2+cu92\n"
     ]
    }
   ],
   "source": [
    "!pip install torch==1.7.1+cu92 torchvision==0.8.2+cu92 torchaudio==0.7.2 -f https://download.pytorch.org/whl/torch_stable.html"
   ]
  },
  {
   "cell_type": "markdown",
   "metadata": {
    "id": "55Tm0KjCU01p"
   },
   "source": [
    "### Dependencies: Install cuda"
   ]
  },
  {
   "cell_type": "code",
   "execution_count": 18,
   "metadata": {
    "colab": {
     "base_uri": "https://localhost:8080/"
    },
    "executionInfo": {
     "elapsed": 1265709,
     "status": "ok",
     "timestamp": 1641120803045,
     "user": {
      "displayName": "Orla Mallon",
      "photoUrl": "https://lh3.googleusercontent.com/a/default-user=s64",
      "userId": "00844196707470386297"
     },
     "user_tz": -60
    },
    "id": "lH7lG-GPU2co",
    "outputId": "d2afc40a-9ed8-46b7-d1ac-9b30e3bcbad4"
   },
   "outputs": [
    {
     "name": "stdout",
     "output_type": "stream",
     "text": [
      "Requirement already satisfied: spacy[cuda92,transformers] in /usr/local/lib/python3.7/dist-packages (3.2.1)\n",
      "Requirement already satisfied: numpy>=1.15.0 in /usr/local/lib/python3.7/dist-packages (from spacy[cuda92,transformers]) (1.19.5)\n",
      "Requirement already satisfied: typer<0.5.0,>=0.3.0 in /usr/local/lib/python3.7/dist-packages (from spacy[cuda92,transformers]) (0.4.0)\n",
      "Requirement already satisfied: langcodes<4.0.0,>=3.2.0 in /usr/local/lib/python3.7/dist-packages (from spacy[cuda92,transformers]) (3.3.0)\n",
      "Requirement already satisfied: wasabi<1.1.0,>=0.8.1 in /usr/local/lib/python3.7/dist-packages (from spacy[cuda92,transformers]) (0.8.2)\n",
      "Requirement already satisfied: srsly<3.0.0,>=2.4.1 in /usr/local/lib/python3.7/dist-packages (from spacy[cuda92,transformers]) (2.4.2)\n",
      "Requirement already satisfied: spacy-loggers<2.0.0,>=1.0.0 in /usr/local/lib/python3.7/dist-packages (from spacy[cuda92,transformers]) (1.0.1)\n",
      "Requirement already satisfied: catalogue<2.1.0,>=2.0.6 in /usr/local/lib/python3.7/dist-packages (from spacy[cuda92,transformers]) (2.0.6)\n",
      "Requirement already satisfied: murmurhash<1.1.0,>=0.28.0 in /usr/local/lib/python3.7/dist-packages (from spacy[cuda92,transformers]) (1.0.6)\n",
      "Requirement already satisfied: cymem<2.1.0,>=2.0.2 in /usr/local/lib/python3.7/dist-packages (from spacy[cuda92,transformers]) (2.0.6)\n",
      "Requirement already satisfied: jinja2 in /usr/local/lib/python3.7/dist-packages (from spacy[cuda92,transformers]) (2.11.3)\n",
      "Requirement already satisfied: blis<0.8.0,>=0.4.0 in /usr/local/lib/python3.7/dist-packages (from spacy[cuda92,transformers]) (0.4.1)\n",
      "Requirement already satisfied: tqdm<5.0.0,>=4.38.0 in /usr/local/lib/python3.7/dist-packages (from spacy[cuda92,transformers]) (4.62.3)\n",
      "Requirement already satisfied: pydantic!=1.8,!=1.8.1,<1.9.0,>=1.7.4 in /usr/local/lib/python3.7/dist-packages (from spacy[cuda92,transformers]) (1.8.2)\n",
      "Requirement already satisfied: thinc<8.1.0,>=8.0.12 in /usr/local/lib/python3.7/dist-packages (from spacy[cuda92,transformers]) (8.0.13)\n",
      "Requirement already satisfied: setuptools in /usr/local/lib/python3.7/dist-packages (from spacy[cuda92,transformers]) (57.4.0)\n",
      "Requirement already satisfied: preshed<3.1.0,>=3.0.2 in /usr/local/lib/python3.7/dist-packages (from spacy[cuda92,transformers]) (3.0.6)\n",
      "Requirement already satisfied: requests<3.0.0,>=2.13.0 in /usr/local/lib/python3.7/dist-packages (from spacy[cuda92,transformers]) (2.23.0)\n",
      "Requirement already satisfied: pathy>=0.3.5 in /usr/local/lib/python3.7/dist-packages (from spacy[cuda92,transformers]) (0.6.1)\n",
      "Requirement already satisfied: spacy-legacy<3.1.0,>=3.0.8 in /usr/local/lib/python3.7/dist-packages (from spacy[cuda92,transformers]) (3.0.8)\n",
      "Requirement already satisfied: packaging>=20.0 in /usr/local/lib/python3.7/dist-packages (from spacy[cuda92,transformers]) (21.3)\n",
      "Requirement already satisfied: typing-extensions<4.0.0.0,>=3.7.4 in /usr/local/lib/python3.7/dist-packages (from spacy[cuda92,transformers]) (3.10.0.2)\n",
      "Collecting cupy-cuda92<10.0.0,>=5.0.0b4\n",
      "  Downloading cupy_cuda92-9.6.0-cp37-cp37m-manylinux1_x86_64.whl (55.0 MB)\n",
      "\u001b[K     |████████████████████████████████| 55.0 MB 35.5 MB/s \n",
      "\u001b[?25hRequirement already satisfied: spacy-transformers<1.2.0,>=1.1.2 in /usr/local/lib/python3.7/dist-packages (from spacy[cuda92,transformers]) (1.1.3)\n",
      "Requirement already satisfied: zipp>=0.5 in /usr/local/lib/python3.7/dist-packages (from catalogue<2.1.0,>=2.0.6->spacy[cuda92,transformers]) (3.6.0)\n",
      "Requirement already satisfied: fastrlock>=0.5 in /usr/local/lib/python3.7/dist-packages (from cupy-cuda92<10.0.0,>=5.0.0b4->spacy[cuda92,transformers]) (0.8)\n",
      "Requirement already satisfied: pyparsing!=3.0.5,>=2.0.2 in /usr/local/lib/python3.7/dist-packages (from packaging>=20.0->spacy[cuda92,transformers]) (3.0.6)\n",
      "Requirement already satisfied: smart-open<6.0.0,>=5.0.0 in /usr/local/lib/python3.7/dist-packages (from pathy>=0.3.5->spacy[cuda92,transformers]) (5.2.1)\n",
      "Requirement already satisfied: urllib3!=1.25.0,!=1.25.1,<1.26,>=1.21.1 in /usr/local/lib/python3.7/dist-packages (from requests<3.0.0,>=2.13.0->spacy[cuda92,transformers]) (1.24.3)\n",
      "Requirement already satisfied: chardet<4,>=3.0.2 in /usr/local/lib/python3.7/dist-packages (from requests<3.0.0,>=2.13.0->spacy[cuda92,transformers]) (3.0.4)\n",
      "Requirement already satisfied: certifi>=2017.4.17 in /usr/local/lib/python3.7/dist-packages (from requests<3.0.0,>=2.13.0->spacy[cuda92,transformers]) (2021.10.8)\n",
      "Requirement already satisfied: idna<3,>=2.5 in /usr/local/lib/python3.7/dist-packages (from requests<3.0.0,>=2.13.0->spacy[cuda92,transformers]) (2.10)\n",
      "Requirement already satisfied: spacy-alignments<1.0.0,>=0.7.2 in /usr/local/lib/python3.7/dist-packages (from spacy-transformers<1.2.0,>=1.1.2->spacy[cuda92,transformers]) (0.8.4)\n",
      "Requirement already satisfied: transformers<4.13.0,>=3.4.0 in /usr/local/lib/python3.7/dist-packages (from spacy-transformers<1.2.0,>=1.1.2->spacy[cuda92,transformers]) (4.12.5)\n",
      "Requirement already satisfied: torch>=1.6.0 in /usr/local/lib/python3.7/dist-packages (from spacy-transformers<1.2.0,>=1.1.2->spacy[cuda92,transformers]) (1.7.1+cu92)\n",
      "Requirement already satisfied: huggingface-hub<1.0,>=0.1.0 in /usr/local/lib/python3.7/dist-packages (from transformers<4.13.0,>=3.4.0->spacy-transformers<1.2.0,>=1.1.2->spacy[cuda92,transformers]) (0.2.1)\n",
      "Requirement already satisfied: regex!=2019.12.17 in /usr/local/lib/python3.7/dist-packages (from transformers<4.13.0,>=3.4.0->spacy-transformers<1.2.0,>=1.1.2->spacy[cuda92,transformers]) (2019.12.20)\n",
      "Requirement already satisfied: tokenizers<0.11,>=0.10.1 in /usr/local/lib/python3.7/dist-packages (from transformers<4.13.0,>=3.4.0->spacy-transformers<1.2.0,>=1.1.2->spacy[cuda92,transformers]) (0.10.3)\n",
      "Requirement already satisfied: filelock in /usr/local/lib/python3.7/dist-packages (from transformers<4.13.0,>=3.4.0->spacy-transformers<1.2.0,>=1.1.2->spacy[cuda92,transformers]) (3.4.0)\n",
      "Requirement already satisfied: pyyaml>=5.1 in /usr/local/lib/python3.7/dist-packages (from transformers<4.13.0,>=3.4.0->spacy-transformers<1.2.0,>=1.1.2->spacy[cuda92,transformers]) (6.0)\n",
      "Requirement already satisfied: sacremoses in /usr/local/lib/python3.7/dist-packages (from transformers<4.13.0,>=3.4.0->spacy-transformers<1.2.0,>=1.1.2->spacy[cuda92,transformers]) (0.0.46)\n",
      "Requirement already satisfied: importlib-metadata in /usr/local/lib/python3.7/dist-packages (from transformers<4.13.0,>=3.4.0->spacy-transformers<1.2.0,>=1.1.2->spacy[cuda92,transformers]) (4.8.2)\n",
      "Requirement already satisfied: click<9.0.0,>=7.1.1 in /usr/local/lib/python3.7/dist-packages (from typer<0.5.0,>=0.3.0->spacy[cuda92,transformers]) (7.1.2)\n",
      "Requirement already satisfied: MarkupSafe>=0.23 in /usr/local/lib/python3.7/dist-packages (from jinja2->spacy[cuda92,transformers]) (2.0.1)\n",
      "Requirement already satisfied: joblib in /usr/local/lib/python3.7/dist-packages (from sacremoses->transformers<4.13.0,>=3.4.0->spacy-transformers<1.2.0,>=1.1.2->spacy[cuda92,transformers]) (1.1.0)\n",
      "Requirement already satisfied: six in /usr/local/lib/python3.7/dist-packages (from sacremoses->transformers<4.13.0,>=3.4.0->spacy-transformers<1.2.0,>=1.1.2->spacy[cuda92,transformers]) (1.15.0)\n",
      "Installing collected packages: cupy-cuda92\n",
      "Successfully installed cupy-cuda92-9.6.0\n",
      "/bin/bash: -c: line 0: unexpected EOF while looking for matching `\"'\n",
      "/bin/bash: -c: line 1: syntax error: unexpected end of file\n",
      "Collecting cupy\n",
      "  Downloading cupy-10.0.0.tar.gz (1.7 MB)\n",
      "\u001b[K     |████████████████████████████████| 1.7 MB 5.0 MB/s \n",
      "\u001b[33mWARNING: Discarding https://files.pythonhosted.org/packages/d5/4f/ecc3ddd650de5fe40d994c9a3793dfb746904e4c20b3602cc44f7291b1b8/cupy-10.0.0.tar.gz#sha256=f54fb758746a21f3292deaa7de21e3204ff7ae1ef9c2bd5de2f67952ea51237e (from https://pypi.org/simple/cupy/) (requires-python:>=3.7). Command errored out with exit status 1: python setup.py egg_info Check the logs for full command output.\u001b[0m\n",
      "\u001b[?25h  Downloading cupy-9.6.0.tar.gz (1.6 MB)\n",
      "\u001b[K     |████████████████████████████████| 1.6 MB 34.8 MB/s \n",
      "\u001b[?25hRequirement already satisfied: numpy<1.24,>=1.17 in /usr/local/lib/python3.7/dist-packages (from cupy) (1.19.5)\n",
      "Requirement already satisfied: fastrlock>=0.5 in /usr/local/lib/python3.7/dist-packages (from cupy) (0.8)\n",
      "Building wheels for collected packages: cupy\n",
      "  Building wheel for cupy (setup.py) ... \u001b[?25l\u001b[?25hdone\n",
      "  Created wheel for cupy: filename=cupy-9.6.0-cp37-cp37m-linux_x86_64.whl size=53780857 sha256=886ca73d6af63ea05ca61bdd29a2e4211814bef3107954eb7a9f797d81d00754\n",
      "  Stored in directory: /root/.cache/pip/wheels/57/44/0b/5c540f032d681b9c7bcafad447177f7e356cba004e48df1d2a\n",
      "Successfully built cupy\n",
      "Installing collected packages: cupy\n",
      "Successfully installed cupy-9.6.0\n"
     ]
    }
   ],
   "source": [
    "!pip install -U spacy[cuda92,transformers]\n",
    "!export CUDA_PATH=”/usr/local/cuda-9.2\"\n",
    "!export LD_LIBRARY_PATH=$CUDA_PATH/lib64:$LD_LIBRARY_PATH\n",
    "!pip install cupy"
   ]
  },
  {
   "cell_type": "markdown",
   "metadata": {
    "id": "9UC4ulXpV8l5"
   },
   "source": [
    "## Merge the model Parameters for SciBERT \n",
    "\n",
    "Here, we define the model parameters we want to train our model on, using Spacy's training config file. This allows us to change the path directory to the train and development datasets, select the huggingface model we want to use, and reset any of Spacy's default parameters. The config file can be found in the data folder by the name of 'config_spacy.cfg'."
   ]
  },
  {
   "cell_type": "code",
   "execution_count": 36,
   "metadata": {
    "colab": {
     "base_uri": "https://localhost:8080/"
    },
    "executionInfo": {
     "elapsed": 6858,
     "status": "ok",
     "timestamp": 1641122254835,
     "user": {
      "displayName": "Orla Mallon",
      "photoUrl": "https://lh3.googleusercontent.com/a/default-user=s64",
      "userId": "00844196707470386297"
     },
     "user_tz": -60
    },
    "id": "Nya9hN4ufAmj",
    "outputId": "f5047cd2-f992-4809-fe7d-f2eceee09a4e"
   },
   "outputs": [
    {
     "name": "stdout",
     "output_type": "stream",
     "text": [
      "\u001b[38;5;2m✔ Auto-filled config with all values\u001b[0m\n",
      "\u001b[38;5;2m✔ Saved config\u001b[0m\n",
      "Data/config_spacy.cfg\n",
      "You can now add your data and train your pipeline:\n",
      "python -m spacy train config_spacy.cfg --paths.train ./train.spacy --paths.dev ./dev.spacy\n"
     ]
    }
   ],
   "source": [
    "!python -m spacy init fill-config /content/drive/MyDrive/Psychedelic_KGs/Data/base_config.cfg ./Data/config_spacy.cfg"
   ]
  },
  {
   "cell_type": "markdown",
   "metadata": {
    "id": "vUvbPyN_bLpZ"
   },
   "source": [
    "___Debug the config file before training___"
   ]
  },
  {
   "cell_type": "code",
   "execution_count": 37,
   "metadata": {
    "colab": {
     "base_uri": "https://localhost:8080/"
    },
    "executionInfo": {
     "elapsed": 16292,
     "status": "ok",
     "timestamp": 1641122272986,
     "user": {
      "displayName": "Orla Mallon",
      "photoUrl": "https://lh3.googleusercontent.com/a/default-user=s64",
      "userId": "00844196707470386297"
     },
     "user_tz": -60
    },
    "id": "_NUZ4fQGbKvO",
    "outputId": "2775e929-ed5c-4600-b161-8889925b70bf"
   },
   "outputs": [
    {
     "name": "stdout",
     "output_type": "stream",
     "text": [
      "\u001b[1m\n",
      "============================ Data file validation ============================\u001b[0m\n",
      "Some weights of the model checkpoint at allenai/scibert_scivocab_uncased were not used when initializing BertModel: ['cls.predictions.decoder.bias', 'cls.predictions.transform.dense.bias', 'cls.predictions.transform.LayerNorm.bias', 'cls.predictions.transform.LayerNorm.weight', 'cls.seq_relationship.weight', 'cls.seq_relationship.bias', 'cls.predictions.bias', 'cls.predictions.decoder.weight', 'cls.predictions.transform.dense.weight']\n",
      "- This IS expected if you are initializing BertModel from the checkpoint of a model trained on another task or with another architecture (e.g. initializing a BertForSequenceClassification model from a BertForPreTraining model).\n",
      "- This IS NOT expected if you are initializing BertModel from the checkpoint of a model that you expect to be exactly identical (initializing a BertForSequenceClassification model from a BertForSequenceClassification model).\n",
      "\u001b[38;5;2m✔ Pipeline can be initialized with data\u001b[0m\n",
      "\u001b[38;5;2m✔ Corpus is loadable\u001b[0m\n",
      "\u001b[1m\n",
      "=============================== Training stats ===============================\u001b[0m\n",
      "Language: en\n",
      "Training pipeline: transformer, ner\n",
      "34 training docs\n",
      "30 evaluation docs\n",
      "\u001b[38;5;2m✔ No overlap between training and evaluation data\u001b[0m\n",
      "\u001b[38;5;1m✘ Low number of examples to train a new pipeline (34)\u001b[0m\n",
      "\u001b[1m\n",
      "============================== Vocab & Vectors ==============================\u001b[0m\n",
      "\u001b[38;5;4mℹ 42910 total word(s) in the data (4935 unique)\u001b[0m\n",
      "\u001b[38;5;4mℹ No word vectors present in the package\u001b[0m\n",
      "\u001b[1m\n",
      "========================== Named Entity Recognition ==========================\u001b[0m\n",
      "\u001b[38;5;4mℹ 6 label(s)\u001b[0m\n",
      "0 missing value(s) (tokens with '-' label)\n",
      "\u001b[38;5;2m✔ Good amount of examples for all labels\u001b[0m\n",
      "\u001b[38;5;2m✔ Examples without occurrences available for all labels\u001b[0m\n",
      "\u001b[38;5;2m✔ No entities consisting of or starting/ending with whitespace\u001b[0m\n",
      "\u001b[1m\n",
      "================================== Summary ==================================\u001b[0m\n",
      "\u001b[38;5;2m✔ 6 checks passed\u001b[0m\n",
      "\u001b[38;5;1m✘ 1 error\u001b[0m\n"
     ]
    }
   ],
   "source": [
    "!python -m spacy debug data Data/config_spacy.cfg"
   ]
  },
  {
   "cell_type": "markdown",
   "metadata": {},
   "source": [
    "The model is informing us that we're low on data files, which is something we know due to the limited training data. "
   ]
  },
  {
   "cell_type": "markdown",
   "metadata": {},
   "source": [
    "## Train the Model\n",
    "\n",
    "Finally, with the files in the correct format, all the dependencies downloaded, and the config file ready, we can train the model on the GPU. This will take around 4.5hrs with parallel processing activated. "
   ]
  },
  {
   "cell_type": "code",
   "execution_count": 41,
   "metadata": {
    "colab": {
     "base_uri": "https://localhost:8080/"
    },
    "executionInfo": {
     "elapsed": 11245634,
     "status": "ok",
     "timestamp": 1641133673974,
     "user": {
      "displayName": "Orla Mallon",
      "photoUrl": "https://lh3.googleusercontent.com/a/default-user=s64",
      "userId": "00844196707470386297"
     },
     "user_tz": -60
    },
    "id": "2PrVgdw6fgu9",
    "outputId": "bde5b9b1-ea81-474e-89c7-6740ac94d9fe"
   },
   "outputs": [
    {
     "name": "stdout",
     "output_type": "stream",
     "text": [
      "\u001b[38;5;4mℹ Saving to output directory: .\u001b[0m\n",
      "\u001b[38;5;4mℹ Using GPU: 0\u001b[0m\n",
      "\u001b[1m\n",
      "=========================== Initializing pipeline ===========================\u001b[0m\n",
      "[2022-01-02 11:20:35,832] [INFO] Set up nlp object from config\n",
      "[2022-01-02 11:20:35,847] [INFO] Pipeline: ['transformer', 'ner']\n",
      "[2022-01-02 11:20:35,853] [INFO] Created vocabulary\n",
      "[2022-01-02 11:20:35,855] [INFO] Finished initializing nlp object\n",
      "Some weights of the model checkpoint at allenai/scibert_scivocab_uncased were not used when initializing BertModel: ['cls.predictions.decoder.bias', 'cls.seq_relationship.bias', 'cls.predictions.decoder.weight', 'cls.predictions.bias', 'cls.predictions.transform.dense.weight', 'cls.seq_relationship.weight', 'cls.predictions.transform.dense.bias', 'cls.predictions.transform.LayerNorm.bias', 'cls.predictions.transform.LayerNorm.weight']\n",
      "- This IS expected if you are initializing BertModel from the checkpoint of a model trained on another task or with another architecture (e.g. initializing a BertForSequenceClassification model from a BertForPreTraining model).\n",
      "- This IS NOT expected if you are initializing BertModel from the checkpoint of a model that you expect to be exactly identical (initializing a BertForSequenceClassification model from a BertForSequenceClassification model).\n",
      "[2022-01-02 11:21:30,955] [INFO] Initialized pipeline components: ['transformer', 'ner']\n",
      "\u001b[38;5;2m✔ Initialized pipeline\u001b[0m\n",
      "\u001b[1m\n",
      "============================= Training pipeline =============================\u001b[0m\n",
      "\u001b[38;5;4mℹ Pipeline: ['transformer', 'ner']\u001b[0m\n",
      "\u001b[38;5;4mℹ Initial learn rate: 0.0\u001b[0m\n",
      "E    #       LOSS TRANS...  LOSS NER  ENTS_F  ENTS_P  ENTS_R  SCORE \n",
      "---  ------  -------------  --------  ------  ------  ------  ------\n",
      "  0       0        2838.24   1712.26    2.94    1.67   12.08    0.03\n",
      "  8     200      233660.91  64396.95   55.09   62.07   49.53    0.55\n",
      " 17     400       15683.31  10860.65   61.08   68.11   55.36    0.61\n",
      " 26     600        2326.45   1773.89   63.70   65.34   62.14    0.64\n",
      " 34     800         807.35    759.02   63.57   66.13   61.19    0.64\n",
      " 43    1000         812.12    396.28   62.58   64.33   60.92    0.63\n",
      " 52    1200         243.45    248.12   63.82   69.66   58.89    0.64\n",
      " 60    1400         211.90    194.31   63.27   67.12   59.84    0.63\n",
      " 69    1600         183.08    182.43   63.10   67.60   59.16    0.63\n",
      " 78    1800         149.78    166.81   60.36   62.37   58.48    0.60\n",
      " 86    2000          77.97     71.82   61.71   63.86   59.70    0.62\n",
      " 95    2200         203.04    162.09   63.40   65.46   61.47    0.63\n",
      "104    2400         246.48    124.16   64.10   66.33   62.01    0.64\n",
      "113    2600          52.87     53.47   63.48   65.79   61.33    0.63\n",
      "121    2800          46.08     39.65   61.57   63.11   60.11    0.62\n",
      "130    3000         116.35     73.03   64.37   68.40   60.79    0.64\n",
      "139    3200          68.50     74.75   63.89   69.26   59.29    0.64\n",
      "147    3400         105.60    127.39   62.96   66.42   59.84    0.63\n",
      "156    3600         255.96    195.17   63.27   69.48   58.07    0.63\n",
      "165    3800         114.32    104.79   62.26   66.93   58.21    0.62\n",
      "173    4000         106.97     85.18   63.02   65.26   60.92    0.63\n",
      "182    4200          85.08     43.25   63.90   68.92   59.57    0.64\n",
      "191    4400          36.69     41.79   62.94   67.60   58.89    0.63\n",
      "200    4600         347.33     89.19   64.54   67.46   61.87    0.65\n",
      "208    4800          70.87     48.68   64.42   66.72   62.28    0.64\n",
      "217    5000         144.79     79.79   62.62   66.02   59.57    0.63\n",
      "226    5200          82.17     56.71   64.23   67.93   60.92    0.64\n",
      "234    5400          79.50     49.22   62.91   67.34   59.02    0.63\n",
      "243    5600          35.10     27.24   63.71   66.13   61.47    0.64\n",
      "252    5800         127.89     80.41   63.50   68.72   59.02    0.64\n",
      "260    6000          84.98     83.99   61.20   63.24   59.29    0.61\n",
      "269    6200          73.68     49.31   63.40   66.42   60.65    0.63\n",
      "\u001b[38;5;2m✔ Saved pipeline to output directory\u001b[0m\n",
      "model-last\n"
     ]
    }
   ],
   "source": [
    "!python -m spacy train Data/config_spacy.cfg --output ./ --gpu-id 0"
   ]
  },
  {
   "cell_type": "markdown",
   "metadata": {
    "id": "lHpQOCRH0SyI"
   },
   "source": [
    "## Evaluate the model qualitatively \n",
    "\n",
    "We know that the model can achieve around 64% accuracy, however we want to know more about what it is missing in the text. Therefore to see it working in action, we'll test it on the abstract of a top cited research paper, which is data the model has not seen before. \n",
    "\n",
    "The tested abstract is from 'The Entropic Brain Revisited' doi = 10.1016/j.neuropharm.2018.03.010 "
   ]
  },
  {
   "cell_type": "markdown",
   "metadata": {},
   "source": [
    "#### Load the best model saved in the Google Drive"
   ]
  },
  {
   "cell_type": "code",
   "execution_count": 51,
   "metadata": {
    "executionInfo": {
     "elapsed": 12857,
     "status": "ok",
     "timestamp": 1641134154313,
     "user": {
      "displayName": "Orla Mallon",
      "photoUrl": "https://lh3.googleusercontent.com/a/default-user=s64",
      "userId": "00844196707470386297"
     },
     "user_tz": -60
    },
    "id": "NsVSJoMMNzuO"
   },
   "outputs": [],
   "source": [
    "import spacy \n",
    "nlp = spacy.load('/content/drive/MyDrive/Psychedelic_KGs/model-best')"
   ]
  },
  {
   "cell_type": "code",
   "execution_count": 54,
   "metadata": {
    "executionInfo": {
     "elapsed": 230,
     "status": "ok",
     "timestamp": 1641134424632,
     "user": {
      "displayName": "Orla Mallon",
      "photoUrl": "https://lh3.googleusercontent.com/a/default-user=s64",
      "userId": "00844196707470386297"
     },
     "user_tz": -60
    },
    "id": "kNyzpr-O0Y_C"
   },
   "outputs": [],
   "source": [
    "# Test on text scraped from 'The Entropic Brain Revisited' doi = 10.1016/j.neuropharm.2018.03.010\n",
    "text = ['Research into the basic effects and therapeutic applications of psychedelic drugs has grown considerably in recent years. Yet, pressing questions remain regarding the substances’ lasting effects. Although individual studies have begun monitoring sustained changes, no study to-date has synthesized this information. Therefore, this systematic review aims to fill this important gap in the literature by synthesizing results from 34 contemporary experimental studies which included classic psychedelics, human subjects, and follow-up latencies of at least two weeks. The bulk of this work was published in the last five years, with psilocybin being the most frequently administered drug. Enduring changes in personality/attitudes, depression, spirituality, anxiety, wellbeing, substance misuse, meditative practices, and mindfulness were documented. Mystical experiences, connectedness, emotional breakthrough, and increased neural entropy were related to these long-term changes in psychological functioning. Finally, with proper screening, preparation, supervision, and integration, limited aversive side effects were noted by study participants. Future researchers should focus on including larger and more diverse samples, lengthier longitudinal designs, stronger control conditions, and standardized dosages.']"
   ]
  },
  {
   "cell_type": "markdown",
   "metadata": {},
   "source": [
    "#### Run the model through the models pipeline\n",
    "\n",
    "We run the text through the model's pipeline and ask it to extract the entity word and entity label assigned to it. "
   ]
  },
  {
   "cell_type": "code",
   "execution_count": 55,
   "metadata": {
    "colab": {
     "base_uri": "https://localhost:8080/"
    },
    "executionInfo": {
     "elapsed": 1189,
     "status": "ok",
     "timestamp": 1641134427105,
     "user": {
      "displayName": "Orla Mallon",
      "photoUrl": "https://lh3.googleusercontent.com/a/default-user=s64",
      "userId": "00844196707470386297"
     },
     "user_tz": -60
    },
    "id": "qLJa6xml0dgx",
    "outputId": "735329cd-1ed4-40bf-8425-e1062c859c7c"
   },
   "outputs": [
    {
     "name": "stdout",
     "output_type": "stream",
     "text": [
      "[('basic effects', 'OUTCOME'), ('therapeutic applications', 'OUTCOME'), ('psychedelic drugs', 'DRUG'), ('lasting effects', 'OUTCOME'), ('psychedelics', 'DRUG'), ('psilocybin', 'DRUG'), ('Enduring changes in personality/attitudes', 'OUTCOME'), ('depression', 'HEALTH'), ('spirituality', 'SUBJECTIVE'), ('anxiety', 'HEALTH'), ('mindfulness', 'SUBJECTIVE'), ('Mystical experiences', 'SUBJECTIVE'), ('connectedness', 'SUBJECTIVE'), ('emotional breakthrough', 'OUTCOME'), ('increased neural entropy', 'OUTCOME'), ('long-term changes in psychological functioning', 'OUTCOME'), ('limited aversive side effects', 'OUTCOME')]\n"
     ]
    }
   ],
   "source": [
    "for doc in nlp.pipe(text, disable=[\"tagger\", \"parser\"]):\n",
    "    print([(ent.text, ent.label_) for ent in doc.ents])"
   ]
  },
  {
   "cell_type": "markdown",
   "metadata": {
    "id": "av6LNajkPH1i"
   },
   "source": [
    "The model seems capable of capturing many of our entities. By eyeballing over the results, we see that the model missed 2 entities of 'sustained changes'and 'mystical experiences'. This is interesting because it shows that the model has generalised well, but lacks data as a term like 'mystical experiences' would surely be picked up with deeper learning. Nevertheless, from this one paragraph the model was able to capture 17 entities, without misclassifying any. \n"
   ]
  },
  {
   "cell_type": "markdown",
   "metadata": {
    "id": "xLjmPJjCRAfb"
   },
   "source": [
    "## Results"
   ]
  },
  {
   "cell_type": "markdown",
   "metadata": {
    "id": "YmKsJ5j_RHl0"
   },
   "source": [
    "The best model could achieve an f1 score of 64.5%, with a precision rate of 67.4% and recall of 61.8%. It was able to perform best on classifying the group 'Drug', followed by 'Health' which is unsurprising as these are quite clearly defined categories. It was not able to capture antidepressant drugs at all (f1 = 0) and struggled especially to capture neural correlates, which is unsurprising as these are often abbreviated, or joined in complex ways.  \n",
    "\n",
    "For more details on the models performance, check out the meta.json file in the 'data' folder. "
   ]
  },
  {
   "cell_type": "code",
   "execution_count": null,
   "metadata": {},
   "outputs": [],
   "source": []
  }
 ],
 "metadata": {
  "colab": {
   "authorship_tag": "ABX9TyMuEqfW08gR8LdVT8xAMBgU",
   "collapsed_sections": [],
   "mount_file_id": "1gsUxCsXPSvPvF6gIyo_LH0A7RBGRmaib",
   "name": "Named_Entity_Recognition.ipynb",
   "provenance": []
  },
  "kernelspec": {
   "display_name": "Python 3",
   "language": "python",
   "name": "python3"
  },
  "language_info": {
   "codemirror_mode": {
    "name": "ipython",
    "version": 3
   },
   "file_extension": ".py",
   "mimetype": "text/x-python",
   "name": "python",
   "nbconvert_exporter": "python",
   "pygments_lexer": "ipython3",
   "version": "3.6.9"
  }
 },
 "nbformat": 4,
 "nbformat_minor": 1
}
